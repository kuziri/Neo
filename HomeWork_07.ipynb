{
 "cells": [
  {
   "cell_type": "code",
   "execution_count": 2,
   "id": "54790c03-f01e-406b-ba4c-48eb0576b9bf",
   "metadata": {},
   "outputs": [
    {
     "name": "stdout",
     "output_type": "stream",
     "text": [
      "2002-10-02 00:00:00\n",
      "2013-10-11 00:00:00\n",
      "1977-08-18 00:00:00\n"
     ]
    }
   ],
   "source": [
    "from datetime import datetime\n",
    "str_first = 'The Moscow Times — Wednesday, October 2, 2002'\n",
    "list_first = str_first.strip().split(' — ')\n",
    "str_second = 'The Guardian — Friday, 11.10.13'\n",
    "list_second = str_second.strip().split(' — ')\n",
    "str_third = 'Daily News — Thursday, 18 August 1977'\n",
    "list_third = str_third.strip().split(' — ')\n",
    "first_date = datetime.strptime(list_first[1], '%A, %B %d, %Y')\n",
    "second_date = datetime.strptime(list_second[1], '%A, %d.%m.%y')\n",
    "third_date = datetime.strptime(list_third[1], '%A, %d %B %Y')\n",
    "print(first_date)\n",
    "print(second_date)\n",
    "print(third_date)"
   ]
  }
 ],
 "metadata": {
  "kernelspec": {
   "display_name": "Python 3 (ipykernel)",
   "language": "python",
   "name": "python3"
  },
  "language_info": {
   "codemirror_mode": {
    "name": "ipython",
    "version": 3
   },
   "file_extension": ".py",
   "mimetype": "text/x-python",
   "name": "python",
   "nbconvert_exporter": "python",
   "pygments_lexer": "ipython3",
   "version": "3.12.7"
  }
 },
 "nbformat": 4,
 "nbformat_minor": 5
}
