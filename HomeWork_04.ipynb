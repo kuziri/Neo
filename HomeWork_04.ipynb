{
 "cells": [
  {
   "cell_type": "code",
   "execution_count": null,
   "id": "33b4adfa-866c-452e-9b86-163f2c237a52",
   "metadata": {},
   "outputs": [],
   "source": [
    "directories = {\n",
    " '1': ['2207 876234', '11-2'],\n",
    " '2': ['10006'],\n",
    " '3': []\n",
    "}\n",
    "documents = [\n",
    " {'type': 'passport', 'number': '2207 876234', 'name': 'Василий Гупкин'},\n",
    " {'type': 'invoice', 'number': '11-2', 'name': 'Геннадий Покемонов'},\n",
    " {'type': 'insurance', 'number': '10006', 'name': 'Аристарх Павлов'}\n",
    "]\n",
    "\n",
    "def doc_owner(doc_num):\n",
    "    for i, line in enumerate(documents):\n",
    "        if line.get('number', None) == str(doc_num):\n",
    "            curr_name = line.get('name', None)\n",
    "            print('Владелец документа: ', curr_name)\n",
    "\n",
    "def doc_place(doc_num):\n",
    "    curr_place = None\n",
    "    for key, value in directories.items():\n",
    "        if str(doc_num) in value:\n",
    "            curr_place = key\n",
    "            print('Документ хранится на полке: ', curr_place)\n",
    "            break\n",
    "\n",
    "while(True):\n",
    "    match input_str('Введите команду: '):\n",
    "        case 'p':\n",
    "            doc_owner(input_str('Введите номер документа:'))\n",
    "        case 's':\n",
    "            doc_place(input_str('Введите номер документа:'))\n",
    "        case 'q':\n",
    "            break"
   ]
  }
 ],
 "metadata": {
  "kernelspec": {
   "display_name": "Python [conda env:Anaconda3]",
   "language": "python",
   "name": "conda-env-Anaconda3-py"
  },
  "language_info": {
   "codemirror_mode": {
    "name": "ipython",
    "version": 3
   },
   "file_extension": ".py",
   "mimetype": "text/x-python",
   "name": "python",
   "nbconvert_exporter": "python",
   "pygments_lexer": "ipython3",
   "version": "3.8.3"
  }
 },
 "nbformat": 4,
 "nbformat_minor": 5
}
