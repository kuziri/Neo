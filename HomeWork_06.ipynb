{
 "cells": [
  {
   "cell_type": "markdown",
   "id": "c975da3d-54ce-4032-8a3c-992d5fdf778c",
   "metadata": {},
   "source": [
    "### Тема Работа с файлами и пакетами\n",
    "Задание 1\n",
    "Переведите содержимое файла purchase_log.txt в словарь purchases вида:{‘1840e0b9d4’: ‘Продукты’, …}"
   ]
  },
  {
   "cell_type": "code",
   "execution_count": 2,
   "id": "9d0a56a7-83e9-4808-bb93-7cad68e6b5ec",
   "metadata": {},
   "outputs": [
    {
     "name": "stdout",
     "output_type": "stream",
     "text": [
      "1840e0b9d4 'Продукты'\n",
      "4e4f90fcfb 'Электроника'\n"
     ]
    }
   ],
   "source": [
    "import json\n",
    "txt_purchase = r'd:\\Home\\MomEdu\\Python\\purchase_log.txt'\n",
    "i = 0\n",
    "dict_main = {}\n",
    "with open(txt_purchase, encoding = 'utf-8') as f:\n",
    "    for i, line in enumerate(f):\n",
    "        line = line.strip()\n",
    "        dict_purchase = json.loads(line)\n",
    "        if i == 0:\n",
    "            first_col = list(dict_purchase.keys())[0]\n",
    "            second_col = list(dict_purchase.keys())[1]\n",
    "        else:\n",
    "            key_val = dict_purchase[first_col]\n",
    "            value_val =  dict_purchase[second_col]\n",
    "            dict_main[key_val] = value_val    \n",
    "        if i == 1 or i == 2:\n",
    "            print(f\"{key_val} '{value_val}'\")"
   ]
  },
  {
   "cell_type": "markdown",
   "id": "ba81f802-247f-4966-b047-086a34641a27",
   "metadata": {},
   "source": [
    "Задание 2 (необязательное)\n",
    "Для каждого user_id в файле visit_log.csv определите третий столбец с категорией покупки. Если покупка была, сам файл visit_log.csv изменять не надо.\n",
    "Запишите в файл funnel.csv визиты из файла visit_log.csv, в которых были покупки с указанием категории.\n",
    "\n",
    "Учтите условия для данных:\n",
    "● содержимое purchase_log.txt помещается в оперативную память компьютера;\n",
    "● содержимое visit_log.csv — нет, используйте только построчную обработку этого файла."
   ]
  },
  {
   "cell_type": "code",
   "execution_count": 7,
   "id": "5d9a6535-9ae3-40b2-ade6-87e6a157f26d",
   "metadata": {},
   "outputs": [
    {
     "ename": "SyntaxError",
     "evalue": "invalid syntax (900511354.py, line 12)",
     "output_type": "error",
     "traceback": [
      "\u001b[1;36m  Cell \u001b[1;32mIn[7], line 12\u001b[1;36m\u001b[0m\n\u001b[1;33m    if i in 1,2,3:\u001b[0m\n\u001b[1;37m             ^\u001b[0m\n\u001b[1;31mSyntaxError\u001b[0m\u001b[1;31m:\u001b[0m invalid syntax\n"
     ]
    }
   ],
   "source": [
    "txt_visit = r'd:\\Home\\MomEdu\\Python\\visit_log.csv'\n",
    "txt_funnel = r'd:\\Home\\MomEdu\\Python\\funnel.csv'\n",
    "i = 0\n",
    "with open(txt_visit, 'r') as f1:\n",
    "    with open(txt_funnel, 'w', encoding = 'cp1251') as f2write:\n",
    "        for i, line in enumerate(f1):\n",
    "            key, value = line.strip().split(',')\n",
    "            if key in dict_main.keys():\n",
    "                str_category = dict_main.get(key)\n",
    "                line2write = f'{key}, {value}, {str_category}'\n",
    "                f2write.write(line2write + ' \\n')\n",
    "            if i in [1,2,3]:\n",
    "                print(i, line2write)\n",
    "f2write.close()             "
   ]
  }
 ],
 "metadata": {
  "kernelspec": {
   "display_name": "Python 3 (ipykernel)",
   "language": "python",
   "name": "python3"
  },
  "language_info": {
   "codemirror_mode": {
    "name": "ipython",
    "version": 3
   },
   "file_extension": ".py",
   "mimetype": "text/x-python",
   "name": "python",
   "nbconvert_exporter": "python",
   "pygments_lexer": "ipython3",
   "version": "3.12.7"
  }
 },
 "nbformat": 4,
 "nbformat_minor": 5
}
