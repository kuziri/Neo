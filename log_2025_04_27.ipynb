{
 "cells": [
  {
   "cell_type": "code",
   "execution_count": 2,
   "metadata": {},
   "outputs": [
    {
     "name": "stdout",
     "output_type": "stream",
     "text": [
      "Не високосный год\n"
     ]
    }
   ],
   "source": [
    "year = 2021\n",
    "if year % 2 % 2 == 0:\n",
    "    print('Високосный год')\n",
    "else:\n",
    "    print('Обычный год')"
   ]
  },
  {
   "cell_type": "code",
   "execution_count": 13,
   "metadata": {},
   "outputs": [
    {
     "name": "stdout",
     "output_type": "stream",
     "text": [
      "Счастливый билет\n"
     ]
    }
   ],
   "source": [
    "number = 123321\n",
    "str_number = str(number)\n",
    "left_side = int(str_number[0]) + int(str_number[1]) + int(str_number[2])\n",
    "right_side = int(str_number[5]) + int(str_number[4]) + int(str_number[3])\n",
    "if left_side == right_side:\n",
    "    print('Счастливый билет')\n",
    "else:\n",
    "    print('Несчастливый билет')"
   ]
  },
  {
   "cell_type": "code",
   "execution_count": 14,
   "metadata": {},
   "outputs": [
    {
     "name": "stdout",
     "output_type": "stream",
     "text": [
      "\n",
      "Отличная работа, отправляйте на проверку!\n"
     ]
    }
   ],
   "source": [
    "def check_email(email: str) -> bool:\n",
    "    # мой вариант\n",
    "    if ('@' in email) and ('.' in email) and not (' ' in email):\n",
    "        answer = True\n",
    "    else:\n",
    "        answer = False\n",
    "    return answer\n",
    "    # вариант эксперта\n",
    "    #return \".\" in email and '@' in email and ' ' not in email\n",
    "\n",
    "if __name__ == '__main__':\n",
    "    assert check_email('Helloworld@.ru') is True\n",
    "    assert check_email('мояпочта@нетология.ру') is True\n",
    "    assert check_email('python@email@net') is False\n",
    "    assert check_email(' em@il.ru') is False\n",
    "    print(\"\\nОтличная работа, отправляйте на проверку!\")"
   ]
  },
  {
   "cell_type": "code",
   "execution_count": 31,
   "metadata": {},
   "outputs": [
    {
     "name": "stdout",
     "output_type": "stream",
     "text": [
      "\n",
      "Отличная работа, отправляйте на проверку!\n"
     ]
    }
   ],
   "source": [
    "def longest_film(film_1: str, film_2: str,film_3: str) -> str:\n",
    "    \n",
    "    film_list = [film_1, film_2, film_3]\n",
    "    # мой вариант\n",
    "    len_list = list(map(lambda x: len(str(x)), film_list))\n",
    "    max_len = max(len_list)\n",
    "    max_indices = [index for index, value in enumerate(len_list) if value == max_len]\n",
    "    return film_list[max_indices[0]]\n",
    "    # вариант эксперта\n",
    "    #return max(film_list, key = len)\n",
    "\n",
    "if __name__ == '__main__':\n",
    "    assert longest_film('Аладин', 'Мадагаскар', 'Бетховен') == 'Мадагаскар'\n",
    "    assert longest_film('Железный Человек', 'Стражи Галактики 2', 'Капитан Америка') == 'Стражи Галактики 2'\n",
    "    assert longest_film('Бумер', 'Бумер: Фильм второй', 'Бумеранг') == 'Бумер: Фильм второй'\n",
    "    assert longest_film('Гарри Поттер и философский камень', 'Пираты Карибского моря: На странных берегах',\n",
    "                        'ВАЛЛ·И') == 'Пираты Карибского моря: На странных берегах'\n",
    "    assert longest_film('Ирония судьбы, или С легким паром!', 'Иван Васильевич меняет профессию ',\n",
    "                        'Джентльмены удачи а') == 'Ирония судьбы, или С легким паром!'\n",
    "    print(\"\\nОтличная работа, отправляйте на проверку!\")"
   ]
  },
  {
   "cell_type": "code",
   "execution_count": 47,
   "metadata": {},
   "outputs": [
    {
     "name": "stdout",
     "output_type": "stream",
     "text": [
      "\n",
      "Отличная работа, отправляйте на проверку!\n"
     ]
    }
   ],
   "source": [
    "def string_slices(string: str) -> str:\n",
    "    clear_string = string.replace('%%', '').replace('&#', '')\n",
    "    return clear_string\n",
    "    \n",
    "if __name__ == '__main__':\n",
    "    assert string_slices(\"%%Приказ об увольнении&#\") == 'Приказ об увольнении'\n",
    "    assert string_slices(\"%%Лучший студент на курсе!&#\") == 'Лучший студент на курсе!'\n",
    "    assert string_slices(\"%%Hello World!&#\") == 'Hello World!'\n",
    "    print(\"\\nОтличная работа, отправляйте на проверку!\")"
   ]
  },
  {
   "cell_type": "code",
   "execution_count": 79,
   "metadata": {},
   "outputs": [
    {
     "name": "stdout",
     "output_type": "stream",
     "text": [
      "\n",
      "Отличная работа, отправляйте на проверку!\n"
     ]
    }
   ],
   "source": [
    "from typing import List\n",
    "\n",
    "\n",
    "def fio(initials: List[str]) -> str:\n",
    "    # мой вариант\n",
    "    return ''.join(map(lambda x: x[0], initials))\n",
    "\n",
    "\n",
    "if __name__ == '__main__':\n",
    "    assert fio(['Иванов', 'Иван', 'Иванович']) == 'ИИИ'\n",
    "    assert fio(['Жан', 'Клот', 'Вандамович']) == 'ЖКВ'\n",
    "    assert fio(['Павлов', 'Иван', 'Уралович']) == 'ПИУ'\n",
    "    assert fio(['Семейный', 'Доминик', 'Торретович']) == 'СДТ'\n",
    "    print(\"\\nОтличная работа, отправляйте на проверку!\")"
   ]
  },
  {
   "cell_type": "code",
   "execution_count": 81,
   "metadata": {},
   "outputs": [
    {
     "name": "stdout",
     "output_type": "stream",
     "text": [
      "\n",
      "Отличная работа, отправляйте на проверку!\n"
     ]
    }
   ],
   "source": [
    "def list_of_numbers(n: int) -> list:\n",
    "    # Напишите ваш код здесь\n",
    "    i = 0\n",
    "    num_list = []\n",
    "    while i < n:\n",
    "        i += 1\n",
    "        num_list.append(i)\n",
    "    return num_list\n",
    "\n",
    "    # решение эксперта\n",
    "    #return list(range(1, n + 1))\n",
    "\n",
    "\n",
    "if __name__ == '__main__':\n",
    "    assert list_of_numbers(1) == [1]\n",
    "    assert list_of_numbers(5) == [1, 2, 3, 4, 5]\n",
    "    assert list_of_numbers(9) == [1, 2, 3, 4, 5, 6, 7, 8, 9]\n",
    "    print(\"\\nОтличная работа, отправляйте на проверку!\")"
   ]
  },
  {
   "cell_type": "code",
   "execution_count": 85,
   "metadata": {},
   "outputs": [
    {
     "name": "stdout",
     "output_type": "stream",
     "text": [
      "\n",
      "Отличная работа, отправляйте на проверку!\n"
     ]
    }
   ],
   "source": [
    "def reverse(string: str) -> str:\n",
    "    # Напишите ваш код здесь\n",
    "    return string[::-1].lower()\n",
    "\n",
    "if __name__ == '__main__':\n",
    "    assert reverse('!dlroW olleH') == 'hello world!'\n",
    "    assert reverse('AvadaKedavraaaaA!') == '!aaaaarvadekadava'\n",
    "    assert reverse('хаЗерс хишав ХИТЭ в ясларбозар от-ценокан Я') == 'я наконец-то разобрался в этих ваших срезах'\n",
    "    print(\"\\nОтличная работа, отправляйте на проверку!\")"
   ]
  },
  {
   "cell_type": "code",
   "execution_count": 93,
   "metadata": {},
   "outputs": [
    {
     "name": "stdout",
     "output_type": "stream",
     "text": [
      "t\n"
     ]
    }
   ],
   "source": [
    "word = 'testing'\n",
    "word_len = len(word)\n",
    "if word_len % 2 == 0:\n",
    "    symbols = word[math.floor(word_len / 2 - 1)] + word[math.floor(word_len / 2)]\n",
    "else:\n",
    "    symbols = word[math.floor(word_len / 2 )]\n",
    "print(symbols)"
   ]
  },
  {
   "cell_type": "code",
   "execution_count": 94,
   "metadata": {},
   "outputs": [
    {
     "name": "stdout",
     "output_type": "stream",
     "text": [
      "\n",
      "Получилось!\n"
     ]
    }
   ],
   "source": [
    "import math\n",
    "def result(word: str) -> str:\n",
    "    word_len = len(word)\n",
    "    if word_len % 2 == 0:\n",
    "        symbols = word[math.floor(word_len / 2 - 1)] + word[math.floor(word_len / 2)]\n",
    "    else:\n",
    "        symbols = word[math.floor(word_len / 2)]\n",
    "    return symbols\n",
    "\n",
    "if __name__ == '__main__':\n",
    "    assert result('test') == 'es'\n",
    "    assert result('testing') == 't'\n",
    "    print(\"\\nПолучилось!\")"
   ]
  },
  {
   "cell_type": "code",
   "execution_count": 116,
   "metadata": {},
   "outputs": [
    {
     "name": "stdout",
     "output_type": "stream",
     "text": [
      "Внимание, кто-то может остаться без пары!\n"
     ]
    }
   ],
   "source": [
    "boys = ['Peter', 'Alex', 'John', 'Arthur', 'Richard', 'Michael']\n",
    "girls = ['Kate', 'Liza', 'Kira', 'Emma', 'Trisha']\n",
    "if len(boys) == len(girls):\n",
    "    boys = sorted(boys)\n",
    "    girls = sorted(girls)\n",
    "    #pairs = zip(boys, girls)\n",
    "    #pairs_str = ''.join(boys,' и ',girls)\n",
    "    #print(*boys, ' и ', *girls, sep='\\n')\n",
    "    message_str = 'Идеальные пары:'\n",
    "    for i in range(1, len(boys)):\n",
    "        message_str = message_str + \"\\n\" + boys[i] + ' и ' + girls[i]\n",
    "else:\n",
    "    message_str = 'Внимание, кто-то может остаться без пары!'\n",
    "    #pairs = []\n",
    "#z_str = [list(map(str, i)) for i in pairs]\n",
    "print(message_str)"
   ]
  },
  {
   "cell_type": "code",
   "execution_count": null,
   "metadata": {},
   "outputs": [],
   "source": [
    "def result(boys: list, girls: list) -> list:\n",
    "    word_len = len(word)\n",
    "    if word_len % 2 == 0:\n",
    "        symbols = word[math.floor(word_len / 2 - 1)] + word[math.floor(word_len / 2)]\n",
    "    else:\n",
    "        symbols = word[math.floor(word_len / 2)]\n",
    "    return symbols\n",
    "\n",
    "if __name__ == '__main__':\n",
    "    assert result( [‘Peter’, ‘Alex’, ‘John’, ‘Arthur’, ‘Richard’], [‘Kate’, ‘Liza’, ‘Kira’, ‘Emma’, ‘Trisha’]) == 'es'\n",
    "    assert result([‘Peter’, ‘Alex’, ‘John’, ‘Arthur’, ‘Richard’, ‘Michael’], [‘Kate’, ‘Liza’, ‘Kira’, ‘Emma’, ‘Trisha’]) == 'Внимание, кто-то может остаться без пары!'\n",
    "    print(\"\\nПолучилось!\")"
   ]
  },
  {
   "cell_type": "code",
   "execution_count": 12,
   "metadata": {},
   "outputs": [
    {
     "name": "stdout",
     "output_type": "stream",
     "text": [
      "{98, 35, 213, 54, 119, 15}\n"
     ]
    }
   ],
   "source": [
    "set_values = set([])\n",
    "ids = {'user1': [213, 213, 213, 15, 213], \n",
    "       'user2': [54, 54, 119, 119, 119], \n",
    "       'user3': [213, 98, 98, 35]}\n",
    "for value in ids.values():\n",
    "    set_values = set_values | set(value)\n",
    "print(set_values)"
   ]
  },
  {
   "cell_type": "code",
   "execution_count": 35,
   "metadata": {},
   "outputs": [
    {
     "name": "stdout",
     "output_type": "stream",
     "text": [
      "Поисковых запросов, содержащих 2 слов(а): 42.86 %\n",
      "Поисковых запросов, содержащих 3 слов(а): 57.14 %\n"
     ]
    }
   ],
   "source": [
    "queries = [\n",
    "    'смотреть сериалы онлайн',\n",
    "    'новости спорта',\n",
    "    'афиша кино',\n",
    "    'курс доллара',\n",
    "    'сериалы этим летом',\n",
    "    'курс по питону',\n",
    "    'сериалы про спорт',\n",
    "]\n",
    "list_que = [line.split() for line in queries]\n",
    "list_cnt = list(len(x) for x in list_que)\n",
    "cnt_2 = 0\n",
    "cnt_3 = 0\n",
    "for cnt in list_cnt:\n",
    "    if cnt == 2:\n",
    "        cnt_2 += 1\n",
    "    elif cnt == 3:\n",
    "        cnt_3 += 1\n",
    "print('Поисковых запросов, содержащих 2 слов(а):', \"{:2.2f}\".format(cnt_2 / len(queries) * 100), \"%\")\n",
    "print('Поисковых запросов, содержащих 3 слов(а):', \"{:2.2f}\".format(cnt_3 / len(queries) * 100), \"%\")"
   ]
  },
  {
   "cell_type": "code",
   "execution_count": 36,
   "metadata": {},
   "outputs": [
    {
     "name": "stdout",
     "output_type": "stream",
     "text": [
      "1 месяц время года: Зима\n",
      "4 месяц время года: Весна\n",
      "18 месяц: Некорректный номер месяца\n"
     ]
    }
   ],
   "source": [
    "def check_month(month: int):\n",
    "    if month in (1, 2, 12):\n",
    "        return 'Зима'\n",
    "    elif month in (3, 4, 5):\n",
    "        return 'Весна'\n",
    "    elif month in (6, 7, 8):\n",
    "        return 'Лето'\n",
    "    elif month in (9, 10, 11):\n",
    "        return 'Осень'\n",
    "    else:\n",
    "        return \"Некорректный номер месяца\"\n",
    "\n",
    "if __name__ == '__main__':\n",
    "    # Этот код менять не надо\n",
    "    season = check_month(1)\n",
    "    assert season == 'Зима', \"Ответ должен быть Зима\"\n",
    "    print(f\"1 месяц время года: {season}\")\n",
    "    season = check_month(4)\n",
    "    assert season == 'Весна', \"Ответ должен быть Весна\"\n",
    "    print(f\"4 месяц время года: {season}\")\n",
    "    season = check_month(18)\n",
    "    assert season == \"Некорректный номер месяца\", \"Ответ должен быть 'Некорректный номер месяца'\"\n",
    "    print(f\"18 месяц: {season}\")"
   ]
  },
  {
   "cell_type": "code",
   "execution_count": 42,
   "metadata": {},
   "outputs": [
    {
     "name": "stdout",
     "output_type": "stream",
     "text": [
      "Победитель: черепаха\n",
      "Победитель: заяц\n",
      "Победитель: одинаково\n"
     ]
    }
   ],
   "source": [
    "def solve(hare_distances: list, turtle_distances: list):\n",
    "    hare_all = 0 # подсчитайте общую дистанцию зайца\n",
    "    for dist in hare_distances:\n",
    "        hare_all += dist\n",
    "    turtle_all = 0 # подсчитайте общую дистанцию черепахи\n",
    "    for dist in turtle_distances:\n",
    "        turtle_all += dist\n",
    "    # определите, кто из двоих прошел бОльшую дистанцию\n",
    "    if hare_all > turtle_all:\n",
    "        result = \"заяц\"\n",
    "    elif  hare_all < turtle_all:\n",
    "        result = \"черепаха\"\n",
    "    else:\n",
    "        result = \"одинаково\"\n",
    "    return result\n",
    "\n",
    "if __name__ == '__main__':\n",
    "    # Этот код менять не надо\n",
    "    result = solve([8, 5, 3, 2, 0, 1, 1], [3, 3, 3, 3, 3, 3, 3])\n",
    "    assert result == \"черепаха\", f\"Победитель определен неверно: {result}\"\n",
    "    print(f\"Победитель: {result}\")\n",
    "    result = solve([8, 5, 3, 2, 2, 1, 1], [3, 3, 3, 3, 3, 3, 3])\n",
    "    assert result == \"заяц\", f\"Победитель определен неверно: {result}\"\n",
    "    print(f\"Победитель: {result}\")\n",
    "    result = solve([8, 5, 3, 2, 1, 1, 1], [3, 3, 3, 3, 3, 3, 3])\n",
    "    assert result == \"одинаково\", f\"Победитель определен неверно: {result}\"\n",
    "    print(f\"Победитель: {result}\")"
   ]
  },
  {
   "cell_type": "code",
   "execution_count": 41,
   "metadata": {},
   "outputs": [
    {
     "name": "stdout",
     "output_type": "stream",
     "text": [
      "черепаха\n"
     ]
    }
   ],
   "source": [
    "hare_distances = [8, 5, 3, 2, 0, 1, 1]\n",
    "\n",
    "turtle_distances = [3, 3, 3, 3, 3, 3, 3]\n",
    "\n",
    "hare_all = 0 # подсчитайте общую дистанцию зайца\n",
    "for dist in hare_distances:\n",
    "    hare_all += dist\n",
    "turtle_all = 0 # подсчитайте общую дистанцию черепахи\n",
    "for dist in turtle_distances:\n",
    "    turtle_all += dist\n",
    "# определите, кто из двоих прошел бОльшую дистанцию\n",
    "if hare_all > turtle_all:\n",
    "    result = \"заяц\"\n",
    "elif  hare_all < turtle_all:\n",
    "    result = \"черепаха\"\n",
    "else:\n",
    "    result = \"одинаково\"\n",
    "print(result)"
   ]
  },
  {
   "cell_type": "code",
   "execution_count": 11,
   "metadata": {},
   "outputs": [
    {
     "name": "stdout",
     "output_type": "stream",
     "text": [
      "Без пробелов нажалкабаннабаклажан\n",
      "Полиндром нажалкабаннабаклажан\n",
      "\n",
      "\n",
      "Без пробелов домоккакмод\n",
      "\n",
      "\n",
      "Без пробелов рвалдедлавр\n",
      "Полиндром рвалдедлавр\n",
      "\n",
      "\n",
      "Без пробелов азоткалийилактоза\n",
      "Полиндром азоткалийилактоза\n",
      "\n",
      "\n",
      "Без пробелов асобакабоса\n",
      "Полиндром асобакабоса\n",
      "\n",
      "\n",
      "Без пробелов тонетенот\n",
      "Полиндром тонетенот\n",
      "\n",
      "\n",
      "Без пробелов кармнамрак\n",
      "\n",
      "\n",
      "Без пробелов пустсуп\n",
      "Полиндром пустсуп\n",
      "\n",
      "\n"
     ]
    }
   ],
   "source": [
    "phrases = [\"нажал кабан на баклажан\", \"дом как комод\", \"рвал дед лавр\", \"азот калий и лактоза\",\n",
    "               \"а собака боса\", \"тонет енот\", \"карман мрак\", \"пуст суп\"]\n",
    "result = [] # список палиндромов    \n",
    "for phrase in phrases: # пройдите циклом по всем фразам\n",
    "    phrase = phrase.replace(' ', '') # сохраните фразу без пробелов\n",
    "    print('Без пробелов', phrase[::-1])\n",
    "    if phrase[::1] == phrase[::-1]: # сравните фразу с ней же, развернутой наоборот (через [::-1])\n",
    "        print('Полиндром', phrase)\n",
    "    print('\\n')"
   ]
  },
  {
   "cell_type": "code",
   "execution_count": 16,
   "metadata": {},
   "outputs": [
    {
     "name": "stdout",
     "output_type": "stream",
     "text": [
      "Палиндромы: ['нажал кабан на баклажан', 'рвал дед лавр', 'азот калий и лактоза', 'а собака боса', 'тонет енот', 'пуст суп']\n"
     ]
    }
   ],
   "source": [
    "def solve(phrases: list):\n",
    "    result = [] # список палиндромов    \n",
    "    for phrase in phrases: # пройдите циклом по всем фразам\n",
    "        phrase_ = phrase.replace(' ', '') # сохраните фразу без пробелов\n",
    "        if phrase_[::1] == phrase_[::-1]: # сравните фразу с ней же, развернутой наоборот (через [::-1])\n",
    "            result.append(phrase)\n",
    "    return result\n",
    "\n",
    "if __name__ == '__main__':\n",
    "    # Этот код менять не нужно\n",
    "    phrases = [\"нажал кабан на баклажан\", \"дом как комод\", \"рвал дед лавр\", \"азот калий и лактоза\",\n",
    "               \"а собака боса\", \"тонет енот\", \"карман мрак\", \"пуст суп\"]\n",
    "    result = solve(phrases)\n",
    "    assert result == [\"нажал кабан на баклажан\", \"рвал дед лавр\", \"азот калий и лактоза\",\n",
    "               \"а собака боса\", \"тонет енот\", \"пуст суп\"], f\"Неверный результат: {result}\"\n",
    "    print(f\"Палиндромы: {result}\")\n"
   ]
  },
  {
   "cell_type": "code",
   "execution_count": 496,
   "metadata": {},
   "outputs": [
    {
     "name": "stdout",
     "output_type": "stream",
     "text": [
      "Список покупок на 5 персон: Салат: картофель 500 гр., морковь 250 гр., огурцы 250 гр., горошек 150 гр., майонез 350 мл.Пицца: сыр 250 гр., томаты 250 гр., тесто 500 гр., бекон 150 гр., колбаса 150 гр., грибы 100 гр.Фруктовый десерт: хурма 300 гр., киви 300 гр., творог 300 гр., сахар 50 гр., мед 250 мл.\n"
     ]
    }
   ],
   "source": [
    "cook_book = [\n",
    "      ['Салат',\n",
    "          [\n",
    "            ['картофель', 100, 'гр.'],\n",
    "            ['морковь', 50, 'гр.'],\n",
    "            ['огурцы', 50, 'гр.'],\n",
    "            ['горошек', 30, 'гр.'],\n",
    "            ['майонез', 70, 'мл.'],\n",
    "          ]\n",
    "      ],\n",
    "      ['Пицца',\n",
    "          [\n",
    "            ['сыр', 50, 'гр.'],\n",
    "            ['томаты', 50, 'гр.'],\n",
    "            ['тесто', 100, 'гр.'],\n",
    "            ['бекон', 30, 'гр.'],\n",
    "            ['колбаса', 30, 'гр.'],\n",
    "            ['грибы', 20, 'гр.'],\n",
    "          ],\n",
    "      ],\n",
    "      ['Фруктовый десерт',\n",
    "          [\n",
    "            ['хурма', 60, 'гр.'],\n",
    "            ['киви', 60, 'гр.'],\n",
    "            ['творог', 60, 'гр.'],\n",
    "            ['сахар', 10, 'гр.'],\n",
    "            ['мед', 50, 'мл.'],\n",
    "          ]\n",
    "      ]\n",
    "    ] \n",
    "person = 5\n",
    "result = ''\n",
    "    # самостоятельно напишите код решения:\n",
    "for meal in cook_book:\n",
    "    str_new = []\n",
    "    for product in meal[1]:\n",
    "        product[1] = product[1] * person\n",
    "        str_new.append(f'{product[0]} {product[1]} {product[2]}')\n",
    "    result += f'{meal[0]}: {\", \".join(str_new)}' \n",
    "print(f'Список покупок на 5 персон: {result}')"
   ]
  },
  {
   "cell_type": "code",
   "execution_count": 137,
   "metadata": {},
   "outputs": [
    {
     "name": "stdout",
     "output_type": "stream",
     "text": [
      "Список покупок на 5 персон: ['Салаткартофель 500 гр. морковь 250 гр. огурцы 250 гр. горошек 150 гр. майонез 350 мл. ', 'Пиццасыр 250 гр. томаты 250 гр. тесто 500 гр. бекон 150 гр. колбаса 150 гр. грибы 100 гр. ', 'Фруктовый десертхурма 300 гр. киви 300 гр. творог 300 гр. сахар 50 гр. мед 250 мл. ']\n"
     ]
    }
   ],
   "source": [
    "cook_book = [\n",
    "      ['Салат',\n",
    "          [\n",
    "            ['картофель', 100, 'гр.'],\n",
    "            ['морковь', 50, 'гр.'],\n",
    "            ['огурцы', 50, 'гр.'],\n",
    "            ['горошек', 30, 'гр.'],\n",
    "            ['майонез', 70, 'мл.'],\n",
    "          ]\n",
    "      ],\n",
    "      ['Пицца',\n",
    "          [\n",
    "            ['сыр', 50, 'гр.'],\n",
    "            ['томаты', 50, 'гр.'],\n",
    "            ['тесто', 100, 'гр.'],\n",
    "            ['бекон', 30, 'гр.'],\n",
    "            ['колбаса', 30, 'гр.'],\n",
    "            ['грибы', 20, 'гр.'],\n",
    "          ],\n",
    "      ],\n",
    "      ['Фруктовый десерт',\n",
    "          [\n",
    "            ['хурма', 60, 'гр.'],\n",
    "            ['киви', 60, 'гр.'],\n",
    "            ['творог', 60, 'гр.'],\n",
    "            ['сахар', 10, 'гр.'],\n",
    "            ['мед', 50, 'мл.'],\n",
    "          ]\n",
    "      ]\n",
    "    ] \n",
    "person = 5\n",
    "result = []\n",
    "    # самостоятельно напишите код решения:\n",
    "for meal in cook_book:\n",
    "    str_res = ''\n",
    "    str_meal = f'{meal[0]}'\n",
    "    res_meal = []\n",
    "    str_new = ''\n",
    "    for product in meal[1]:\n",
    "        pr_cap, pr_w, pr_un = product\n",
    "        pr_w = pr_w * person\n",
    "        #str_new.append(f'{product[0]} {product[1]} {product[2]}')\n",
    "        str_new += f'{pr_cap} {pr_w} {pr_un} '\n",
    "        res_meal.append(str_new)\n",
    "        #print(res_meal)\n",
    "    #str_meal = str_meal + f'{str_new}'\n",
    "    #str_meal += '\\n'\n",
    "    #print(f\"Список ингридиентов на 5 персон: {res_meal}\")   \n",
    "    str_res = str_meal + str_new\n",
    "    result.append(str_res) \n",
    "#print(*result, sep = '\\n')\n",
    "print(f\"Список покупок на 5 персон: {result}\")"
   ]
  },
  {
   "cell_type": "code",
   "execution_count": 505,
   "metadata": {},
   "outputs": [
    {
     "name": "stdout",
     "output_type": "stream",
     "text": [
      "['Салат: картофель 500 гр., морковь 250 гр., огурцы 250 гр., горошек 150 гр., майонез 350 мл.', 'Пицца: сыр 250 гр., томаты 250 гр., тесто 500 гр., бекон 150 гр., колбаса 150 гр., грибы 100 гр.', 'Фруктовый десерт: хурма 300 гр., киви 300 гр., творог 300 гр., сахар 50 гр., мед 250 мл.'] \n",
      "\n",
      "Список покупок на 5 персон: ['Салат: картофель 500 гр., морковь 250 гр., огурцы 250 гр., горошек 150 гр., майонез 350 мл.', 'Пицца: сыр 250 гр., томаты 250 гр., тесто 500 гр., бекон 150 гр., колбаса 150 гр., грибы 100 гр.', 'Фруктовый десерт: хурма 300 гр., киви 300 гр., творог 300 гр., сахар 50 гр., мед 250 мл.']\n"
     ]
    }
   ],
   "source": [
    "def solve(cook_book: list, person: int):\n",
    "    lst_res = []\n",
    "    # самостоятельно напишите код решения:\n",
    "    for meal in cook_book:\n",
    "        lst_new = []\n",
    "        for product in meal[1]:\n",
    "            product[1] = product[1] * person\n",
    "            lst_new.append(f'{product[0]} {product[1]} {product[2]}')\n",
    "        lst_res.append(f'{meal[0]}: {\", \".join(lst_new)}')\n",
    "    return lst_res\n",
    "\n",
    "if __name__ == '__main__':\n",
    "    # Этот код менять не нужно\n",
    "    cook_book = [\n",
    "      ['Салат',\n",
    "          [\n",
    "            ['картофель', 100, 'гр.'],\n",
    "            ['морковь', 50, 'гр.'],\n",
    "            ['огурцы', 50, 'гр.'],\n",
    "            ['горошек', 30, 'гр.'],\n",
    "            ['майонез', 70, 'мл.'],\n",
    "          ]\n",
    "      ],\n",
    "      ['Пицца',\n",
    "          [\n",
    "            ['сыр', 50, 'гр.'],\n",
    "            ['томаты', 50, 'гр.'],\n",
    "            ['тесто', 100, 'гр.'],\n",
    "            ['бекон', 30, 'гр.'],\n",
    "            ['колбаса', 30, 'гр.'],\n",
    "            ['грибы', 20, 'гр.'],\n",
    "          ],\n",
    "      ],\n",
    "      ['Фруктовый десерт',\n",
    "          [\n",
    "            ['хурма', 60, 'гр.'],\n",
    "            ['киви', 60, 'гр.'],\n",
    "            ['творог', 60, 'гр.'],\n",
    "            ['сахар', 10, 'гр.'],\n",
    "            ['мед', 50, 'мл.'],\n",
    "          ]\n",
    "      ]\n",
    "    ]\n",
    "\n",
    "    result = solve(cook_book, 5)\n",
    "    print(result)\n",
    "    assert result == ['Салат: картофель 500 гр., морковь 250 гр., огурцы 250 гр., горошек 150 гр., майонез 350 мл.',\n",
    "                      'Пицца: сыр 250 гр., томаты 250 гр., тесто 500 гр., бекон 150 гр., колбаса 150 гр., грибы 100 гр.',\n",
    "                      'Фруктовый десерт: хурма 300 гр., киви 300 гр., творог 300 гр., сахар 50 гр., мед 250 мл.'],\\\n",
    "            f\"Неверный результат: {result}\"\n",
    "    print(f\"Список покупок на 5 персон: {result}\")\n"
   ]
  },
  {
   "cell_type": "code",
   "execution_count": null,
   "metadata": {},
   "outputs": [],
   "source": [
    "for i, meal in enumerate(cook_book):\n",
    "    print(f'{meal[0]}:', end = ' ')\n",
    "    for j, list_meal in enumerate(meal[1]):\n",
    "        list_meal[1] = list_meal[1] * person\n",
    "        print(list_meal[0], list_meal[1], list_meal[2], end = ', ')\n",
    "    print('')"
   ]
  },
  {
   "cell_type": "code",
   "execution_count": 143,
   "metadata": {},
   "outputs": [
    {
     "name": "stdout",
     "output_type": "stream",
     "text": [
      "['500 ГБ 2.5\" SATA накопитель Samsung 870 EVO', '480 ГБ 2.5\" SATA накопитель WD Green'] 2\n"
     ]
    }
   ],
   "source": [
    "models = ['480 ГБ 2.5\" SATA накопитель Kingston A400', '500 ГБ 2.5\" SATA накопитель Samsung 870 EVO',\n",
    "              '480 ГБ 2.5\" SATA накопитель ADATA SU650', '240 ГБ 2.5\" SATA накопитель ADATA SU650',\n",
    "              '250 ГБ 2.5\" SATA накопитель Samsung 870 EVO', '256 ГБ 2.5\" SATA накопитель Apacer AS350 PANTHER',\n",
    "              '480 ГБ 2.5\" SATA накопитель WD Green', '500 ГБ 2.5\" SATA накопитель WD Red SA500']\n",
    "available = [1, 1, 1, 1, 0, 1, 1, 0]\n",
    "manufacturers = ['Intel', 'Samsung', 'WD']\n",
    "\n",
    "repair_count = 0 # количество дисков, которые купит сисадмин\n",
    "ssds = [] # модели дисков из списка models, которые купит сисадмин\n",
    "\n",
    "    # код вашего решения ниже:\n",
    "for num, model in enumerate(models):\n",
    "    list_model = model.split(sep = ' ')\n",
    "    if (list_model[5] in manufacturers) & (available[num] == 1):\n",
    "        repair_count += 1\n",
    "        ssds.append(model)\n",
    "print(ssds, repair_count) # Этот код менять не нужно\n"
   ]
  },
  {
   "cell_type": "code",
   "execution_count": 144,
   "metadata": {},
   "outputs": [
    {
     "name": "stdout",
     "output_type": "stream",
     "text": [
      "Сисадмин Василий сможет купить диски: ['500 ГБ 2.5\" SATA накопитель Samsung 870 EVO', '480 ГБ 2.5\" SATA накопитель WD Green'] и починить 2 компьютера\n"
     ]
    }
   ],
   "source": [
    "def solve(models: list, available: list, manufacturers: list):\n",
    "    repair_count = 0 # количество дисков, которые купит сисадмин\n",
    "    ssds = [] # модели дисков из списка models, которые купит сисадмин\n",
    "    # код вашего решения ниже:\n",
    "    for num, model in enumerate(models):\n",
    "        list_model = model.split(sep = ' ')\n",
    "        if (list_model[5] in manufacturers) & (available[num] == 1):\n",
    "            repair_count += 1\n",
    "            ssds.append(model)\n",
    "    return ssds, repair_count # Этот код менять не нужно\n",
    "\n",
    "if __name__ == '__main__':\n",
    "    # Этот код менять не нужно\n",
    "    models = ['480 ГБ 2.5\" SATA накопитель Kingston A400', '500 ГБ 2.5\" SATA накопитель Samsung 870 EVO',\n",
    "              '480 ГБ 2.5\" SATA накопитель ADATA SU650', '240 ГБ 2.5\" SATA накопитель ADATA SU650',\n",
    "              '250 ГБ 2.5\" SATA накопитель Samsung 870 EVO', '256 ГБ 2.5\" SATA накопитель Apacer AS350 PANTHER',\n",
    "              '480 ГБ 2.5\" SATA накопитель WD Green', '500 ГБ 2.5\" SATA накопитель WD Red SA500']\n",
    "    available = [1, 1, 1, 1, 0, 1, 1, 0]\n",
    "    manufacturers = ['Intel', 'Samsung', 'WD']\n",
    "\n",
    "    result = solve(models, available, manufacturers)\n",
    "    assert result == (['500 ГБ 2.5\" SATA накопитель Samsung 870 EVO', '480 ГБ 2.5\" SATA накопитель WD Green'], 2), \\\n",
    "        f\"Неверный результат: {result}\"\n",
    "    print(f\"Сисадмин Василий сможет купить диски: {result[0]} и починить {result[1]} компьютера\")\n"
   ]
  },
  {
   "cell_type": "code",
   "execution_count": 194,
   "metadata": {},
   "outputs": [
    {
     "name": "stdout",
     "output_type": "stream",
     "text": [
      "[['Александр', 10], ['Евгений', 5], ['Максим', 4]]\n",
      "Александр: 10 раз(а), Евгений: 5 раз(а), Максим: 4 раз(а)\n"
     ]
    }
   ],
   "source": [
    "courses = [\"Python-разработчик с нуля\", \"Java-разработчик с нуля\", \"Fullstack-разработчик на Python\", \"Frontend-разработчик с нуля\"]\n",
    "\n",
    "mentors = [\n",
    "\t[\"Евгений Шмаргунов\", \"Олег Булыгин\", \"Дмитрий Демидов\", \"Кирилл Табельский\", \"Александр Ульянцев\", \"Александр Бардин\", \"Александр Иванов\", \"Антон Солонилин\", \"Максим Филипенко\", \"Елена Никитина\", \"Азамат Искаков\", \"Роман Гордиенко\"],\n",
    "\t[\"Филипп Воронов\", \"Анна Юшина\", \"Иван Бочаров\", \"Анатолий Корсаков\", \"Юрий Пеньков\", \"Илья Сухачев\", \"Иван Маркитан\", \"Ринат Бибиков\", \"Вадим Ерошевичев\", \"Тимур Сейсембаев\", \"Максим Батырев\", \"Никита Шумский\", \"Алексей Степанов\", \"Денис Коротков\", \"Антон Глушков\", \"Сергей Индюков\", \"Максим Воронцов\", \"Евгений Грязнов\", \"Константин Виролайнен\", \"Сергей Сердюк\", \"Павел Дерендяев\"],\n",
    "\t[\"Евгений Шмаргунов\", \"Олег Булыгин\", \"Александр Бардин\", \"Александр Иванов\", \"Кирилл Табельский\", \"Александр Ульянцев\", \"Роман Гордиенко\", \"Адилет Асканжоев\", \"Александр Шлейко\", \"Алена Батицкая\", \"Денис Ежков\", \"Владимир Чебукин\", \"Эдгар Нуруллин\", \"Евгений Шек\", \"Максим Филипенко\", \"Елена Никитина\"],\n",
    "\t[\"Владимир Чебукин\", \"Эдгар Нуруллин\", \"Евгений Шек\", \"Валерий Хаслер\", \"Татьяна Тен\", \"Александр Фитискин\", \"Александр Шлейко\", \"Алена Батицкая\", \"Александр Беспоясов\", \"Денис Ежков\", \"Николай Лопин\", \"Михаил Ларченко\"]\n",
    "]\n",
    "# Добавьте в список всех преподавателей со всех курсов\n",
    "all_list = []\n",
    "for m in mentors:\n",
    "# Допишите здесь ваш код, который заполнит all_list. Можете как складывать списки, так и использовать метод extend\n",
    "    for lst_item in m:\n",
    "        all_list.append(lst_item)\n",
    "# Сделайте список all_names_list, состоящий только из имён, и заполните его\n",
    "all_names_list = []\n",
    "for mentor in all_list:\n",
    "    name = mentor.split()[0]\n",
    "    all_names_list.append(name)\n",
    "# Сделайте так, чтобы остались только уникальные имена (без повторений) - допишите ниже ваш код\n",
    "unique_names = set(all_names_list)\n",
    "\n",
    "# Подсчитайте встречаемость каждого имени через list.count()\n",
    "popular = []\n",
    "for name in unique_names:\n",
    "    popular.append([name, all_names_list.count(name)])\n",
    "popular.sort(key=lambda x:x[1], reverse=True)\n",
    "top_3 = popular[:3]\n",
    "#popular_sorted = sorted(popular[1])\n",
    "print(top_3)\n",
    "top_3_output = []\n",
    "for item in top_3:\n",
    "    top_3_output.append(f'{item[0]}: {item[1]} раз(а)')\n",
    "print(', '.join(top_3_output))"
   ]
  },
  {
   "cell_type": "code",
   "execution_count": null,
   "metadata": {},
   "outputs": [],
   "source": [
    "courses = [\"Python-разработчик с нуля\", \"Java-разработчик с нуля\", \"Fullstack-разработчик на Python\", \"Frontend-разработчик с нуля\"]\n",
    "\n",
    "mentors = [\n",
    "\t[\"Евгений Шмаргунов\", \"Олег Булыгин\", \"Дмитрий Демидов\", \"Кирилл Табельский\", \"Александр Ульянцев\", \"Александр Бардин\", \"Александр Иванов\", \"Антон Солонилин\", \"Максим Филипенко\", \"Елена Никитина\", \"Азамат Искаков\", \"Роман Гордиенко\"],\n",
    "\t[\"Филипп Воронов\", \"Анна Юшина\", \"Иван Бочаров\", \"Анатолий Корсаков\", \"Юрий Пеньков\", \"Илья Сухачев\", \"Иван Маркитан\", \"Ринат Бибиков\", \"Вадим Ерошевичев\", \"Тимур Сейсембаев\", \"Максим Батырев\", \"Никита Шумский\", \"Алексей Степанов\", \"Денис Коротков\", \"Антон Глушков\", \"Сергей Индюков\", \"Максим Воронцов\", \"Евгений Грязнов\", \"Константин Виролайнен\", \"Сергей Сердюк\", \"Павел Дерендяев\"],\n",
    "\t[\"Евгений Шмаргунов\", \"Олег Булыгин\", \"Александр Бардин\", \"Александр Иванов\", \"Кирилл Табельский\", \"Александр Ульянцев\", \"Роман Гордиенко\", \"Адилет Асканжоев\", \"Александр Шлейко\", \"Алена Батицкая\", \"Денис Ежков\", \"Владимир Чебукин\", \"Эдгар Нуруллин\", \"Евгений Шек\", \"Максим Филипенко\", \"Елена Никитина\"],\n",
    "\t[\"Владимир Чебукин\", \"Эдгар Нуруллин\", \"Евгений Шек\", \"Валерий Хаслер\", \"Татьяна Тен\", \"Александр Фитискин\", \"Александр Шлейко\", \"Алена Батицкая\", \"Александр Беспоясов\", \"Денис Ежков\", \"Николай Лопин\", \"Михаил Ларченко\"]\n",
    "]\n",
    "\n",
    "# Добавьте в список всех преподавателей со всех курсов\n",
    "all_list = []\n",
    "for m in mentors:\n",
    "# Допишите здесь ваш код, который заполнит all_list. Можете как складывать списки, так и использовать метод extend\n",
    "    for lst_item in m:\n",
    "        all_list.append(lst_item)\n",
    "# Сделайте список all_names_list, состоящий только из имён, и заполните его\n",
    "all_names_list = []\n",
    "for mentor in all_list:\n",
    "    name = mentor.split()[0]\n",
    "    all_names_list.append(name)\n",
    "# Сделайте так, чтобы остались только уникальные имена (без повторений) - допишите ниже ваш код\n",
    "unique_names = set(all_names_list)\n",
    "# Теперь необходимо отсортировать имена в алфавитном порядке. Подсказка: используйте sorted() для списка\n",
    "# Допишите код ниже\n",
    "all_names_sorted = sorted(unique_names)\n",
    "# Допишите конструкцию вывода результата. Используйте string.join()\n",
    "# Результат будет в all_names_sorted\n",
    "all_names_sorted_str = ', '.join(all_names_sorted)\n",
    "print(f'Уникальные имена преподавателей: {all_names_sorted_str}')"
   ]
  },
  {
   "cell_type": "code",
   "execution_count": 263,
   "metadata": {},
   "outputs": [
    {
     "name": "stdout",
     "output_type": "stream",
     "text": [
      "На курсах 'Python-разработчик с нуля' и 'Java-разработчик с нуля' преподают: Антон, Евгений, Максим\n",
      "На курсах 'Python-разработчик с нуля' и 'Fullstack-разработчик на Python' преподают: Александр, Евгений, Елена, Кирилл, Максим, Олег, Роман\n",
      "На курсах 'Python-разработчик с нуля' и 'Frontend-разработчик с нуля' преподают: Александр, Евгений\n",
      "На курсах 'Java-разработчик с нуля' и 'Fullstack-разработчик на Python' преподают: Денис, Евгений, Максим\n",
      "На курсах 'Java-разработчик с нуля' и 'Frontend-разработчик с нуля' преподают: Денис, Евгений\n",
      "На курсах 'Fullstack-разработчик на Python' и 'Frontend-разработчик с нуля' преподают: Александр, Алена, Владимир, Денис, Евгений, Эдгар\n"
     ]
    }
   ],
   "source": [
    "courses = [\"Python-разработчик с нуля\", \"Java-разработчик с нуля\", \"Fullstack-разработчик на Python\", \"Frontend-разработчик с нуля\"]\n",
    "\n",
    "mentors = [\n",
    "\t[\"Евгений Шмаргунов\", \"Олег Булыгин\", \"Дмитрий Демидов\", \"Кирилл Табельский\", \"Александр Ульянцев\", \"Александр Бардин\", \"Александр Иванов\", \"Антон Солонилин\", \"Максим Филипенко\", \"Елена Никитина\", \"Азамат Искаков\", \"Роман Гордиенко\"],\n",
    "\t[\"Филипп Воронов\", \"Анна Юшина\", \"Иван Бочаров\", \"Анатолий Корсаков\", \"Юрий Пеньков\", \"Илья Сухачев\", \"Иван Маркитан\", \"Ринат Бибиков\", \"Вадим Ерошевичев\", \"Тимур Сейсембаев\", \"Максим Батырев\", \"Никита Шумский\", \"Алексей Степанов\", \"Денис Коротков\", \"Антон Глушков\", \"Сергей Индюков\", \"Максим Воронцов\", \"Евгений Грязнов\", \"Константин Виролайнен\", \"Сергей Сердюк\", \"Павел Дерендяев\"],\n",
    "\t[\"Евгений Шмаргунов\", \"Олег Булыгин\", \"Александр Бардин\", \"Александр Иванов\", \"Кирилл Табельский\", \"Александр Ульянцев\", \"Роман Гордиенко\", \"Адилет Асканжоев\", \"Александр Шлейко\", \"Алена Батицкая\", \"Денис Ежков\", \"Владимир Чебукин\", \"Эдгар Нуруллин\", \"Евгений Шек\", \"Максим Филипенко\", \"Елена Никитина\"],\n",
    "\t[\"Владимир Чебукин\", \"Эдгар Нуруллин\", \"Евгений Шек\", \"Валерий Хаслер\", \"Татьяна Тен\", \"Александр Фитискин\", \"Александр Шлейко\", \"Алена Батицкая\", \"Александр Беспоясов\", \"Денис Ежков\", \"Николай Лопин\", \"Михаил Ларченко\"]\n",
    "]\n",
    "\n",
    "#mentors_courses = zip(courses, mentors)\n",
    "#print(list(mentors_courses))\n",
    "# Делаем список списков имён\n",
    "mentors_names = []\n",
    "for m in mentors:\n",
    "    course_names = []\n",
    "    for name in m:\n",
    "        course_names.append(name.split()[0])\n",
    "        # print(list(course_names))\n",
    "    mentors_names.append(course_names)\n",
    "# Храните здесь пары курсов, в которых есть совпавшие имена\n",
    "pairs = []\n",
    "# # Попарное сравнение \"наборов\" преподавателей на курсах. Каждую новую пару запоминаем для исключения повторов.\n",
    "for id1 in range(len(mentors_names)):\n",
    "    for id2 in range(len(mentors_names)):\n",
    "        # Проверьте, что вы не сравниваете список сам с собой:\n",
    "        if id1 == id2:\n",
    "            continue\n",
    "        # Допишите ниже код для сравнения двух \"наборов\" преподавателей. Подсказка: используйте множества\n",
    "        intersection_set = set(mentors_names[id1]) & set(mentors_names[id2])\n",
    "        if len(intersection_set) > 0: # Допишите проверку, что результат не пустой, имена есть\n",
    "            # Допишите ниже код, который проверяет, что эта пара ещё не встречалась\n",
    "            pair = {courses[id1], courses[id2]}\n",
    "            # Если pair еще не встречалась, то выведите на экран два курса и список преподавателей, которые есть на обоих курсах\n",
    "            if pair not in pairs:\n",
    "                pairs.append(pair)\n",
    "                # Отсортируйте имена по алфавиту. Подсказка: используйте sorted() для списка\n",
    "                all_names_sorted = sorted(intersection_set)\n",
    "                # Допишите конструкцию вывода результата. Используйте string.join()\n",
    "                print(f\"На курсах '{courses[id1]}' и '{courses[id2]}' преподают: {', '.join(all_names_sorted)}\")"
   ]
  },
  {
   "cell_type": "code",
   "execution_count": 284,
   "metadata": {},
   "outputs": [
    {
     "name": "stdout",
     "output_type": "stream",
     "text": [
      "1 — число цели, которая проявляется в форме агрессивности и амбиций\n",
      "Коду 1 соответствуют: Адилет, Азамат, Денис, Евгений, Ринат, Роман, Сергей\n",
      "2 — число равновесия и контраста одновременно, поддерживает равновесие, смешивая позитивные и негативные качества\n",
      "Коду 2 соответствуют: Владимир, Иван, Тимур\n",
      "3 — неустойчивость, объединяет талант и весёлость, символ приспосабливаемости\n",
      "Коду 3 соответствуют: Олег, Татьяна\n",
      "4 — означает устойчивость и прочность\n",
      "Коду 4 соответствуют: Антон, Кирилл, Павел\n",
      "5 — символизирует риск, свободу и душевное беспокойство, которое толкает человека к путешествиям и новому опыту. С одной стороны, это самое счастливое число, с другой — самое непредсказуемое\n",
      "Коду 5 соответствуют: Алексей, Анна, Елена, Илья, Никита, Эдгар\n",
      "6 — символ надёжности. Идеальное число, которое делится как на чётное, так и на нечётное, объединяя элементы каждого\n",
      "Коду 6 соответствуют: Анатолий, Вадим, Николай\n",
      "7 — символизирует тайну, а также изучение и знание как путь исследования неизвестного и невидимого\n",
      "Коду 7 соответствуют: Дмитрий, Максим\n",
      "8 — число материального успеха, означает надёжность, доведённую до совершенства, символ всеобщего успеха\n",
      "Коду 8 соответствуют: Валерий, Константин, Михаил, Филипп, Юрий\n",
      "9 — указывает на сильную личность с потенциальным интеллектом, способную к высокому развитию\n",
      "Коду 9 соответствуют: Александр, Алена\n"
     ]
    }
   ],
   "source": [
    "courses = [\"Python-разработчик с нуля\", \"Java-разработчик с нуля\", \"Fullstack-разработчик на Python\", \"Frontend-разработчик с нуля\"]\n",
    "\n",
    "mentors = [\n",
    "\t[\"Евгений Шмаргунов\", \"Олег Булыгин\", \"Дмитрий Демидов\", \"Кирилл Табельский\", \"Александр Ульянцев\", \"Александр Бардин\", \"Александр Иванов\", \"Антон Солонилин\", \"Максим Филипенко\", \"Елена Никитина\", \"Азамат Искаков\", \"Роман Гордиенко\"],\n",
    "\t[\"Филипп Воронов\", \"Анна Юшина\", \"Иван Бочаров\", \"Анатолий Корсаков\", \"Юрий Пеньков\", \"Илья Сухачев\", \"Иван Маркитан\", \"Ринат Бибиков\", \"Вадим Ерошевичев\", \"Тимур Сейсембаев\", \"Максим Батырев\", \"Никита Шумский\", \"Алексей Степанов\", \"Денис Коротков\", \"Антон Глушков\", \"Сергей Индюков\", \"Максим Воронцов\", \"Евгений Грязнов\", \"Константин Виролайнен\", \"Сергей Сердюк\", \"Павел Дерендяев\"],\n",
    "\t[\"Евгений Шмаргунов\", \"Олег Булыгин\", \"Александр Бардин\", \"Александр Иванов\", \"Кирилл Табельский\", \"Александр Ульянцев\", \"Роман Гордиенко\", \"Адилет Асканжоев\", \"Александр Шлейко\", \"Алена Батицкая\", \"Денис Ежков\", \"Владимир Чебукин\", \"Эдгар Нуруллин\", \"Евгений Шек\", \"Максим Филипенко\", \"Елена Никитина\"],\n",
    "\t[\"Владимир Чебукин\", \"Эдгар Нуруллин\", \"Евгений Шек\", \"Валерий Хаслер\", \"Татьяна Тен\", \"Александр Фитискин\", \"Александр Шлейко\", \"Алена Батицкая\", \"Александр Беспоясов\", \"Денис Ежков\", \"Николай Лопин\", \"Михаил Ларченко\"]\n",
    "]\n",
    "\n",
    "codes_info = [\n",
    "\t\"\",\n",
    "\t\"1 — число цели, которая проявляется в форме агрессивности и амбиций\",\n",
    "\t\"2 — число равновесия и контраста одновременно, поддерживает равновесие, смешивая позитивные и негативные качества\",\n",
    "\t\"3 — неустойчивость, объединяет талант и весёлость, символ приспосабливаемости\",\n",
    "\t\"4 — означает устойчивость и прочность\",\n",
    "\t\"5 — символизирует риск, свободу и душевное беспокойство, которое толкает человека к путешествиям и новому опыту. С одной стороны, это самое счастливое число, с другой — самое непредсказуемое\",\n",
    "\t\"6 — символ надёжности. Идеальное число, которое делится как на чётное, так и на нечётное, объединяя элементы каждого\",\n",
    "\t\"7 — символизирует тайну, а также изучение и знание как путь исследования неизвестного и невидимого\",\n",
    "\t\"8 — число материального успеха, означает надёжность, доведённую до совершенства, символ всеобщего успеха\",\n",
    "\t\"9 — указывает на сильную личность с потенциальным интеллектом, способную к высокому развитию\"\n",
    "]\n",
    "# Здесь ничего менять не нужно, это готовый код, который считает число имени\n",
    "def calc_namecode(name):\n",
    "    letters = [\"\", \"А\", \"Б\", \"В\", \"Г\", \"Д\", \"Е\", \"Ё\", \"Ж\", \"З\", \"И\", \"Й\", \"К\", \"Л\", \"М\", \"Н\", \"О\", \"П\", \"Р\", \"С\", \"Т\",\n",
    "                \"У\", \"Ф\", \"Х\", \"Ц\", \"Ч\", \"Ш\", \"Щ\", \"Ъ\", \"Ы\", \"Ь\", \"Э\", \"Ю\", \"Я\"]\n",
    "\n",
    "    name = name.upper()\n",
    "    code = 0\n",
    "    for letter in name:\n",
    "        try:\n",
    "            ltr_code = letters.index(letter) % 9\n",
    "        except:\n",
    "            continue\n",
    "        if ltr_code == 0:\n",
    "            ltr_code = 9\n",
    "        code += ltr_code\n",
    "\n",
    "    while code > 9:\n",
    "        curr = code // 10 + code % 10\n",
    "        code = curr\n",
    "\n",
    "    return code\n",
    "\n",
    "# Добавьте сюда ваш код из Задачи 1\n",
    "all_list = []\n",
    "for m in mentors:\n",
    "    for lst_item in m:\n",
    "        all_list.append(lst_item)\n",
    "all_names_list = []\n",
    "for mentor in all_list:\n",
    "    name = mentor.split()[0]\n",
    "    all_names_list.append(name)\n",
    "unique_names = set(all_names_list)\n",
    "\n",
    "# Этот код создаст вам уже готовый (пока что пустой) список, в который вы будете добавлять имена\n",
    "names_codes = [[] for n in range(10)]\n",
    "\n",
    "# Подсказка: в список names_codes дописывайте список имён с группировкой по числу имени.\n",
    "# Рекомендуем для простоты список с именами записывать по индексу, который равняется числу имени\n",
    "# Например, код имени Владимир — 2, и итоговый результат был бы\n",
    "# names_codes = [[], [], [\"Владимир\"]] - внутренний список с именем Владимир находится по индексу 2 в списке names_codes\n",
    "# Самый первый список с индексом 0 будет всегда пустым, т. к. нет числа имени 0\n",
    "\n",
    "# Перебираем все имена и группируем их по числу имени\n",
    "for name in unique_names:\n",
    "\t# Команду ниже используйте как есть - она вычисляет число имени. На входе функция принимает имя (регистр не важен)\n",
    "\t# На выходе возвращает целое число от 1 до 9 - это число имени. Например, если введёте \"Анна\" - получите 5\n",
    "\tcode = calc_namecode(name)\n",
    "\n",
    "\t# Допишите код, который добавит ещё одно имя к нужному числу имени в списке names_codes\n",
    "\tnames_codes[code].append(name)\n",
    "# Выводим окончательный результат на экран\n",
    "for id, _ in enumerate(names_codes):\n",
    "\t# Допишите вывод расшифровки числа имени из codes_info\n",
    "\t# Должно выводиться так: 1 — число цели, которая проявляется в форме агрессивности и амбиций\n",
    "\tif id == 0:\n",
    "\t\tcontinue\n",
    "\n",
    "\tprint(codes_info[id])\n",
    "\n",
    "\t# Теперь нужно отсортировать имена в алфавитном порядке. Подсказка: используйте sorted() для списка\n",
    "\t# Допишите код ниже:\n",
    "\tall_names_sorted = sorted(names_codes[id])\n",
    "\t# Допишите код, который выводит сообщение на экран\n",
    "\t# Должно выводиться так: Коду 1 соответствуют: Азамат, Денис, Роман, Ринат, Евгений, Адилет, Сергей\n",
    "\tprint(f\"Коду {id} соответствуют: {', '.join(all_names_sorted)}\")"
   ]
  },
  {
   "cell_type": "code",
   "execution_count": 303,
   "metadata": {},
   "outputs": [],
   "source": [
    "import numpy"
   ]
  },
  {
   "cell_type": "code",
   "execution_count": 327,
   "metadata": {},
   "outputs": [
    {
     "name": "stdout",
     "output_type": "stream",
     "text": [
      "Самый короткий курс(ы): Python-разработчик с нуля - 12 месяца(ев)\n",
      "Самый длинный курс(ы): Fullstack-разработчик на Python, Frontend-разработчик с нуля - 20 месяца(ев)\n"
     ]
    }
   ],
   "source": [
    "import numpy\n",
    "courses = [\"Java-разработчик с нуля\", \"Fullstack-разработчик на Python\", \"Python-разработчик с нуля\", \"Frontend-разработчик с нуля\"]\n",
    "mentors = [\n",
    "\t[\"Филипп Воронов\", \"Анна Юшина\", \"Иван Бочаров\", \"Анатолий Корсаков\", \"Юрий Пеньков\", \"Илья Сухачев\", \"Иван Маркитан\", \"Ринат Бибиков\", \"Вадим Ерошевичев\", \"Тимур Сейсембаев\", \"Максим Батырев\", \"Никита Шумский\", \"Алексей Степанов\", \"Денис Коротков\", \"Антон Глушков\", \"Сергей Индюков\", \"Максим Воронцов\", \"Евгений Грязнов\", \"Константин Виролайнен\", \"Сергей Сердюк\", \"Павел Дерендяев\"],\n",
    "\t[\"Евгений Шмаргунов\", \"Олег Булыгин\", \"Александр Бардин\", \"Александр Иванов\", \"Кирилл Табельский\", \"Александр Ульянцев\", \"Роман Гордиенко\", \"Адилет Асканжоев\", \"Александр Шлейко\", \"Алена Батицкая\", \"Денис Ежков\", \"Владимир Чебукин\", \"Эдгар Нуруллин\", \"Евгений Шек\", \"Максим Филипенко\", \"Елена Никитина\"],\n",
    "\t[\"Евгений Шмаргунов\", \"Олег Булыгин\", \"Дмитрий Демидов\", \"Кирилл Табельский\", \"Александр Ульянцев\", \"Александр Бардин\", \"Александр Иванов\", \"Антон Солонилин\", \"Максим Филипенко\", \"Елена Никитина\", \"Азамат Искаков\", \"Роман Гордиенко\"],\n",
    "\t[\"Владимир Чебукин\", \"Эдгар Нуруллин\", \"Евгений Шек\", \"Валерий Хаслер\", \"Татьяна Тен\", \"Александр Фитискин\", \"Александр Шлейко\", \"Алена Батицкая\", \"Александр Беспоясов\", \"Денис Ежков\", \"Николай Лопин\", \"Михаил Ларченко\"]\n",
    "]\n",
    "durations = [14, 20, 12, 20]\n",
    "\n",
    "# В этот список будут добавляться словари-курсы\n",
    "courses_list = []\n",
    "# Допишите код, который генерирует словарь-курс с тремя ключами: \"title\", \"mentors\", \"duration\"\n",
    "for title, mentor, duration in zip(courses, mentors, durations):\n",
    "    course_dict = {\"titles\" : title, \"mentors\" : mentor, \"durations\" : duration}\n",
    "    courses_list.append(course_dict)\n",
    "\n",
    "# Найдите самое маленькое и самое большое значение длительности курса\n",
    "# Подсказка: используйте функции min и max для списка durations\n",
    "min = numpy.min(durations)\n",
    "max = numpy.max(durations)\n",
    "\n",
    "# Как видите, в duration встречаются одинаковые длительности курса. Допишите код, который это учитывает\n",
    "# Подсказка 1: найдите индексы, по которым в списке durations встречается самое маленькое и самое большое значение\n",
    "# Подсказка 2: не забудьте, что индекс можно удобно получить функцией enumerate\n",
    "maxes = []\n",
    "minis = []\n",
    "for i, duration in enumerate(durations):\n",
    "\tif durations[i] == max:\n",
    "\t\tmaxes.append(i)\n",
    "\telif durations[i] == min:\n",
    "\t\tminis.append(i)\n",
    "#print(courses_list)\n",
    "# Соберите все названия самых коротких и самых длинных курсов\n",
    "# Так как курсов с одной длительностью может быть больше одного,\n",
    "# создайте список названий самых коротких (courses_min) и самых длинных (courses_max) курсов\n",
    "courses_min = []\n",
    "courses_max = []\n",
    "for id in minis:\n",
    "\tcourses_min.append(courses_list[id][\"titles\"]) # Допишите код, который берёт по id нужный курс из courses_list и получает название курса из ключа \"title\"\n",
    "for id in maxes:\n",
    "\tcourses_max.append(courses_list[id][\"titles\"]) # По аналогии допишите такой же код для курсов максимальной длительности\n",
    "\n",
    "# Допишите конструкцию вывода результата. Можете использовать string.join()\n",
    "c_min = ', '.join(courses_min)\n",
    "c_max = ', '.join(courses_max)\n",
    "print(f'Самый короткий курс(ы): {c_min} - {min} месяца(ев)')\n",
    "print(f'Самый длинный курс(ы): {c_max} - {max} месяца(ев)')"
   ]
  },
  {
   "cell_type": "code",
   "execution_count": 381,
   "metadata": {},
   "outputs": [
    {
     "name": "stdout",
     "output_type": "stream",
     "text": [
      "{12: [2], 14: [0], 20: [1, 3]}\n",
      "[{'title': 'Java-разработчик с нуля', 'mentors': ['Филипп Воронов', 'Анна Юшина', 'Иван Бочаров', 'Анатолий Корсаков', 'Юрий Пеньков', 'Илья Сухачев', 'Иван Маркитан', 'Ринат Бибиков', 'Вадим Ерошевичев', 'Тимур Сейсембаев', 'Максим Батырев', 'Никита Шумский', 'Алексей Степанов', 'Денис Коротков', 'Антон Глушков', 'Сергей Индюков', 'Максим Воронцов', 'Евгений Грязнов', 'Константин Виролайнен', 'Сергей Сердюк', 'Павел Дерендяев'], 'duration': 14}, {'title': 'Fullstack-разработчик на Python', 'mentors': ['Евгений Шмаргунов', 'Олег Булыгин', 'Александр Бардин', 'Александр Иванов', 'Кирилл Табельский', 'Александр Ульянцев', 'Роман Гордиенко', 'Адилет Асканжоев', 'Александр Шлейко', 'Алена Батицкая', 'Денис Ежков', 'Владимир Чебукин', 'Эдгар Нуруллин', 'Евгений Шек', 'Максим Филипенко', 'Елена Никитина'], 'duration': 20}, {'title': 'Python-разработчик с нуля', 'mentors': ['Евгений Шмаргунов', 'Олег Булыгин', 'Дмитрий Демидов', 'Кирилл Табельский', 'Александр Ульянцев', 'Александр Бардин', 'Александр Иванов', 'Антон Солонилин', 'Максим Филипенко', 'Елена Никитина', 'Азамат Искаков', 'Роман Гордиенко'], 'duration': 12}, {'title': 'Frontend-разработчик с нуля', 'mentors': ['Владимир Чебукин', 'Эдгар Нуруллин', 'Евгений Шек', 'Валерий Хаслер', 'Татьяна Тен', 'Александр Фитискин', 'Александр Шлейко', 'Алена Батицкая', 'Александр Беспоясов', 'Денис Ежков', 'Николай Лопин', 'Михаил Ларченко'], 'duration': 20}]\n",
      "Python-разработчик с нуля - 12 месяцев\n",
      "Java-разработчик с нуля - 14 месяцев\n",
      "Fullstack-разработчик на Python - 20 месяцев\n",
      "Frontend-разработчик с нуля - 20 месяцев\n"
     ]
    }
   ],
   "source": [
    "# Наводим порядок: упорядочиваем курсы по продолжительности\n",
    "\n",
    "courses = [\"Java-разработчик с нуля\", \"Fullstack-разработчик на Python\", \"Python-разработчик с нуля\", \"Frontend-разработчик с нуля\"]\n",
    "mentors = [\n",
    "\t[\"Филипп Воронов\", \"Анна Юшина\", \"Иван Бочаров\", \"Анатолий Корсаков\", \"Юрий Пеньков\", \"Илья Сухачев\", \"Иван Маркитан\", \"Ринат Бибиков\", \"Вадим Ерошевичев\", \"Тимур Сейсембаев\", \"Максим Батырев\", \"Никита Шумский\", \"Алексей Степанов\", \"Денис Коротков\", \"Антон Глушков\", \"Сергей Индюков\", \"Максим Воронцов\", \"Евгений Грязнов\", \"Константин Виролайнен\", \"Сергей Сердюк\", \"Павел Дерендяев\"],\n",
    "\t[\"Евгений Шмаргунов\", \"Олег Булыгин\", \"Александр Бардин\", \"Александр Иванов\", \"Кирилл Табельский\", \"Александр Ульянцев\", \"Роман Гордиенко\", \"Адилет Асканжоев\", \"Александр Шлейко\", \"Алена Батицкая\", \"Денис Ежков\", \"Владимир Чебукин\", \"Эдгар Нуруллин\", \"Евгений Шек\", \"Максим Филипенко\", \"Елена Никитина\"],\n",
    "\t[\"Евгений Шмаргунов\", \"Олег Булыгин\", \"Дмитрий Демидов\", \"Кирилл Табельский\", \"Александр Ульянцев\", \"Александр Бардин\", \"Александр Иванов\", \"Антон Солонилин\", \"Максим Филипенко\", \"Елена Никитина\", \"Азамат Искаков\", \"Роман Гордиенко\"],\n",
    "\t[\"Владимир Чебукин\", \"Эдгар Нуруллин\", \"Евгений Шек\", \"Валерий Хаслер\", \"Татьяна Тен\", \"Александр Фитискин\", \"Александр Шлейко\", \"Алена Батицкая\", \"Александр Беспоясов\", \"Денис Ежков\", \"Николай Лопин\", \"Михаил Ларченко\"]\n",
    "]\n",
    "durations = [14, 20, 12, 20]\n",
    "\n",
    "courses_list = []\n",
    "for course, mentor, duration in zip(courses, mentors, durations):\n",
    "\tcourse_dict = {\"title\":course, \"mentors\":mentor, \"duration\":duration}\n",
    "\tcourses_list.append(course_dict)\n",
    "\n",
    "# С этого момента начинается выполнение задания 2\n",
    "# На входе у вас есть только список курсов courses_list. Об исходных данных, на базе которых он был сделан, вы ничего не знаете\n",
    "\n",
    "# Отсортируйте курсы по длительности (ключ duration), но при этом сохраните порядковый номер каждого курса из courses_list\n",
    "# Самое простое — создать новый словарь durations_dict с ключом — duration и значением — исходным номером курса в courses_list\n",
    "# Но у нас могут быть курсы с одинаковой длительностью, поэтому значение словаря — это список индексов, а не одно значение\n",
    "durations_dict = {}\n",
    "\n",
    "# Допишите код цикла так, чтобы в нём вы получали id курса. Подсказка: помните о функции enumerate\n",
    "for id, course in enumerate(courses_list):\n",
    "\tkey = course[\"duration\"] # Получите значение из ключа duration\n",
    "\t# Допишите код ниже, который добавляет в словарь durations_dict по ключу key значения — id\n",
    "\tdurations_dict.setdefault(key, [])\n",
    "\tdurations_dict[key].append(id)\n",
    "    \n",
    "# Отсортируем словарь по ключам. Этот код уже готов, ничего менять не нужно\n",
    "# Здесь мы получаем пары ключ-значение в виде кортежа, и функция sorted выполняет сортировку по первым значениям кортежа — ключам\n",
    "durations_dict = dict(sorted(durations_dict.items()))\n",
    "\n",
    "# Выведите курсы, отсортированные по длительности\n",
    "# Допишите код цикла так, чтобы в нём вы получали из durations_dict ключи и значения\n",
    "for key, value in durations_dict.items():\n",
    "\t# Допишите код, который проходит по всему списку значений и выводит на экран текст вида «название курса — длительность»\n",
    "\tfor i in value:\n",
    "\t\tprint(f'{courses_list[i][\"title\"]} - {key} месяцев')\n",
    "\t#print(f'{key} - {key} месяцев')"
   ]
  },
  {
   "cell_type": "code",
   "execution_count": 422,
   "metadata": {},
   "outputs": [
    {
     "name": "stdout",
     "output_type": "stream",
     "text": [
      "Связи нет\n",
      "Порядок курсов по длительности: 2, 0, 1, 3\n",
      "Порядок курсов по количеству преподавателей: 2, 3, 1, 0\n"
     ]
    }
   ],
   "source": [
    "courses = [\"Java-разработчик с нуля\", \"Fullstack-разработчик на Python\", \"Python-разработчик с нуля\", \"Frontend-разработчик с нуля\"]\n",
    "mentors = [\n",
    "\t[\"Филипп Воронов\", \"Анна Юшина\", \"Иван Бочаров\", \"Анатолий Корсаков\", \"Юрий Пеньков\", \"Илья Сухачев\", \"Иван Маркитан\", \"Ринат Бибиков\", \"Вадим Ерошевичев\", \"Тимур Сейсембаев\", \"Максим Батырев\", \"Никита Шумский\", \"Алексей Степанов\", \"Денис Коротков\", \"Антон Глушков\", \"Сергей Индюков\", \"Максим Воронцов\", \"Евгений Грязнов\", \"Константин Виролайнен\", \"Сергей Сердюк\", \"Павел Дерендяев\"],\n",
    "\t[\"Евгений Шмаргунов\", \"Олег Булыгин\", \"Александр Бардин\", \"Александр Иванов\", \"Кирилл Табельский\", \"Александр Ульянцев\", \"Роман Гордиенко\", \"Адилет Асканжоев\", \"Александр Шлейко\", \"Алена Батицкая\", \"Денис Ежков\", \"Владимир Чебукин\", \"Эдгар Нуруллин\", \"Евгений Шек\", \"Максим Филипенко\", \"Елена Никитина\"],\n",
    "\t[\"Евгений Шмаргунов\", \"Олег Булыгин\", \"Дмитрий Демидов\", \"Кирилл Табельский\", \"Александр Ульянцев\", \"Александр Бардин\", \"Александр Иванов\", \"Антон Солонилин\", \"Максим Филипенко\", \"Елена Никитина\", \"Азамат Искаков\", \"Роман Гордиенко\"],\n",
    "\t[\"Владимир Чебукин\", \"Эдгар Нуруллин\", \"Евгений Шек\", \"Валерий Хаслер\", \"Татьяна Тен\", \"Александр Фитискин\", \"Александр Шлейко\", \"Алена Батицкая\", \"Александр Беспоясов\", \"Денис Ежков\", \"Николай Лопин\", \"Михаил Ларченко\"]\n",
    "]\n",
    "durations = [14, 20, 12, 20]\n",
    "\n",
    "courses_list = []\n",
    "for course, mentor, duration in zip(courses, mentors, durations):\n",
    "\tcourse_dict = {\"title\":course, \"mentors\":mentor, \"duration\":duration}\n",
    "\tcourses_list.append(course_dict)\n",
    "\n",
    "\n",
    "# С этого момента начинается выполнение задания 3.\n",
    "# На входе у вас есть только список курсов courses_list. Об исходных данных, на базе которых он был сделан, вы ничего не знаете\n",
    "\n",
    "# Подсказка: если связь между продолжительностью курсов и количеством преподавателей есть,\n",
    "# то после сортировки курсов по длительности и по количеству преподавателей курсы должны идти в одном и том же порядке\n",
    "# Проверьте себя: в этом задании курсы будут идти в таком порядке:\n",
    "# [\"Python-разработчик с нуля\", \"Java-разработчик с нуля\", \"Fullstack-разработчик на Python\", \"Frontend-разработчик с нуля\"] - по продолжительности,\n",
    "# [\"Python-разработчик с нуля\", \"Frontend-разработчик с нуля\", \"Fullstack-разработчик на Python\", \"Java-разработчик с нуля\"] - по количеству преподавателей\n",
    "# То есть ваш скрипт должен вывести \"Связи нет\", т.к. порядок оказался разным\n",
    "\n",
    "# Подсказка 1: для сравнения используйте не названия курсов, а их порядковые номера в списке courses_list\n",
    "# Подсказка 2: для сравнения сделайте пары [duration, index] и [mentors_count, index]\n",
    "# Допишите код ниже, который добавляет эти пары в список duration_index и mcount_index соответственно:\n",
    "duration_index = []\n",
    "mcount_index = []\n",
    "#print(courses_list[0][\"duration\"])\n",
    "for index, course in enumerate(courses_list):\n",
    "\tduration_index.append([courses_list[index][\"duration\"], index])\n",
    "\tmcount_index.append([len(courses_list[index][\"mentors\"]), index]) # Напишите код по аналогии с duration_index\n",
    "# Отсортируйте список duration_index и список mcount_index\n",
    "# Подсказка: функция sort() будет сортировать по первому элементу (то есть по duration и по количеству преподавателей),\n",
    "# поэтому вы сразу получите правильный результат\n",
    "# Самостоятельно напишите код сортировки ниже:\n",
    "duration_index.sort()\n",
    "mcount_index.sort()\n",
    "\n",
    "# Теперь вам необходимо отделить отсортированные индексы. Перенесите их в отдельные списки:\n",
    "# indexes_d (индексы для сортировки курсов по длительности) и\n",
    "# indexes_m (индексы для сортировки курсов по количеству преподавателей)\n",
    "indexes_d = []\n",
    "indexes_m = []\n",
    "\n",
    "# Допишите код ниже:\n",
    "for index in duration_index:\n",
    "\tindexes_d.append(index[1])\n",
    "# Для indexes_m напишите аналогичный код самостоятельно:\n",
    "for index in mcount_index:\n",
    "\tindexes_m.append(index[1])\n",
    "\n",
    "# Сравните два получившихся списка индексов. Если они равны, то есть индексы идут в одинаковом порядке,\n",
    "# выведите \"Связь есть\", если не равны - выведите \"Связи нет\" и ниже - номера курсов по длительности, а потом - по количеству преподавателей\n",
    "# Допишите код ниже:\n",
    "print(\"Связь есть\" if indexes_d == indexes_m else \"Связи нет\")\n",
    "dur = ', '.join([str(x) for x in indexes_d])\n",
    "men = ', '.join([str(x) for x in indexes_m])\n",
    "\n",
    "print(f'Порядок курсов по длительности: {dur}')\n",
    "print(f\"Порядок курсов по количеству преподавателей: {men}\")"
   ]
  },
  {
   "cell_type": "code",
   "execution_count": 477,
   "metadata": {},
   "outputs": [
    {
     "name": "stdout",
     "output_type": "stream",
     "text": [
      "1 На курсе Java-разработчик с нуля есть тёзки: Иван Бочаров, Иван Маркитан, Максим Батырев, Максим Воронцов, Сергей Индюков, Сергей Сердюк\n",
      "2 На курсе Fullstack-разработчик на Python есть тёзки: Александр Бардин, Александр Иванов, Александр Ульянцев, Александр Шлейко, Евгений Шек, Евгений Шмаргунов\n",
      "3 На курсе Python-разработчик с нуля есть тёзки: Александр Бардин, Александр Иванов, Александр Ульянцев\n",
      "4 На курсе Frontend-разработчик с нуля есть тёзки: Александр Беспоясов, Александр Фитискин, Александр Шлейко\n"
     ]
    }
   ],
   "source": [
    "# Это вы мне? Подсчитываем тёзок на каждом курсе\n",
    "\n",
    "courses = [\"Java-разработчик с нуля\", \"Fullstack-разработчик на Python\", \"Python-разработчик с нуля\", \"Frontend-разработчик с нуля\"]\n",
    "mentors = [\n",
    "\t[\"Филипп Воронов\", \"Анна Юшина\", \"Иван Бочаров\", \"Анатолий Корсаков\", \"Юрий Пеньков\", \"Илья Сухачев\", \"Иван Маркитан\", \"Ринат Бибиков\", \"Вадим Ерошевичев\", \"Тимур Сейсембаев\", \"Максим Батырев\", \"Никита Шумский\", \"Алексей Степанов\", \"Денис Коротков\", \"Антон Глушков\", \"Сергей Индюков\", \"Максим Воронцов\", \"Евгений Грязнов\", \"Константин Виролайнен\", \"Сергей Сердюк\", \"Павел Дерендяев\"],\n",
    "\t[\"Евгений Шмаргунов\", \"Олег Булыгин\", \"Александр Бардин\", \"Александр Иванов\", \"Кирилл Табельский\", \"Александр Ульянцев\", \"Роман Гордиенко\", \"Адилет Асканжоев\", \"Александр Шлейко\", \"Алена Батицкая\", \"Денис Ежков\", \"Владимир Чебукин\", \"Эдгар Нуруллин\", \"Евгений Шек\", \"Максим Филипенко\", \"Елена Никитина\"],\n",
    "\t[\"Евгений Шмаргунов\", \"Олег Булыгин\", \"Дмитрий Демидов\", \"Кирилл Табельский\", \"Александр Ульянцев\", \"Александр Бардин\", \"Александр Иванов\", \"Антон Солонилин\", \"Максим Филипенко\", \"Елена Никитина\", \"Азамат Искаков\", \"Роман Гордиенко\"],\n",
    "\t[\"Владимир Чебукин\", \"Эдгар Нуруллин\", \"Евгений Шек\", \"Валерий Хаслер\", \"Татьяна Тен\", \"Александр Фитискин\", \"Александр Шлейко\", \"Алена Батицкая\", \"Александр Беспоясов\", \"Денис Ежков\", \"Николай Лопин\", \"Михаил Ларченко\"]\n",
    "]\n",
    "durations = [14, 20, 12, 20]\n",
    "\n",
    "courses_list = []\n",
    "for course, mentor, duration in zip(courses, mentors, durations):\n",
    "\tcourse_dict = {\"title\":course, \"mentors\":mentor, \"duration\":duration}\n",
    "\tcourses_list.append(course_dict)\n",
    "\n",
    "# С этого момента начинается выполнение задания 4.\n",
    "# На входе у вас есть только список курсов courses_list. Об исходных данных, на базе которых он был сделан, вы ничего не знаете\n",
    "\n",
    "# На каждом курсе в отдельности вам необходимо: 1) найти имена, которые встречаются более 1 раза;\n",
    "# 2) отобрать людей (Имя + Фамилия), для которых совпало Имя. Это и будут наши тёзки\n",
    "for i, course in enumerate(courses_list):\n",
    "\tnames_list = []\n",
    "\t# Самостоятельно напишите код, который создаёт множество уникальных имён без фамилий\n",
    "\t# Подсказка: вам нужно вспомнить и повторить код из задания 1 по множествам\n",
    "\t# Результат (уникальные имена без фамилий) запишите в переменную под названием unique_names, преобразуйте в список и отсортируйте по возрастанию\n",
    "\t# Это необходимо, чтобы ваша программа всегда давала один и тот же результат и тренажёр смог его сверить\n",
    "# Добавьте в список всех преподавателей со всех курсов\n",
    "\tfor m in course[\"mentors\"]:\n",
    "\t\tnames_list.append(m.split()[0].strip())\n",
    "\tunique_names = sorted(list(set(names_list)))\n",
    "#\tprint(unique_names)\n",
    "\t# Напишите алгоритм, который подсчитывает частоту встречаемости каждого имени из names_set в исходном списке преподавателей\n",
    "\t# Подсказка: при работе со строками воспользуйтесь конструкцией in\n",
    "\t# Внимание: в список same_name_list вы будете сохранять найденных тёзок-преподавателей\n",
    "\tsame_name_list = []\n",
    "\t# Организуйте цикл по всем именам на курсе из множества:\n",
    "\tfor name in unique_names:\n",
    "\t\t# Подсчитайте частоту встречаемости имени (должно быть более 1 раза):\n",
    "\t\tif names_list.count(name) > 1:\n",
    "\t\t\t# Сделайте цикл по исходному списку преподавателей (с Именем и Фамилией)\n",
    "\t\t\tfor fio in course[\"mentors\"]:\n",
    "\t\t\t\t# Найдите тех преподавателей, у кого совпало имя (для них if вернёт True)\n",
    "\t\t\t\t\tif name == fio.split()[0]:\n",
    "\t\t\t\t\t# Добавьте преподавателя с этим именем в список тёзок\n",
    "#\t\t\t\t\t\tprint(fio)\n",
    "\t\t\t\t\t\tsame_name_list.append(fio)\n",
    "\t# Если список тёзок не пустой, выведите всех преподавателей из него\n",
    "\tif len(same_name_list) > 0:\n",
    "\t\t# Дополните конструкцию ниже, чтобы выводилось сообщение такого вида: На курсе Название есть тёзки: тёзки через запятую\n",
    "\t\t# Подсказка: для соединения преподавателей через запятую используйте string.join()\n",
    "\t\tsame_name_list = sorted(same_name_list)        \n",
    "\t\tstr_res = ', '.join(same_name_list)\n",
    "\t\tstr_i = str(i + 1)        \n",
    "\t\tstr_crs = course[\"title\"]\n",
    "\t\tprint(f'{str_i} На курсе {str_crs} есть тёзки: {str_res}')"
   ]
  },
  {
   "cell_type": "code",
   "execution_count": 21,
   "metadata": {},
   "outputs": [
    {
     "name": "stdin",
     "output_type": "stream",
     "text": [
      "Введите команду:  p\n",
      "Введите номер документа: 11-2\n"
     ]
    },
    {
     "name": "stdout",
     "output_type": "stream",
     "text": [
      "Владелец документа:  Геннадий Покемонов\n"
     ]
    },
    {
     "name": "stdin",
     "output_type": "stream",
     "text": [
      "Введите команду:  s\n",
      "Введите номер документа: 11-2\n"
     ]
    },
    {
     "name": "stdout",
     "output_type": "stream",
     "text": [
      "Документ хранится на полке:  1\n"
     ]
    },
    {
     "name": "stdin",
     "output_type": "stream",
     "text": [
      "Введите команду:  q\n"
     ]
    }
   ],
   "source": [
    "directories = {\n",
    " '1': ['2207 876234', '11-2'],\n",
    " '2': ['10006'],\n",
    " '3': []\n",
    "}\n",
    "documents = [\n",
    " {'type': 'passport', 'number': '2207 876234', 'name': 'Василий Гупкин'},\n",
    " {'type': 'invoice', 'number': '11-2', 'name': 'Геннадий Покемонов'},\n",
    " {'type': 'insurance', 'number': '10006', 'name': 'Аристарх Павлов'}\n",
    "]\n",
    "\n",
    "def doc_owner(doc_num):\n",
    "    for i, line in enumerate(documents):\n",
    "        if line.get('number', None) == str(doc_num):\n",
    "            curr_name = line.get('name', None)\n",
    "            print('Владелец документа: ', curr_name)\n",
    "\n",
    "def doc_place(doc_num):\n",
    "    curr_place = None\n",
    "    for key, value in directories.items():\n",
    "        if str(doc_num) in value:\n",
    "            curr_place = key\n",
    "            print('Документ хранится на полке: ', curr_place)\n",
    "            break\n",
    "\n",
    "while(True):\n",
    "    match input_str('Введите команду: '):\n",
    "        case 'p':\n",
    "            doc_owner(input_str('Введите номер документа:'))\n",
    "        case 's':\n",
    "            doc_place(input_str('Введите номер документа:'))\n",
    "        case 'q':\n",
    "            break"
   ]
  },
  {
   "cell_type": "code",
   "execution_count": 1,
   "metadata": {},
   "outputs": [
    {
     "name": "stdout",
     "output_type": "stream",
     "text": [
      "3.12.7 | packaged by Anaconda, Inc. | (main, Oct  4 2024, 13:17:27) [MSC v.1929 64 bit (AMD64)]\n"
     ]
    }
   ],
   "source": [
    "import sys\n",
    "print(sys.version)"
   ]
  },
  {
   "cell_type": "code",
   "execution_count": 2,
   "metadata": {},
   "outputs": [
    {
     "name": "stdout",
     "output_type": "stream",
     "text": [
      "Python version information: 3.8.3 (default, Jul  2 2020, 17:30:36) [MSC v.1916 64 bit (AMD64)]\n"
     ]
    }
   ],
   "source": [
    "import sys\n",
    "print(\"Python version information:\", sys.version)"
   ]
  },
  {
   "cell_type": "code",
   "execution_count": 75,
   "metadata": {},
   "outputs": [
    {
     "name": "stdout",
     "output_type": "stream",
     "text": [
      "-3.0 -5.0\n",
      "12.0 1.0\n",
      "3.5\n",
      "корней нет\n"
     ]
    }
   ],
   "source": [
    "import math\n",
    "\n",
    "def discriminant(a, b, c: int):\n",
    "    return b ** 2 - 4 * a * c\n",
    "\n",
    "def solution(a, b, c: int):\n",
    "    d = discriminant(a, b, c)\n",
    "    if d > 0:\n",
    "        d_root = math.sqrt(d)\n",
    "        x1 = (-b + d_root) / (2 * a)\n",
    "        x2 = (-b - d_root) / (2 * a)\n",
    "        result = \"{0:.1f}\".format(x1) + ' ' + \"{0:.1f}\".format(x2)\n",
    "    elif d < 0:\n",
    "        result = 'корней нет'\n",
    "    else:\n",
    "        x = (-b)/ (2 * a)\n",
    "        result = \"{0:.1f}\".format(x)\n",
    "    print(result)\n",
    "    return result\n",
    "\n",
    "if __name__ == '__main__':\n",
    "    solution(1, 8, 15) \n",
    "    solution(1, -13, 12)\n",
    "    solution(-4, 28, -49)\n",
    "    solution(1, 1, 1)"
   ]
  },
  {
   "cell_type": "code",
   "execution_count": 112,
   "metadata": {},
   "outputs": [
    {
     "name": "stdout",
     "output_type": "stream",
     "text": [
      "1\n",
      "2\n"
     ]
    }
   ],
   "source": [
    "def vote(votes):\n",
    "    votes_unique = list(set(votes))\n",
    "    cnt_max = 0\n",
    "    for v in votes_unique:\n",
    "        cnt_v = votes.count(v)\n",
    "        if cnt_v > cnt_max:\n",
    "            max_cnt_v = v\n",
    "            cnt_max = cnt_v\n",
    "    return max_cnt_v\n",
    "\n",
    "if __name__ == '__main__':\n",
    "    print(vote([1,1,1,2,3]))\n",
    "    print(vote([1,2,3,2,2]))"
   ]
  },
  {
   "cell_type": "code",
   "execution_count": 2,
   "metadata": {},
   "outputs": [],
   "source": [
    "import json"
   ]
  },
  {
   "cell_type": "code",
   "execution_count": 106,
   "metadata": {},
   "outputs": [
    {
     "name": "stdout",
     "output_type": "stream",
     "text": [
      "1840e0b9d4 'Продукты'\n",
      "4e4f90fcfb 'Электроника'\n"
     ]
    }
   ],
   "source": [
    "txt_purchase = r'd:\\Home\\MomEdu\\Python\\purchase_log.txt'\n",
    "i = 0\n",
    "dict_main = {}\n",
    "with open(txt_purchase, encoding = 'utf-8') as f:\n",
    "    for line in f:\n",
    "        line = line.strip()\n",
    "        dict_purchase = json.loads(line)\n",
    "        if i == 0:\n",
    "            first_col = list(dict_purchase.keys())[0]\n",
    "            second_col = list(dict_purchase.keys())[1]\n",
    "        else:\n",
    "            key_val = dict_purchase[first_col]\n",
    "            value_val =  dict_purchase[second_col]\n",
    "            dict_main[key_val] = value_val    \n",
    "        if i == 1 or i == 2:\n",
    "            print(f\"{key_val} '{value_val}'\")\n",
    "        i += 1"
   ]
  },
  {
   "cell_type": "code",
   "execution_count": 115,
   "metadata": {},
   "outputs": [
    {
     "name": "stdout",
     "output_type": "stream",
     "text": [
      "1 bdc8054507, other, Электроника\n",
      "2 bdc8054507, other, Электроника\n",
      "3 bdc8054507, other, Электроника\n"
     ]
    }
   ],
   "source": [
    "txt_visit = r'd:\\Home\\MomEdu\\Python\\visit_log.csv'\n",
    "txt_funnel = r'd:\\Home\\MomEdu\\Python\\funnel.csv'\n",
    "i = 0\n",
    "with open(txt_visit, 'r') as f1:\n",
    "    with open(txt_funnel, 'w', encoding = 'cp1251') as f2write:\n",
    "        for line in f1:\n",
    "            i += 1\n",
    "            key, value = line.strip().split(',')\n",
    "            if key in dict_main.keys():\n",
    "                str_category = dict_main.get(key)\n",
    "                line2write = f'{key}, {value}, {str_category}'\n",
    "                f2write.write(line2write + ' \\n')\n",
    "            if i < 4:\n",
    "                print(i, line2write)\n",
    "f2write.close()                "
   ]
  }
 ],
 "metadata": {
  "kernelspec": {
   "display_name": "Python 3 (ipykernel)",
   "language": "python",
   "name": "python3"
  },
  "language_info": {
   "codemirror_mode": {
    "name": "ipython",
    "version": 3
   },
   "file_extension": ".py",
   "mimetype": "text/x-python",
   "name": "python",
   "nbconvert_exporter": "python",
   "pygments_lexer": "ipython3",
   "version": "3.12.7"
  }
 },
 "nbformat": 4,
 "nbformat_minor": 4
}
