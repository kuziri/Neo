{
 "cells": [
  {
   "cell_type": "code",
   "execution_count": 2,
   "metadata": {},
   "outputs": [
    {
     "name": "stdout",
     "output_type": "stream",
     "text": [
      "Не високосный год\n"
     ]
    }
   ],
   "source": [
    "year = 2021\n",
    "if year % 2 % 2 == 0:\n",
    "    print('Високосный год')\n",
    "else:\n",
    "    print('Обычный год')"
   ]
  },
  {
   "cell_type": "code",
   "execution_count": 13,
   "metadata": {},
   "outputs": [
    {
     "name": "stdout",
     "output_type": "stream",
     "text": [
      "Счастливый билет\n"
     ]
    }
   ],
   "source": [
    "number = 123321\n",
    "str_number = str(number)\n",
    "left_side = int(str_number[0]) + int(str_number[1]) + int(str_number[2])\n",
    "right_side = int(str_number[5]) + int(str_number[4]) + int(str_number[3])\n",
    "if left_side == right_side:\n",
    "    print('Счастливый билет')\n",
    "else:\n",
    "    print('Несчастливый билет')"
   ]
  },
  {
   "cell_type": "code",
   "execution_count": 14,
   "metadata": {},
   "outputs": [
    {
     "name": "stdout",
     "output_type": "stream",
     "text": [
      "\n",
      "Отличная работа, отправляйте на проверку!\n"
     ]
    }
   ],
   "source": [
    "def check_email(email: str) -> bool:\n",
    "    # мой вариант\n",
    "    if ('@' in email) and ('.' in email) and not (' ' in email):\n",
    "        answer = True\n",
    "    else:\n",
    "        answer = False\n",
    "    return answer\n",
    "    # вариант эксперта\n",
    "    #return \".\" in email and '@' in email and ' ' not in email\n",
    "\n",
    "if __name__ == '__main__':\n",
    "    assert check_email('Helloworld@.ru') is True\n",
    "    assert check_email('мояпочта@нетология.ру') is True\n",
    "    assert check_email('python@email@net') is False\n",
    "    assert check_email(' em@il.ru') is False\n",
    "    print(\"\\nОтличная работа, отправляйте на проверку!\")"
   ]
  },
  {
   "cell_type": "code",
   "execution_count": 31,
   "metadata": {},
   "outputs": [
    {
     "name": "stdout",
     "output_type": "stream",
     "text": [
      "\n",
      "Отличная работа, отправляйте на проверку!\n"
     ]
    }
   ],
   "source": [
    "def longest_film(film_1: str, film_2: str,film_3: str) -> str:\n",
    "    \n",
    "    film_list = [film_1, film_2, film_3]\n",
    "    # мой вариант\n",
    "    len_list = list(map(lambda x: len(str(x)), film_list))\n",
    "    max_len = max(len_list)\n",
    "    max_indices = [index for index, value in enumerate(len_list) if value == max_len]\n",
    "    return film_list[max_indices[0]]\n",
    "    # вариант эксперта\n",
    "    #return max(film_list, key = len)\n",
    "\n",
    "if __name__ == '__main__':\n",
    "    assert longest_film('Аладин', 'Мадагаскар', 'Бетховен') == 'Мадагаскар'\n",
    "    assert longest_film('Железный Человек', 'Стражи Галактики 2', 'Капитан Америка') == 'Стражи Галактики 2'\n",
    "    assert longest_film('Бумер', 'Бумер: Фильм второй', 'Бумеранг') == 'Бумер: Фильм второй'\n",
    "    assert longest_film('Гарри Поттер и философский камень', 'Пираты Карибского моря: На странных берегах',\n",
    "                        'ВАЛЛ·И') == 'Пираты Карибского моря: На странных берегах'\n",
    "    assert longest_film('Ирония судьбы, или С легким паром!', 'Иван Васильевич меняет профессию ',\n",
    "                        'Джентльмены удачи а') == 'Ирония судьбы, или С легким паром!'\n",
    "    print(\"\\nОтличная работа, отправляйте на проверку!\")"
   ]
  },
  {
   "cell_type": "code",
   "execution_count": 47,
   "metadata": {},
   "outputs": [
    {
     "name": "stdout",
     "output_type": "stream",
     "text": [
      "\n",
      "Отличная работа, отправляйте на проверку!\n"
     ]
    }
   ],
   "source": [
    "def string_slices(string: str) -> str:\n",
    "    clear_string = string.replace('%%', '').replace('&#', '')\n",
    "    return clear_string\n",
    "    \n",
    "if __name__ == '__main__':\n",
    "    assert string_slices(\"%%Приказ об увольнении&#\") == 'Приказ об увольнении'\n",
    "    assert string_slices(\"%%Лучший студент на курсе!&#\") == 'Лучший студент на курсе!'\n",
    "    assert string_slices(\"%%Hello World!&#\") == 'Hello World!'\n",
    "    print(\"\\nОтличная работа, отправляйте на проверку!\")"
   ]
  },
  {
   "cell_type": "code",
   "execution_count": 79,
   "metadata": {},
   "outputs": [
    {
     "name": "stdout",
     "output_type": "stream",
     "text": [
      "\n",
      "Отличная работа, отправляйте на проверку!\n"
     ]
    }
   ],
   "source": [
    "from typing import List\n",
    "\n",
    "\n",
    "def fio(initials: List[str]) -> str:\n",
    "    # мой вариант\n",
    "    return ''.join(map(lambda x: x[0], initials))\n",
    "\n",
    "\n",
    "if __name__ == '__main__':\n",
    "    assert fio(['Иванов', 'Иван', 'Иванович']) == 'ИИИ'\n",
    "    assert fio(['Жан', 'Клот', 'Вандамович']) == 'ЖКВ'\n",
    "    assert fio(['Павлов', 'Иван', 'Уралович']) == 'ПИУ'\n",
    "    assert fio(['Семейный', 'Доминик', 'Торретович']) == 'СДТ'\n",
    "    print(\"\\nОтличная работа, отправляйте на проверку!\")"
   ]
  },
  {
   "cell_type": "code",
   "execution_count": 81,
   "metadata": {},
   "outputs": [
    {
     "name": "stdout",
     "output_type": "stream",
     "text": [
      "\n",
      "Отличная работа, отправляйте на проверку!\n"
     ]
    }
   ],
   "source": [
    "def list_of_numbers(n: int) -> list:\n",
    "    # Напишите ваш код здесь\n",
    "    i = 0\n",
    "    num_list = []\n",
    "    while i < n:\n",
    "        i += 1\n",
    "        num_list.append(i)\n",
    "    return num_list\n",
    "\n",
    "    # решение эксперта\n",
    "    #return list(range(1, n + 1))\n",
    "\n",
    "\n",
    "if __name__ == '__main__':\n",
    "    assert list_of_numbers(1) == [1]\n",
    "    assert list_of_numbers(5) == [1, 2, 3, 4, 5]\n",
    "    assert list_of_numbers(9) == [1, 2, 3, 4, 5, 6, 7, 8, 9]\n",
    "    print(\"\\nОтличная работа, отправляйте на проверку!\")"
   ]
  },
  {
   "cell_type": "code",
   "execution_count": 85,
   "metadata": {},
   "outputs": [
    {
     "name": "stdout",
     "output_type": "stream",
     "text": [
      "\n",
      "Отличная работа, отправляйте на проверку!\n"
     ]
    }
   ],
   "source": [
    "def reverse(string: str) -> str:\n",
    "    # Напишите ваш код здесь\n",
    "    return string[::-1].lower()\n",
    "\n",
    "if __name__ == '__main__':\n",
    "    assert reverse('!dlroW olleH') == 'hello world!'\n",
    "    assert reverse('AvadaKedavraaaaA!') == '!aaaaarvadekadava'\n",
    "    assert reverse('хаЗерс хишав ХИТЭ в ясларбозар от-ценокан Я') == 'я наконец-то разобрался в этих ваших срезах'\n",
    "    print(\"\\nОтличная работа, отправляйте на проверку!\")"
   ]
  },
  {
   "cell_type": "code",
   "execution_count": 93,
   "metadata": {},
   "outputs": [
    {
     "name": "stdout",
     "output_type": "stream",
     "text": [
      "t\n"
     ]
    }
   ],
   "source": [
    "word = 'testing'\n",
    "word_len = len(word)\n",
    "if word_len % 2 == 0:\n",
    "    symbols = word[math.floor(word_len / 2 - 1)] + word[math.floor(word_len / 2)]\n",
    "else:\n",
    "    symbols = word[math.floor(word_len / 2 )]\n",
    "print(symbols)"
   ]
  },
  {
   "cell_type": "code",
   "execution_count": 94,
   "metadata": {},
   "outputs": [
    {
     "name": "stdout",
     "output_type": "stream",
     "text": [
      "\n",
      "Получилось!\n"
     ]
    }
   ],
   "source": [
    "import math\n",
    "def result(word: str) -> str:\n",
    "    word_len = len(word)\n",
    "    if word_len % 2 == 0:\n",
    "        symbols = word[math.floor(word_len / 2 - 1)] + word[math.floor(word_len / 2)]\n",
    "    else:\n",
    "        symbols = word[math.floor(word_len / 2)]\n",
    "    return symbols\n",
    "\n",
    "if __name__ == '__main__':\n",
    "    assert result('test') == 'es'\n",
    "    assert result('testing') == 't'\n",
    "    print(\"\\nПолучилось!\")"
   ]
  },
  {
   "cell_type": "code",
   "execution_count": 116,
   "metadata": {},
   "outputs": [
    {
     "name": "stdout",
     "output_type": "stream",
     "text": [
      "Внимание, кто-то может остаться без пары!\n"
     ]
    }
   ],
   "source": [
    "boys = ['Peter', 'Alex', 'John', 'Arthur', 'Richard', 'Michael']\n",
    "girls = ['Kate', 'Liza', 'Kira', 'Emma', 'Trisha']\n",
    "if len(boys) == len(girls):\n",
    "    boys = sorted(boys)\n",
    "    girls = sorted(girls)\n",
    "    #pairs = zip(boys, girls)\n",
    "    #pairs_str = ''.join(boys,' и ',girls)\n",
    "    #print(*boys, ' и ', *girls, sep='\\n')\n",
    "    message_str = 'Идеальные пары:'\n",
    "    for i in range(1, len(boys)):\n",
    "        message_str = message_str + \"\\n\" + boys[i] + ' и ' + girls[i]\n",
    "else:\n",
    "    message_str = 'Внимание, кто-то может остаться без пары!'\n",
    "    #pairs = []\n",
    "#z_str = [list(map(str, i)) for i in pairs]\n",
    "print(message_str)"
   ]
  },
  {
   "cell_type": "code",
   "execution_count": null,
   "metadata": {},
   "outputs": [],
   "source": [
    "def result(boys: list, girls: list) -> list:\n",
    "    word_len = len(word)\n",
    "    if word_len % 2 == 0:\n",
    "        symbols = word[math.floor(word_len / 2 - 1)] + word[math.floor(word_len / 2)]\n",
    "    else:\n",
    "        symbols = word[math.floor(word_len / 2)]\n",
    "    return symbols\n",
    "\n",
    "if __name__ == '__main__':\n",
    "    assert result( [‘Peter’, ‘Alex’, ‘John’, ‘Arthur’, ‘Richard’], [‘Kate’, ‘Liza’, ‘Kira’, ‘Emma’, ‘Trisha’]) == 'es'\n",
    "    assert result([‘Peter’, ‘Alex’, ‘John’, ‘Arthur’, ‘Richard’, ‘Michael’], [‘Kate’, ‘Liza’, ‘Kira’, ‘Emma’, ‘Trisha’]) == 'Внимание, кто-то может остаться без пары!'\n",
    "    print(\"\\nПолучилось!\")"
   ]
  },
  {
   "cell_type": "code",
   "execution_count": 12,
   "metadata": {},
   "outputs": [
    {
     "name": "stdout",
     "output_type": "stream",
     "text": [
      "{98, 35, 213, 54, 119, 15}\n"
     ]
    }
   ],
   "source": [
    "set_values = set([])\n",
    "ids = {'user1': [213, 213, 213, 15, 213], \n",
    "       'user2': [54, 54, 119, 119, 119], \n",
    "       'user3': [213, 98, 98, 35]}\n",
    "for value in ids.values():\n",
    "    set_values = set_values | set(value)\n",
    "print(set_values)"
   ]
  },
  {
   "cell_type": "code",
   "execution_count": 35,
   "metadata": {},
   "outputs": [
    {
     "name": "stdout",
     "output_type": "stream",
     "text": [
      "Поисковых запросов, содержащих 2 слов(а): 42.86 %\n",
      "Поисковых запросов, содержащих 3 слов(а): 57.14 %\n"
     ]
    }
   ],
   "source": [
    "queries = [\n",
    "    'смотреть сериалы онлайн',\n",
    "    'новости спорта',\n",
    "    'афиша кино',\n",
    "    'курс доллара',\n",
    "    'сериалы этим летом',\n",
    "    'курс по питону',\n",
    "    'сериалы про спорт',\n",
    "]\n",
    "list_que = [line.split() for line in queries]\n",
    "list_cnt = list(len(x) for x in list_que)\n",
    "cnt_2 = 0\n",
    "cnt_3 = 0\n",
    "for cnt in list_cnt:\n",
    "    if cnt == 2:\n",
    "        cnt_2 += 1\n",
    "    elif cnt == 3:\n",
    "        cnt_3 += 1\n",
    "print('Поисковых запросов, содержащих 2 слов(а):', \"{:2.2f}\".format(cnt_2 / len(queries) * 100), \"%\")\n",
    "print('Поисковых запросов, содержащих 3 слов(а):', \"{:2.2f}\".format(cnt_3 / len(queries) * 100), \"%\")"
   ]
  },
  {
   "cell_type": "code",
   "execution_count": 36,
   "metadata": {},
   "outputs": [
    {
     "name": "stdout",
     "output_type": "stream",
     "text": [
      "1 месяц время года: Зима\n",
      "4 месяц время года: Весна\n",
      "18 месяц: Некорректный номер месяца\n"
     ]
    }
   ],
   "source": [
    "def check_month(month: int):\n",
    "    if month in (1, 2, 12):\n",
    "        return 'Зима'\n",
    "    elif month in (3, 4, 5):\n",
    "        return 'Весна'\n",
    "    elif month in (6, 7, 8):\n",
    "        return 'Лето'\n",
    "    elif month in (9, 10, 11):\n",
    "        return 'Осень'\n",
    "    else:\n",
    "        return \"Некорректный номер месяца\"\n",
    "\n",
    "if __name__ == '__main__':\n",
    "    # Этот код менять не надо\n",
    "    season = check_month(1)\n",
    "    assert season == 'Зима', \"Ответ должен быть Зима\"\n",
    "    print(f\"1 месяц время года: {season}\")\n",
    "    season = check_month(4)\n",
    "    assert season == 'Весна', \"Ответ должен быть Весна\"\n",
    "    print(f\"4 месяц время года: {season}\")\n",
    "    season = check_month(18)\n",
    "    assert season == \"Некорректный номер месяца\", \"Ответ должен быть 'Некорректный номер месяца'\"\n",
    "    print(f\"18 месяц: {season}\")"
   ]
  },
  {
   "cell_type": "code",
   "execution_count": 42,
   "metadata": {},
   "outputs": [
    {
     "name": "stdout",
     "output_type": "stream",
     "text": [
      "Победитель: черепаха\n",
      "Победитель: заяц\n",
      "Победитель: одинаково\n"
     ]
    }
   ],
   "source": [
    "def solve(hare_distances: list, turtle_distances: list):\n",
    "    hare_all = 0 # подсчитайте общую дистанцию зайца\n",
    "    for dist in hare_distances:\n",
    "        hare_all += dist\n",
    "    turtle_all = 0 # подсчитайте общую дистанцию черепахи\n",
    "    for dist in turtle_distances:\n",
    "        turtle_all += dist\n",
    "    # определите, кто из двоих прошел бОльшую дистанцию\n",
    "    if hare_all > turtle_all:\n",
    "        result = \"заяц\"\n",
    "    elif  hare_all < turtle_all:\n",
    "        result = \"черепаха\"\n",
    "    else:\n",
    "        result = \"одинаково\"\n",
    "    return result\n",
    "\n",
    "if __name__ == '__main__':\n",
    "    # Этот код менять не надо\n",
    "    result = solve([8, 5, 3, 2, 0, 1, 1], [3, 3, 3, 3, 3, 3, 3])\n",
    "    assert result == \"черепаха\", f\"Победитель определен неверно: {result}\"\n",
    "    print(f\"Победитель: {result}\")\n",
    "    result = solve([8, 5, 3, 2, 2, 1, 1], [3, 3, 3, 3, 3, 3, 3])\n",
    "    assert result == \"заяц\", f\"Победитель определен неверно: {result}\"\n",
    "    print(f\"Победитель: {result}\")\n",
    "    result = solve([8, 5, 3, 2, 1, 1, 1], [3, 3, 3, 3, 3, 3, 3])\n",
    "    assert result == \"одинаково\", f\"Победитель определен неверно: {result}\"\n",
    "    print(f\"Победитель: {result}\")"
   ]
  },
  {
   "cell_type": "code",
   "execution_count": 41,
   "metadata": {},
   "outputs": [
    {
     "name": "stdout",
     "output_type": "stream",
     "text": [
      "черепаха\n"
     ]
    }
   ],
   "source": [
    "hare_distances = [8, 5, 3, 2, 0, 1, 1]\n",
    "\n",
    "turtle_distances = [3, 3, 3, 3, 3, 3, 3]\n",
    "\n",
    "hare_all = 0 # подсчитайте общую дистанцию зайца\n",
    "for dist in hare_distances:\n",
    "    hare_all += dist\n",
    "turtle_all = 0 # подсчитайте общую дистанцию черепахи\n",
    "for dist in turtle_distances:\n",
    "    turtle_all += dist\n",
    "# определите, кто из двоих прошел бОльшую дистанцию\n",
    "if hare_all > turtle_all:\n",
    "    result = \"заяц\"\n",
    "elif  hare_all < turtle_all:\n",
    "    result = \"черепаха\"\n",
    "else:\n",
    "    result = \"одинаково\"\n",
    "print(result)"
   ]
  },
  {
   "cell_type": "code",
   "execution_count": 11,
   "metadata": {},
   "outputs": [
    {
     "name": "stdout",
     "output_type": "stream",
     "text": [
      "Без пробелов нажалкабаннабаклажан\n",
      "Полиндром нажалкабаннабаклажан\n",
      "\n",
      "\n",
      "Без пробелов домоккакмод\n",
      "\n",
      "\n",
      "Без пробелов рвалдедлавр\n",
      "Полиндром рвалдедлавр\n",
      "\n",
      "\n",
      "Без пробелов азоткалийилактоза\n",
      "Полиндром азоткалийилактоза\n",
      "\n",
      "\n",
      "Без пробелов асобакабоса\n",
      "Полиндром асобакабоса\n",
      "\n",
      "\n",
      "Без пробелов тонетенот\n",
      "Полиндром тонетенот\n",
      "\n",
      "\n",
      "Без пробелов кармнамрак\n",
      "\n",
      "\n",
      "Без пробелов пустсуп\n",
      "Полиндром пустсуп\n",
      "\n",
      "\n"
     ]
    }
   ],
   "source": [
    "phrases = [\"нажал кабан на баклажан\", \"дом как комод\", \"рвал дед лавр\", \"азот калий и лактоза\",\n",
    "               \"а собака боса\", \"тонет енот\", \"карман мрак\", \"пуст суп\"]\n",
    "result = [] # список палиндромов    \n",
    "for phrase in phrases: # пройдите циклом по всем фразам\n",
    "    phrase = phrase.replace(' ', '') # сохраните фразу без пробелов\n",
    "    print('Без пробелов', phrase[::-1])\n",
    "    if phrase[::1] == phrase[::-1]: # сравните фразу с ней же, развернутой наоборот (через [::-1])\n",
    "        print('Полиндром', phrase)\n",
    "    print('\\n')"
   ]
  },
  {
   "cell_type": "code",
   "execution_count": 16,
   "metadata": {},
   "outputs": [
    {
     "name": "stdout",
     "output_type": "stream",
     "text": [
      "Палиндромы: ['нажал кабан на баклажан', 'рвал дед лавр', 'азот калий и лактоза', 'а собака боса', 'тонет енот', 'пуст суп']\n"
     ]
    }
   ],
   "source": [
    "def solve(phrases: list):\n",
    "    result = [] # список палиндромов    \n",
    "    for phrase in phrases: # пройдите циклом по всем фразам\n",
    "        phrase_ = phrase.replace(' ', '') # сохраните фразу без пробелов\n",
    "        if phrase_[::1] == phrase_[::-1]: # сравните фразу с ней же, развернутой наоборот (через [::-1])\n",
    "            result.append(phrase)\n",
    "    return result\n",
    "\n",
    "if __name__ == '__main__':\n",
    "    # Этот код менять не нужно\n",
    "    phrases = [\"нажал кабан на баклажан\", \"дом как комод\", \"рвал дед лавр\", \"азот калий и лактоза\",\n",
    "               \"а собака боса\", \"тонет енот\", \"карман мрак\", \"пуст суп\"]\n",
    "    result = solve(phrases)\n",
    "    assert result == [\"нажал кабан на баклажан\", \"рвал дед лавр\", \"азот калий и лактоза\",\n",
    "               \"а собака боса\", \"тонет енот\", \"пуст суп\"], f\"Неверный результат: {result}\"\n",
    "    print(f\"Палиндромы: {result}\")\n"
   ]
  },
  {
   "cell_type": "code",
   "execution_count": 496,
   "metadata": {},
   "outputs": [
    {
     "name": "stdout",
     "output_type": "stream",
     "text": [
      "Список покупок на 5 персон: Салат: картофель 500 гр., морковь 250 гр., огурцы 250 гр., горошек 150 гр., майонез 350 мл.Пицца: сыр 250 гр., томаты 250 гр., тесто 500 гр., бекон 150 гр., колбаса 150 гр., грибы 100 гр.Фруктовый десерт: хурма 300 гр., киви 300 гр., творог 300 гр., сахар 50 гр., мед 250 мл.\n"
     ]
    }
   ],
   "source": [
    "cook_book = [\n",
    "      ['Салат',\n",
    "          [\n",
    "            ['картофель', 100, 'гр.'],\n",
    "            ['морковь', 50, 'гр.'],\n",
    "            ['огурцы', 50, 'гр.'],\n",
    "            ['горошек', 30, 'гр.'],\n",
    "            ['майонез', 70, 'мл.'],\n",
    "          ]\n",
    "      ],\n",
    "      ['Пицца',\n",
    "          [\n",
    "            ['сыр', 50, 'гр.'],\n",
    "            ['томаты', 50, 'гр.'],\n",
    "            ['тесто', 100, 'гр.'],\n",
    "            ['бекон', 30, 'гр.'],\n",
    "            ['колбаса', 30, 'гр.'],\n",
    "            ['грибы', 20, 'гр.'],\n",
    "          ],\n",
    "      ],\n",
    "      ['Фруктовый десерт',\n",
    "          [\n",
    "            ['хурма', 60, 'гр.'],\n",
    "            ['киви', 60, 'гр.'],\n",
    "            ['творог', 60, 'гр.'],\n",
    "            ['сахар', 10, 'гр.'],\n",
    "            ['мед', 50, 'мл.'],\n",
    "          ]\n",
    "      ]\n",
    "    ] \n",
    "person = 5\n",
    "result = ''\n",
    "    # самостоятельно напишите код решения:\n",
    "for meal in cook_book:\n",
    "    str_new = []\n",
    "    for product in meal[1]:\n",
    "        product[1] = product[1] * person\n",
    "        str_new.append(f'{product[0]} {product[1]} {product[2]}')\n",
    "    result += f'{meal[0]}: {\", \".join(str_new)}' \n",
    "print(f'Список покупок на 5 персон: {result}')"
   ]
  },
  {
   "cell_type": "code",
   "execution_count": 137,
   "metadata": {},
   "outputs": [
    {
     "name": "stdout",
     "output_type": "stream",
     "text": [
      "Список покупок на 5 персон: ['Салаткартофель 500 гр. морковь 250 гр. огурцы 250 гр. горошек 150 гр. майонез 350 мл. ', 'Пиццасыр 250 гр. томаты 250 гр. тесто 500 гр. бекон 150 гр. колбаса 150 гр. грибы 100 гр. ', 'Фруктовый десертхурма 300 гр. киви 300 гр. творог 300 гр. сахар 50 гр. мед 250 мл. ']\n"
     ]
    }
   ],
   "source": [
    "cook_book = [\n",
    "      ['Салат',\n",
    "          [\n",
    "            ['картофель', 100, 'гр.'],\n",
    "            ['морковь', 50, 'гр.'],\n",
    "            ['огурцы', 50, 'гр.'],\n",
    "            ['горошек', 30, 'гр.'],\n",
    "            ['майонез', 70, 'мл.'],\n",
    "          ]\n",
    "      ],\n",
    "      ['Пицца',\n",
    "          [\n",
    "            ['сыр', 50, 'гр.'],\n",
    "            ['томаты', 50, 'гр.'],\n",
    "            ['тесто', 100, 'гр.'],\n",
    "            ['бекон', 30, 'гр.'],\n",
    "            ['колбаса', 30, 'гр.'],\n",
    "            ['грибы', 20, 'гр.'],\n",
    "          ],\n",
    "      ],\n",
    "      ['Фруктовый десерт',\n",
    "          [\n",
    "            ['хурма', 60, 'гр.'],\n",
    "            ['киви', 60, 'гр.'],\n",
    "            ['творог', 60, 'гр.'],\n",
    "            ['сахар', 10, 'гр.'],\n",
    "            ['мед', 50, 'мл.'],\n",
    "          ]\n",
    "      ]\n",
    "    ] \n",
    "person = 5\n",
    "result = []\n",
    "    # самостоятельно напишите код решения:\n",
    "for meal in cook_book:\n",
    "    str_res = ''\n",
    "    str_meal = f'{meal[0]}'\n",
    "    res_meal = []\n",
    "    str_new = ''\n",
    "    for product in meal[1]:\n",
    "        pr_cap, pr_w, pr_un = product\n",
    "        pr_w = pr_w * person\n",
    "        #str_new.append(f'{product[0]} {product[1]} {product[2]}')\n",
    "        str_new += f'{pr_cap} {pr_w} {pr_un} '\n",
    "        res_meal.append(str_new)\n",
    "        #print(res_meal)\n",
    "    #str_meal = str_meal + f'{str_new}'\n",
    "    #str_meal += '\\n'\n",
    "    #print(f\"Список ингридиентов на 5 персон: {res_meal}\")   \n",
    "    str_res = str_meal + str_new\n",
    "    result.append(str_res) \n",
    "#print(*result, sep = '\\n')\n",
    "print(f\"Список покупок на 5 персон: {result}\")"
   ]
  },
  {
   "cell_type": "code",
   "execution_count": 505,
   "metadata": {},
   "outputs": [
    {
     "name": "stdout",
     "output_type": "stream",
     "text": [
      "['Салат: картофель 500 гр., морковь 250 гр., огурцы 250 гр., горошек 150 гр., майонез 350 мл.', 'Пицца: сыр 250 гр., томаты 250 гр., тесто 500 гр., бекон 150 гр., колбаса 150 гр., грибы 100 гр.', 'Фруктовый десерт: хурма 300 гр., киви 300 гр., творог 300 гр., сахар 50 гр., мед 250 мл.'] \n",
      "\n",
      "Список покупок на 5 персон: ['Салат: картофель 500 гр., морковь 250 гр., огурцы 250 гр., горошек 150 гр., майонез 350 мл.', 'Пицца: сыр 250 гр., томаты 250 гр., тесто 500 гр., бекон 150 гр., колбаса 150 гр., грибы 100 гр.', 'Фруктовый десерт: хурма 300 гр., киви 300 гр., творог 300 гр., сахар 50 гр., мед 250 мл.']\n"
     ]
    }
   ],
   "source": [
    "def solve(cook_book: list, person: int):\n",
    "    lst_res = []\n",
    "    # самостоятельно напишите код решения:\n",
    "    for meal in cook_book:\n",
    "        lst_new = []\n",
    "        for product in meal[1]:\n",
    "            product[1] = product[1] * person\n",
    "            lst_new.append(f'{product[0]} {product[1]} {product[2]}')\n",
    "        lst_res.append(f'{meal[0]}: {\", \".join(lst_new)}')\n",
    "    return lst_res\n",
    "\n",
    "if __name__ == '__main__':\n",
    "    # Этот код менять не нужно\n",
    "    cook_book = [\n",
    "      ['Салат',\n",
    "          [\n",
    "            ['картофель', 100, 'гр.'],\n",
    "            ['морковь', 50, 'гр.'],\n",
    "            ['огурцы', 50, 'гр.'],\n",
    "            ['горошек', 30, 'гр.'],\n",
    "            ['майонез', 70, 'мл.'],\n",
    "          ]\n",
    "      ],\n",
    "      ['Пицца',\n",
    "          [\n",
    "            ['сыр', 50, 'гр.'],\n",
    "            ['томаты', 50, 'гр.'],\n",
    "            ['тесто', 100, 'гр.'],\n",
    "            ['бекон', 30, 'гр.'],\n",
    "            ['колбаса', 30, 'гр.'],\n",
    "            ['грибы', 20, 'гр.'],\n",
    "          ],\n",
    "      ],\n",
    "      ['Фруктовый десерт',\n",
    "          [\n",
    "            ['хурма', 60, 'гр.'],\n",
    "            ['киви', 60, 'гр.'],\n",
    "            ['творог', 60, 'гр.'],\n",
    "            ['сахар', 10, 'гр.'],\n",
    "            ['мед', 50, 'мл.'],\n",
    "          ]\n",
    "      ]\n",
    "    ]\n",
    "\n",
    "    result = solve(cook_book, 5)\n",
    "    print(result)\n",
    "    assert result == ['Салат: картофель 500 гр., морковь 250 гр., огурцы 250 гр., горошек 150 гр., майонез 350 мл.',\n",
    "                      'Пицца: сыр 250 гр., томаты 250 гр., тесто 500 гр., бекон 150 гр., колбаса 150 гр., грибы 100 гр.',\n",
    "                      'Фруктовый десерт: хурма 300 гр., киви 300 гр., творог 300 гр., сахар 50 гр., мед 250 мл.'],\\\n",
    "            f\"Неверный результат: {result}\"\n",
    "    print(f\"Список покупок на 5 персон: {result}\")\n"
   ]
  },
  {
   "cell_type": "code",
   "execution_count": null,
   "metadata": {},
   "outputs": [],
   "source": [
    "for i, meal in enumerate(cook_book):\n",
    "    print(f'{meal[0]}:', end = ' ')\n",
    "    for j, list_meal in enumerate(meal[1]):\n",
    "        list_meal[1] = list_meal[1] * person\n",
    "        print(list_meal[0], list_meal[1], list_meal[2], end = ', ')\n",
    "    print('')"
   ]
  },
  {
   "cell_type": "code",
   "execution_count": 143,
   "metadata": {},
   "outputs": [
    {
     "name": "stdout",
     "output_type": "stream",
     "text": [
      "['500 ГБ 2.5\" SATA накопитель Samsung 870 EVO', '480 ГБ 2.5\" SATA накопитель WD Green'] 2\n"
     ]
    }
   ],
   "source": [
    "models = ['480 ГБ 2.5\" SATA накопитель Kingston A400', '500 ГБ 2.5\" SATA накопитель Samsung 870 EVO',\n",
    "              '480 ГБ 2.5\" SATA накопитель ADATA SU650', '240 ГБ 2.5\" SATA накопитель ADATA SU650',\n",
    "              '250 ГБ 2.5\" SATA накопитель Samsung 870 EVO', '256 ГБ 2.5\" SATA накопитель Apacer AS350 PANTHER',\n",
    "              '480 ГБ 2.5\" SATA накопитель WD Green', '500 ГБ 2.5\" SATA накопитель WD Red SA500']\n",
    "available = [1, 1, 1, 1, 0, 1, 1, 0]\n",
    "manufacturers = ['Intel', 'Samsung', 'WD']\n",
    "\n",
    "repair_count = 0 # количество дисков, которые купит сисадмин\n",
    "ssds = [] # модели дисков из списка models, которые купит сисадмин\n",
    "\n",
    "    # код вашего решения ниже:\n",
    "for num, model in enumerate(models):\n",
    "    list_model = model.split(sep = ' ')\n",
    "    if (list_model[5] in manufacturers) & (available[num] == 1):\n",
    "        repair_count += 1\n",
    "        ssds.append(model)\n",
    "print(ssds, repair_count) # Этот код менять не нужно\n"
   ]
  },
  {
   "cell_type": "code",
   "execution_count": 144,
   "metadata": {},
   "outputs": [
    {
     "name": "stdout",
     "output_type": "stream",
     "text": [
      "Сисадмин Василий сможет купить диски: ['500 ГБ 2.5\" SATA накопитель Samsung 870 EVO', '480 ГБ 2.5\" SATA накопитель WD Green'] и починить 2 компьютера\n"
     ]
    }
   ],
   "source": [
    "def solve(models: list, available: list, manufacturers: list):\n",
    "    repair_count = 0 # количество дисков, которые купит сисадмин\n",
    "    ssds = [] # модели дисков из списка models, которые купит сисадмин\n",
    "    # код вашего решения ниже:\n",
    "    for num, model in enumerate(models):\n",
    "        list_model = model.split(sep = ' ')\n",
    "        if (list_model[5] in manufacturers) & (available[num] == 1):\n",
    "            repair_count += 1\n",
    "            ssds.append(model)\n",
    "    return ssds, repair_count # Этот код менять не нужно\n",
    "\n",
    "if __name__ == '__main__':\n",
    "    # Этот код менять не нужно\n",
    "    models = ['480 ГБ 2.5\" SATA накопитель Kingston A400', '500 ГБ 2.5\" SATA накопитель Samsung 870 EVO',\n",
    "              '480 ГБ 2.5\" SATA накопитель ADATA SU650', '240 ГБ 2.5\" SATA накопитель ADATA SU650',\n",
    "              '250 ГБ 2.5\" SATA накопитель Samsung 870 EVO', '256 ГБ 2.5\" SATA накопитель Apacer AS350 PANTHER',\n",
    "              '480 ГБ 2.5\" SATA накопитель WD Green', '500 ГБ 2.5\" SATA накопитель WD Red SA500']\n",
    "    available = [1, 1, 1, 1, 0, 1, 1, 0]\n",
    "    manufacturers = ['Intel', 'Samsung', 'WD']\n",
    "\n",
    "    result = solve(models, available, manufacturers)\n",
    "    assert result == (['500 ГБ 2.5\" SATA накопитель Samsung 870 EVO', '480 ГБ 2.5\" SATA накопитель WD Green'], 2), \\\n",
    "        f\"Неверный результат: {result}\"\n",
    "    print(f\"Сисадмин Василий сможет купить диски: {result[0]} и починить {result[1]} компьютера\")\n"
   ]
  },
  {
   "cell_type": "code",
   "execution_count": 194,
   "metadata": {},
   "outputs": [
    {
     "name": "stdout",
     "output_type": "stream",
     "text": [
      "[['Александр', 10], ['Евгений', 5], ['Максим', 4]]\n",
      "Александр: 10 раз(а), Евгений: 5 раз(а), Максим: 4 раз(а)\n"
     ]
    }
   ],
   "source": [
    "courses = [\"Python-разработчик с нуля\", \"Java-разработчик с нуля\", \"Fullstack-разработчик на Python\", \"Frontend-разработчик с нуля\"]\n",
    "\n",
    "mentors = [\n",
    "\t[\"Евгений Шмаргунов\", \"Олег Булыгин\", \"Дмитрий Демидов\", \"Кирилл Табельский\", \"Александр Ульянцев\", \"Александр Бардин\", \"Александр Иванов\", \"Антон Солонилин\", \"Максим Филипенко\", \"Елена Никитина\", \"Азамат Искаков\", \"Роман Гордиенко\"],\n",
    "\t[\"Филипп Воронов\", \"Анна Юшина\", \"Иван Бочаров\", \"Анатолий Корсаков\", \"Юрий Пеньков\", \"Илья Сухачев\", \"Иван Маркитан\", \"Ринат Бибиков\", \"Вадим Ерошевичев\", \"Тимур Сейсембаев\", \"Максим Батырев\", \"Никита Шумский\", \"Алексей Степанов\", \"Денис Коротков\", \"Антон Глушков\", \"Сергей Индюков\", \"Максим Воронцов\", \"Евгений Грязнов\", \"Константин Виролайнен\", \"Сергей Сердюк\", \"Павел Дерендяев\"],\n",
    "\t[\"Евгений Шмаргунов\", \"Олег Булыгин\", \"Александр Бардин\", \"Александр Иванов\", \"Кирилл Табельский\", \"Александр Ульянцев\", \"Роман Гордиенко\", \"Адилет Асканжоев\", \"Александр Шлейко\", \"Алена Батицкая\", \"Денис Ежков\", \"Владимир Чебукин\", \"Эдгар Нуруллин\", \"Евгений Шек\", \"Максим Филипенко\", \"Елена Никитина\"],\n",
    "\t[\"Владимир Чебукин\", \"Эдгар Нуруллин\", \"Евгений Шек\", \"Валерий Хаслер\", \"Татьяна Тен\", \"Александр Фитискин\", \"Александр Шлейко\", \"Алена Батицкая\", \"Александр Беспоясов\", \"Денис Ежков\", \"Николай Лопин\", \"Михаил Ларченко\"]\n",
    "]\n",
    "# Добавьте в список всех преподавателей со всех курсов\n",
    "all_list = []\n",
    "for m in mentors:\n",
    "# Допишите здесь ваш код, который заполнит all_list. Можете как складывать списки, так и использовать метод extend\n",
    "    for lst_item in m:\n",
    "        all_list.append(lst_item)\n",
    "# Сделайте список all_names_list, состоящий только из имён, и заполните его\n",
    "all_names_list = []\n",
    "for mentor in all_list:\n",
    "    name = mentor.split()[0]\n",
    "    all_names_list.append(name)\n",
    "# Сделайте так, чтобы остались только уникальные имена (без повторений) - допишите ниже ваш код\n",
    "unique_names = set(all_names_list)\n",
    "\n",
    "# Подсчитайте встречаемость каждого имени через list.count()\n",
    "popular = []\n",
    "for name in unique_names:\n",
    "    popular.append([name, all_names_list.count(name)])\n",
    "popular.sort(key=lambda x:x[1], reverse=True)\n",
    "top_3 = popular[:3]\n",
    "#popular_sorted = sorted(popular[1])\n",
    "print(top_3)\n",
    "top_3_output = []\n",
    "for item in top_3:\n",
    "    top_3_output.append(f'{item[0]}: {item[1]} раз(а)')\n",
    "print(', '.join(top_3_output))"
   ]
  },
  {
   "cell_type": "code",
   "execution_count": null,
   "metadata": {},
   "outputs": [],
   "source": [
    "courses = [\"Python-разработчик с нуля\", \"Java-разработчик с нуля\", \"Fullstack-разработчик на Python\", \"Frontend-разработчик с нуля\"]\n",
    "\n",
    "mentors = [\n",
    "\t[\"Евгений Шмаргунов\", \"Олег Булыгин\", \"Дмитрий Демидов\", \"Кирилл Табельский\", \"Александр Ульянцев\", \"Александр Бардин\", \"Александр Иванов\", \"Антон Солонилин\", \"Максим Филипенко\", \"Елена Никитина\", \"Азамат Искаков\", \"Роман Гордиенко\"],\n",
    "\t[\"Филипп Воронов\", \"Анна Юшина\", \"Иван Бочаров\", \"Анатолий Корсаков\", \"Юрий Пеньков\", \"Илья Сухачев\", \"Иван Маркитан\", \"Ринат Бибиков\", \"Вадим Ерошевичев\", \"Тимур Сейсембаев\", \"Максим Батырев\", \"Никита Шумский\", \"Алексей Степанов\", \"Денис Коротков\", \"Антон Глушков\", \"Сергей Индюков\", \"Максим Воронцов\", \"Евгений Грязнов\", \"Константин Виролайнен\", \"Сергей Сердюк\", \"Павел Дерендяев\"],\n",
    "\t[\"Евгений Шмаргунов\", \"Олег Булыгин\", \"Александр Бардин\", \"Александр Иванов\", \"Кирилл Табельский\", \"Александр Ульянцев\", \"Роман Гордиенко\", \"Адилет Асканжоев\", \"Александр Шлейко\", \"Алена Батицкая\", \"Денис Ежков\", \"Владимир Чебукин\", \"Эдгар Нуруллин\", \"Евгений Шек\", \"Максим Филипенко\", \"Елена Никитина\"],\n",
    "\t[\"Владимир Чебукин\", \"Эдгар Нуруллин\", \"Евгений Шек\", \"Валерий Хаслер\", \"Татьяна Тен\", \"Александр Фитискин\", \"Александр Шлейко\", \"Алена Батицкая\", \"Александр Беспоясов\", \"Денис Ежков\", \"Николай Лопин\", \"Михаил Ларченко\"]\n",
    "]\n",
    "\n",
    "# Добавьте в список всех преподавателей со всех курсов\n",
    "all_list = []\n",
    "for m in mentors:\n",
    "# Допишите здесь ваш код, который заполнит all_list. Можете как складывать списки, так и использовать метод extend\n",
    "    for lst_item in m:\n",
    "        all_list.append(lst_item)\n",
    "# Сделайте список all_names_list, состоящий только из имён, и заполните его\n",
    "all_names_list = []\n",
    "for mentor in all_list:\n",
    "    name = mentor.split()[0]\n",
    "    all_names_list.append(name)\n",
    "# Сделайте так, чтобы остались только уникальные имена (без повторений) - допишите ниже ваш код\n",
    "unique_names = set(all_names_list)\n",
    "# Теперь необходимо отсортировать имена в алфавитном порядке. Подсказка: используйте sorted() для списка\n",
    "# Допишите код ниже\n",
    "all_names_sorted = sorted(unique_names)\n",
    "# Допишите конструкцию вывода результата. Используйте string.join()\n",
    "# Результат будет в all_names_sorted\n",
    "all_names_sorted_str = ', '.join(all_names_sorted)\n",
    "print(f'Уникальные имена преподавателей: {all_names_sorted_str}')"
   ]
  },
  {
   "cell_type": "code",
   "execution_count": 263,
   "metadata": {},
   "outputs": [
    {
     "name": "stdout",
     "output_type": "stream",
     "text": [
      "На курсах 'Python-разработчик с нуля' и 'Java-разработчик с нуля' преподают: Антон, Евгений, Максим\n",
      "На курсах 'Python-разработчик с нуля' и 'Fullstack-разработчик на Python' преподают: Александр, Евгений, Елена, Кирилл, Максим, Олег, Роман\n",
      "На курсах 'Python-разработчик с нуля' и 'Frontend-разработчик с нуля' преподают: Александр, Евгений\n",
      "На курсах 'Java-разработчик с нуля' и 'Fullstack-разработчик на Python' преподают: Денис, Евгений, Максим\n",
      "На курсах 'Java-разработчик с нуля' и 'Frontend-разработчик с нуля' преподают: Денис, Евгений\n",
      "На курсах 'Fullstack-разработчик на Python' и 'Frontend-разработчик с нуля' преподают: Александр, Алена, Владимир, Денис, Евгений, Эдгар\n"
     ]
    }
   ],
   "source": [
    "courses = [\"Python-разработчик с нуля\", \"Java-разработчик с нуля\", \"Fullstack-разработчик на Python\", \"Frontend-разработчик с нуля\"]\n",
    "\n",
    "mentors = [\n",
    "\t[\"Евгений Шмаргунов\", \"Олег Булыгин\", \"Дмитрий Демидов\", \"Кирилл Табельский\", \"Александр Ульянцев\", \"Александр Бардин\", \"Александр Иванов\", \"Антон Солонилин\", \"Максим Филипенко\", \"Елена Никитина\", \"Азамат Искаков\", \"Роман Гордиенко\"],\n",
    "\t[\"Филипп Воронов\", \"Анна Юшина\", \"Иван Бочаров\", \"Анатолий Корсаков\", \"Юрий Пеньков\", \"Илья Сухачев\", \"Иван Маркитан\", \"Ринат Бибиков\", \"Вадим Ерошевичев\", \"Тимур Сейсембаев\", \"Максим Батырев\", \"Никита Шумский\", \"Алексей Степанов\", \"Денис Коротков\", \"Антон Глушков\", \"Сергей Индюков\", \"Максим Воронцов\", \"Евгений Грязнов\", \"Константин Виролайнен\", \"Сергей Сердюк\", \"Павел Дерендяев\"],\n",
    "\t[\"Евгений Шмаргунов\", \"Олег Булыгин\", \"Александр Бардин\", \"Александр Иванов\", \"Кирилл Табельский\", \"Александр Ульянцев\", \"Роман Гордиенко\", \"Адилет Асканжоев\", \"Александр Шлейко\", \"Алена Батицкая\", \"Денис Ежков\", \"Владимир Чебукин\", \"Эдгар Нуруллин\", \"Евгений Шек\", \"Максим Филипенко\", \"Елена Никитина\"],\n",
    "\t[\"Владимир Чебукин\", \"Эдгар Нуруллин\", \"Евгений Шек\", \"Валерий Хаслер\", \"Татьяна Тен\", \"Александр Фитискин\", \"Александр Шлейко\", \"Алена Батицкая\", \"Александр Беспоясов\", \"Денис Ежков\", \"Николай Лопин\", \"Михаил Ларченко\"]\n",
    "]\n",
    "\n",
    "#mentors_courses = zip(courses, mentors)\n",
    "#print(list(mentors_courses))\n",
    "# Делаем список списков имён\n",
    "mentors_names = []\n",
    "for m in mentors:\n",
    "    course_names = []\n",
    "    for name in m:\n",
    "        course_names.append(name.split()[0])\n",
    "        # print(list(course_names))\n",
    "    mentors_names.append(course_names)\n",
    "# Храните здесь пары курсов, в которых есть совпавшие имена\n",
    "pairs = []\n",
    "# # Попарное сравнение \"наборов\" преподавателей на курсах. Каждую новую пару запоминаем для исключения повторов.\n",
    "for id1 in range(len(mentors_names)):\n",
    "    for id2 in range(len(mentors_names)):\n",
    "        # Проверьте, что вы не сравниваете список сам с собой:\n",
    "        if id1 == id2:\n",
    "            continue\n",
    "        # Допишите ниже код для сравнения двух \"наборов\" преподавателей. Подсказка: используйте множества\n",
    "        intersection_set = set(mentors_names[id1]) & set(mentors_names[id2])\n",
    "        if len(intersection_set) > 0: # Допишите проверку, что результат не пустой, имена есть\n",
    "            # Допишите ниже код, который проверяет, что эта пара ещё не встречалась\n",
    "            pair = {courses[id1], courses[id2]}\n",
    "            # Если pair еще не встречалась, то выведите на экран два курса и список преподавателей, которые есть на обоих курсах\n",
    "            if pair not in pairs:\n",
    "                pairs.append(pair)\n",
    "                # Отсортируйте имена по алфавиту. Подсказка: используйте sorted() для списка\n",
    "                all_names_sorted = sorted(intersection_set)\n",
    "                # Допишите конструкцию вывода результата. Используйте string.join()\n",
    "                print(f\"На курсах '{courses[id1]}' и '{courses[id2]}' преподают: {', '.join(all_names_sorted)}\")"
   ]
  },
  {
   "cell_type": "code",
   "execution_count": 284,
   "metadata": {},
   "outputs": [
    {
     "name": "stdout",
     "output_type": "stream",
     "text": [
      "1 — число цели, которая проявляется в форме агрессивности и амбиций\n",
      "Коду 1 соответствуют: Адилет, Азамат, Денис, Евгений, Ринат, Роман, Сергей\n",
      "2 — число равновесия и контраста одновременно, поддерживает равновесие, смешивая позитивные и негативные качества\n",
      "Коду 2 соответствуют: Владимир, Иван, Тимур\n",
      "3 — неустойчивость, объединяет талант и весёлость, символ приспосабливаемости\n",
      "Коду 3 соответствуют: Олег, Татьяна\n",
      "4 — означает устойчивость и прочность\n",
      "Коду 4 соответствуют: Антон, Кирилл, Павел\n",
      "5 — символизирует риск, свободу и душевное беспокойство, которое толкает человека к путешествиям и новому опыту. С одной стороны, это самое счастливое число, с другой — самое непредсказуемое\n",
      "Коду 5 соответствуют: Алексей, Анна, Елена, Илья, Никита, Эдгар\n",
      "6 — символ надёжности. Идеальное число, которое делится как на чётное, так и на нечётное, объединяя элементы каждого\n",
      "Коду 6 соответствуют: Анатолий, Вадим, Николай\n",
      "7 — символизирует тайну, а также изучение и знание как путь исследования неизвестного и невидимого\n",
      "Коду 7 соответствуют: Дмитрий, Максим\n",
      "8 — число материального успеха, означает надёжность, доведённую до совершенства, символ всеобщего успеха\n",
      "Коду 8 соответствуют: Валерий, Константин, Михаил, Филипп, Юрий\n",
      "9 — указывает на сильную личность с потенциальным интеллектом, способную к высокому развитию\n",
      "Коду 9 соответствуют: Александр, Алена\n"
     ]
    }
   ],
   "source": [
    "courses = [\"Python-разработчик с нуля\", \"Java-разработчик с нуля\", \"Fullstack-разработчик на Python\", \"Frontend-разработчик с нуля\"]\n",
    "\n",
    "mentors = [\n",
    "\t[\"Евгений Шмаргунов\", \"Олег Булыгин\", \"Дмитрий Демидов\", \"Кирилл Табельский\", \"Александр Ульянцев\", \"Александр Бардин\", \"Александр Иванов\", \"Антон Солонилин\", \"Максим Филипенко\", \"Елена Никитина\", \"Азамат Искаков\", \"Роман Гордиенко\"],\n",
    "\t[\"Филипп Воронов\", \"Анна Юшина\", \"Иван Бочаров\", \"Анатолий Корсаков\", \"Юрий Пеньков\", \"Илья Сухачев\", \"Иван Маркитан\", \"Ринат Бибиков\", \"Вадим Ерошевичев\", \"Тимур Сейсембаев\", \"Максим Батырев\", \"Никита Шумский\", \"Алексей Степанов\", \"Денис Коротков\", \"Антон Глушков\", \"Сергей Индюков\", \"Максим Воронцов\", \"Евгений Грязнов\", \"Константин Виролайнен\", \"Сергей Сердюк\", \"Павел Дерендяев\"],\n",
    "\t[\"Евгений Шмаргунов\", \"Олег Булыгин\", \"Александр Бардин\", \"Александр Иванов\", \"Кирилл Табельский\", \"Александр Ульянцев\", \"Роман Гордиенко\", \"Адилет Асканжоев\", \"Александр Шлейко\", \"Алена Батицкая\", \"Денис Ежков\", \"Владимир Чебукин\", \"Эдгар Нуруллин\", \"Евгений Шек\", \"Максим Филипенко\", \"Елена Никитина\"],\n",
    "\t[\"Владимир Чебукин\", \"Эдгар Нуруллин\", \"Евгений Шек\", \"Валерий Хаслер\", \"Татьяна Тен\", \"Александр Фитискин\", \"Александр Шлейко\", \"Алена Батицкая\", \"Александр Беспоясов\", \"Денис Ежков\", \"Николай Лопин\", \"Михаил Ларченко\"]\n",
    "]\n",
    "\n",
    "codes_info = [\n",
    "\t\"\",\n",
    "\t\"1 — число цели, которая проявляется в форме агрессивности и амбиций\",\n",
    "\t\"2 — число равновесия и контраста одновременно, поддерживает равновесие, смешивая позитивные и негативные качества\",\n",
    "\t\"3 — неустойчивость, объединяет талант и весёлость, символ приспосабливаемости\",\n",
    "\t\"4 — означает устойчивость и прочность\",\n",
    "\t\"5 — символизирует риск, свободу и душевное беспокойство, которое толкает человека к путешествиям и новому опыту. С одной стороны, это самое счастливое число, с другой — самое непредсказуемое\",\n",
    "\t\"6 — символ надёжности. Идеальное число, которое делится как на чётное, так и на нечётное, объединяя элементы каждого\",\n",
    "\t\"7 — символизирует тайну, а также изучение и знание как путь исследования неизвестного и невидимого\",\n",
    "\t\"8 — число материального успеха, означает надёжность, доведённую до совершенства, символ всеобщего успеха\",\n",
    "\t\"9 — указывает на сильную личность с потенциальным интеллектом, способную к высокому развитию\"\n",
    "]\n",
    "# Здесь ничего менять не нужно, это готовый код, который считает число имени\n",
    "def calc_namecode(name):\n",
    "    letters = [\"\", \"А\", \"Б\", \"В\", \"Г\", \"Д\", \"Е\", \"Ё\", \"Ж\", \"З\", \"И\", \"Й\", \"К\", \"Л\", \"М\", \"Н\", \"О\", \"П\", \"Р\", \"С\", \"Т\",\n",
    "                \"У\", \"Ф\", \"Х\", \"Ц\", \"Ч\", \"Ш\", \"Щ\", \"Ъ\", \"Ы\", \"Ь\", \"Э\", \"Ю\", \"Я\"]\n",
    "\n",
    "    name = name.upper()\n",
    "    code = 0\n",
    "    for letter in name:\n",
    "        try:\n",
    "            ltr_code = letters.index(letter) % 9\n",
    "        except:\n",
    "            continue\n",
    "        if ltr_code == 0:\n",
    "            ltr_code = 9\n",
    "        code += ltr_code\n",
    "\n",
    "    while code > 9:\n",
    "        curr = code // 10 + code % 10\n",
    "        code = curr\n",
    "\n",
    "    return code\n",
    "\n",
    "# Добавьте сюда ваш код из Задачи 1\n",
    "all_list = []\n",
    "for m in mentors:\n",
    "    for lst_item in m:\n",
    "        all_list.append(lst_item)\n",
    "all_names_list = []\n",
    "for mentor in all_list:\n",
    "    name = mentor.split()[0]\n",
    "    all_names_list.append(name)\n",
    "unique_names = set(all_names_list)\n",
    "\n",
    "# Этот код создаст вам уже готовый (пока что пустой) список, в который вы будете добавлять имена\n",
    "names_codes = [[] for n in range(10)]\n",
    "\n",
    "# Подсказка: в список names_codes дописывайте список имён с группировкой по числу имени.\n",
    "# Рекомендуем для простоты список с именами записывать по индексу, который равняется числу имени\n",
    "# Например, код имени Владимир — 2, и итоговый результат был бы\n",
    "# names_codes = [[], [], [\"Владимир\"]] - внутренний список с именем Владимир находится по индексу 2 в списке names_codes\n",
    "# Самый первый список с индексом 0 будет всегда пустым, т. к. нет числа имени 0\n",
    "\n",
    "# Перебираем все имена и группируем их по числу имени\n",
    "for name in unique_names:\n",
    "\t# Команду ниже используйте как есть - она вычисляет число имени. На входе функция принимает имя (регистр не важен)\n",
    "\t# На выходе возвращает целое число от 1 до 9 - это число имени. Например, если введёте \"Анна\" - получите 5\n",
    "\tcode = calc_namecode(name)\n",
    "\n",
    "\t# Допишите код, который добавит ещё одно имя к нужному числу имени в списке names_codes\n",
    "\tnames_codes[code].append(name)\n",
    "# Выводим окончательный результат на экран\n",
    "for id, _ in enumerate(names_codes):\n",
    "\t# Допишите вывод расшифровки числа имени из codes_info\n",
    "\t# Должно выводиться так: 1 — число цели, которая проявляется в форме агрессивности и амбиций\n",
    "\tif id == 0:\n",
    "\t\tcontinue\n",
    "\n",
    "\tprint(codes_info[id])\n",
    "\n",
    "\t# Теперь нужно отсортировать имена в алфавитном порядке. Подсказка: используйте sorted() для списка\n",
    "\t# Допишите код ниже:\n",
    "\tall_names_sorted = sorted(names_codes[id])\n",
    "\t# Допишите код, который выводит сообщение на экран\n",
    "\t# Должно выводиться так: Коду 1 соответствуют: Азамат, Денис, Роман, Ринат, Евгений, Адилет, Сергей\n",
    "\tprint(f\"Коду {id} соответствуют: {', '.join(all_names_sorted)}\")"
   ]
  },
  {
   "cell_type": "code",
   "execution_count": 303,
   "metadata": {},
   "outputs": [],
   "source": [
    "import numpy"
   ]
  },
  {
   "cell_type": "code",
   "execution_count": 327,
   "metadata": {},
   "outputs": [
    {
     "name": "stdout",
     "output_type": "stream",
     "text": [
      "Самый короткий курс(ы): Python-разработчик с нуля - 12 месяца(ев)\n",
      "Самый длинный курс(ы): Fullstack-разработчик на Python, Frontend-разработчик с нуля - 20 месяца(ев)\n"
     ]
    }
   ],
   "source": [
    "import numpy\n",
    "courses = [\"Java-разработчик с нуля\", \"Fullstack-разработчик на Python\", \"Python-разработчик с нуля\", \"Frontend-разработчик с нуля\"]\n",
    "mentors = [\n",
    "\t[\"Филипп Воронов\", \"Анна Юшина\", \"Иван Бочаров\", \"Анатолий Корсаков\", \"Юрий Пеньков\", \"Илья Сухачев\", \"Иван Маркитан\", \"Ринат Бибиков\", \"Вадим Ерошевичев\", \"Тимур Сейсембаев\", \"Максим Батырев\", \"Никита Шумский\", \"Алексей Степанов\", \"Денис Коротков\", \"Антон Глушков\", \"Сергей Индюков\", \"Максим Воронцов\", \"Евгений Грязнов\", \"Константин Виролайнен\", \"Сергей Сердюк\", \"Павел Дерендяев\"],\n",
    "\t[\"Евгений Шмаргунов\", \"Олег Булыгин\", \"Александр Бардин\", \"Александр Иванов\", \"Кирилл Табельский\", \"Александр Ульянцев\", \"Роман Гордиенко\", \"Адилет Асканжоев\", \"Александр Шлейко\", \"Алена Батицкая\", \"Денис Ежков\", \"Владимир Чебукин\", \"Эдгар Нуруллин\", \"Евгений Шек\", \"Максим Филипенко\", \"Елена Никитина\"],\n",
    "\t[\"Евгений Шмаргунов\", \"Олег Булыгин\", \"Дмитрий Демидов\", \"Кирилл Табельский\", \"Александр Ульянцев\", \"Александр Бардин\", \"Александр Иванов\", \"Антон Солонилин\", \"Максим Филипенко\", \"Елена Никитина\", \"Азамат Искаков\", \"Роман Гордиенко\"],\n",
    "\t[\"Владимир Чебукин\", \"Эдгар Нуруллин\", \"Евгений Шек\", \"Валерий Хаслер\", \"Татьяна Тен\", \"Александр Фитискин\", \"Александр Шлейко\", \"Алена Батицкая\", \"Александр Беспоясов\", \"Денис Ежков\", \"Николай Лопин\", \"Михаил Ларченко\"]\n",
    "]\n",
    "durations = [14, 20, 12, 20]\n",
    "\n",
    "# В этот список будут добавляться словари-курсы\n",
    "courses_list = []\n",
    "# Допишите код, который генерирует словарь-курс с тремя ключами: \"title\", \"mentors\", \"duration\"\n",
    "for title, mentor, duration in zip(courses, mentors, durations):\n",
    "    course_dict = {\"titles\" : title, \"mentors\" : mentor, \"durations\" : duration}\n",
    "    courses_list.append(course_dict)\n",
    "\n",
    "# Найдите самое маленькое и самое большое значение длительности курса\n",
    "# Подсказка: используйте функции min и max для списка durations\n",
    "min = numpy.min(durations)\n",
    "max = numpy.max(durations)\n",
    "\n",
    "# Как видите, в duration встречаются одинаковые длительности курса. Допишите код, который это учитывает\n",
    "# Подсказка 1: найдите индексы, по которым в списке durations встречается самое маленькое и самое большое значение\n",
    "# Подсказка 2: не забудьте, что индекс можно удобно получить функцией enumerate\n",
    "maxes = []\n",
    "minis = []\n",
    "for i, duration in enumerate(durations):\n",
    "\tif durations[i] == max:\n",
    "\t\tmaxes.append(i)\n",
    "\telif durations[i] == min:\n",
    "\t\tminis.append(i)\n",
    "#print(courses_list)\n",
    "# Соберите все названия самых коротких и самых длинных курсов\n",
    "# Так как курсов с одной длительностью может быть больше одного,\n",
    "# создайте список названий самых коротких (courses_min) и самых длинных (courses_max) курсов\n",
    "courses_min = []\n",
    "courses_max = []\n",
    "for id in minis:\n",
    "\tcourses_min.append(courses_list[id][\"titles\"]) # Допишите код, который берёт по id нужный курс из courses_list и получает название курса из ключа \"title\"\n",
    "for id in maxes:\n",
    "\tcourses_max.append(courses_list[id][\"titles\"]) # По аналогии допишите такой же код для курсов максимальной длительности\n",
    "\n",
    "# Допишите конструкцию вывода результата. Можете использовать string.join()\n",
    "c_min = ', '.join(courses_min)\n",
    "c_max = ', '.join(courses_max)\n",
    "print(f'Самый короткий курс(ы): {c_min} - {min} месяца(ев)')\n",
    "print(f'Самый длинный курс(ы): {c_max} - {max} месяца(ев)')"
   ]
  },
  {
   "cell_type": "code",
   "execution_count": 381,
   "metadata": {},
   "outputs": [
    {
     "name": "stdout",
     "output_type": "stream",
     "text": [
      "{12: [2], 14: [0], 20: [1, 3]}\n",
      "[{'title': 'Java-разработчик с нуля', 'mentors': ['Филипп Воронов', 'Анна Юшина', 'Иван Бочаров', 'Анатолий Корсаков', 'Юрий Пеньков', 'Илья Сухачев', 'Иван Маркитан', 'Ринат Бибиков', 'Вадим Ерошевичев', 'Тимур Сейсембаев', 'Максим Батырев', 'Никита Шумский', 'Алексей Степанов', 'Денис Коротков', 'Антон Глушков', 'Сергей Индюков', 'Максим Воронцов', 'Евгений Грязнов', 'Константин Виролайнен', 'Сергей Сердюк', 'Павел Дерендяев'], 'duration': 14}, {'title': 'Fullstack-разработчик на Python', 'mentors': ['Евгений Шмаргунов', 'Олег Булыгин', 'Александр Бардин', 'Александр Иванов', 'Кирилл Табельский', 'Александр Ульянцев', 'Роман Гордиенко', 'Адилет Асканжоев', 'Александр Шлейко', 'Алена Батицкая', 'Денис Ежков', 'Владимир Чебукин', 'Эдгар Нуруллин', 'Евгений Шек', 'Максим Филипенко', 'Елена Никитина'], 'duration': 20}, {'title': 'Python-разработчик с нуля', 'mentors': ['Евгений Шмаргунов', 'Олег Булыгин', 'Дмитрий Демидов', 'Кирилл Табельский', 'Александр Ульянцев', 'Александр Бардин', 'Александр Иванов', 'Антон Солонилин', 'Максим Филипенко', 'Елена Никитина', 'Азамат Искаков', 'Роман Гордиенко'], 'duration': 12}, {'title': 'Frontend-разработчик с нуля', 'mentors': ['Владимир Чебукин', 'Эдгар Нуруллин', 'Евгений Шек', 'Валерий Хаслер', 'Татьяна Тен', 'Александр Фитискин', 'Александр Шлейко', 'Алена Батицкая', 'Александр Беспоясов', 'Денис Ежков', 'Николай Лопин', 'Михаил Ларченко'], 'duration': 20}]\n",
      "Python-разработчик с нуля - 12 месяцев\n",
      "Java-разработчик с нуля - 14 месяцев\n",
      "Fullstack-разработчик на Python - 20 месяцев\n",
      "Frontend-разработчик с нуля - 20 месяцев\n"
     ]
    }
   ],
   "source": [
    "# Наводим порядок: упорядочиваем курсы по продолжительности\n",
    "\n",
    "courses = [\"Java-разработчик с нуля\", \"Fullstack-разработчик на Python\", \"Python-разработчик с нуля\", \"Frontend-разработчик с нуля\"]\n",
    "mentors = [\n",
    "\t[\"Филипп Воронов\", \"Анна Юшина\", \"Иван Бочаров\", \"Анатолий Корсаков\", \"Юрий Пеньков\", \"Илья Сухачев\", \"Иван Маркитан\", \"Ринат Бибиков\", \"Вадим Ерошевичев\", \"Тимур Сейсембаев\", \"Максим Батырев\", \"Никита Шумский\", \"Алексей Степанов\", \"Денис Коротков\", \"Антон Глушков\", \"Сергей Индюков\", \"Максим Воронцов\", \"Евгений Грязнов\", \"Константин Виролайнен\", \"Сергей Сердюк\", \"Павел Дерендяев\"],\n",
    "\t[\"Евгений Шмаргунов\", \"Олег Булыгин\", \"Александр Бардин\", \"Александр Иванов\", \"Кирилл Табельский\", \"Александр Ульянцев\", \"Роман Гордиенко\", \"Адилет Асканжоев\", \"Александр Шлейко\", \"Алена Батицкая\", \"Денис Ежков\", \"Владимир Чебукин\", \"Эдгар Нуруллин\", \"Евгений Шек\", \"Максим Филипенко\", \"Елена Никитина\"],\n",
    "\t[\"Евгений Шмаргунов\", \"Олег Булыгин\", \"Дмитрий Демидов\", \"Кирилл Табельский\", \"Александр Ульянцев\", \"Александр Бардин\", \"Александр Иванов\", \"Антон Солонилин\", \"Максим Филипенко\", \"Елена Никитина\", \"Азамат Искаков\", \"Роман Гордиенко\"],\n",
    "\t[\"Владимир Чебукин\", \"Эдгар Нуруллин\", \"Евгений Шек\", \"Валерий Хаслер\", \"Татьяна Тен\", \"Александр Фитискин\", \"Александр Шлейко\", \"Алена Батицкая\", \"Александр Беспоясов\", \"Денис Ежков\", \"Николай Лопин\", \"Михаил Ларченко\"]\n",
    "]\n",
    "durations = [14, 20, 12, 20]\n",
    "\n",
    "courses_list = []\n",
    "for course, mentor, duration in zip(courses, mentors, durations):\n",
    "\tcourse_dict = {\"title\":course, \"mentors\":mentor, \"duration\":duration}\n",
    "\tcourses_list.append(course_dict)\n",
    "\n",
    "# С этого момента начинается выполнение задания 2\n",
    "# На входе у вас есть только список курсов courses_list. Об исходных данных, на базе которых он был сделан, вы ничего не знаете\n",
    "\n",
    "# Отсортируйте курсы по длительности (ключ duration), но при этом сохраните порядковый номер каждого курса из courses_list\n",
    "# Самое простое — создать новый словарь durations_dict с ключом — duration и значением — исходным номером курса в courses_list\n",
    "# Но у нас могут быть курсы с одинаковой длительностью, поэтому значение словаря — это список индексов, а не одно значение\n",
    "durations_dict = {}\n",
    "\n",
    "# Допишите код цикла так, чтобы в нём вы получали id курса. Подсказка: помните о функции enumerate\n",
    "for id, course in enumerate(courses_list):\n",
    "\tkey = course[\"duration\"] # Получите значение из ключа duration\n",
    "\t# Допишите код ниже, который добавляет в словарь durations_dict по ключу key значения — id\n",
    "\tdurations_dict.setdefault(key, [])\n",
    "\tdurations_dict[key].append(id)\n",
    "    \n",
    "# Отсортируем словарь по ключам. Этот код уже готов, ничего менять не нужно\n",
    "# Здесь мы получаем пары ключ-значение в виде кортежа, и функция sorted выполняет сортировку по первым значениям кортежа — ключам\n",
    "durations_dict = dict(sorted(durations_dict.items()))\n",
    "\n",
    "# Выведите курсы, отсортированные по длительности\n",
    "# Допишите код цикла так, чтобы в нём вы получали из durations_dict ключи и значения\n",
    "for key, value in durations_dict.items():\n",
    "\t# Допишите код, который проходит по всему списку значений и выводит на экран текст вида «название курса — длительность»\n",
    "\tfor i in value:\n",
    "\t\tprint(f'{courses_list[i][\"title\"]} - {key} месяцев')\n",
    "\t#print(f'{key} - {key} месяцев')"
   ]
  },
  {
   "cell_type": "code",
   "execution_count": 422,
   "metadata": {},
   "outputs": [
    {
     "name": "stdout",
     "output_type": "stream",
     "text": [
      "Связи нет\n",
      "Порядок курсов по длительности: 2, 0, 1, 3\n",
      "Порядок курсов по количеству преподавателей: 2, 3, 1, 0\n"
     ]
    }
   ],
   "source": [
    "courses = [\"Java-разработчик с нуля\", \"Fullstack-разработчик на Python\", \"Python-разработчик с нуля\", \"Frontend-разработчик с нуля\"]\n",
    "mentors = [\n",
    "\t[\"Филипп Воронов\", \"Анна Юшина\", \"Иван Бочаров\", \"Анатолий Корсаков\", \"Юрий Пеньков\", \"Илья Сухачев\", \"Иван Маркитан\", \"Ринат Бибиков\", \"Вадим Ерошевичев\", \"Тимур Сейсембаев\", \"Максим Батырев\", \"Никита Шумский\", \"Алексей Степанов\", \"Денис Коротков\", \"Антон Глушков\", \"Сергей Индюков\", \"Максим Воронцов\", \"Евгений Грязнов\", \"Константин Виролайнен\", \"Сергей Сердюк\", \"Павел Дерендяев\"],\n",
    "\t[\"Евгений Шмаргунов\", \"Олег Булыгин\", \"Александр Бардин\", \"Александр Иванов\", \"Кирилл Табельский\", \"Александр Ульянцев\", \"Роман Гордиенко\", \"Адилет Асканжоев\", \"Александр Шлейко\", \"Алена Батицкая\", \"Денис Ежков\", \"Владимир Чебукин\", \"Эдгар Нуруллин\", \"Евгений Шек\", \"Максим Филипенко\", \"Елена Никитина\"],\n",
    "\t[\"Евгений Шмаргунов\", \"Олег Булыгин\", \"Дмитрий Демидов\", \"Кирилл Табельский\", \"Александр Ульянцев\", \"Александр Бардин\", \"Александр Иванов\", \"Антон Солонилин\", \"Максим Филипенко\", \"Елена Никитина\", \"Азамат Искаков\", \"Роман Гордиенко\"],\n",
    "\t[\"Владимир Чебукин\", \"Эдгар Нуруллин\", \"Евгений Шек\", \"Валерий Хаслер\", \"Татьяна Тен\", \"Александр Фитискин\", \"Александр Шлейко\", \"Алена Батицкая\", \"Александр Беспоясов\", \"Денис Ежков\", \"Николай Лопин\", \"Михаил Ларченко\"]\n",
    "]\n",
    "durations = [14, 20, 12, 20]\n",
    "\n",
    "courses_list = []\n",
    "for course, mentor, duration in zip(courses, mentors, durations):\n",
    "\tcourse_dict = {\"title\":course, \"mentors\":mentor, \"duration\":duration}\n",
    "\tcourses_list.append(course_dict)\n",
    "\n",
    "\n",
    "# С этого момента начинается выполнение задания 3.\n",
    "# На входе у вас есть только список курсов courses_list. Об исходных данных, на базе которых он был сделан, вы ничего не знаете\n",
    "\n",
    "# Подсказка: если связь между продолжительностью курсов и количеством преподавателей есть,\n",
    "# то после сортировки курсов по длительности и по количеству преподавателей курсы должны идти в одном и том же порядке\n",
    "# Проверьте себя: в этом задании курсы будут идти в таком порядке:\n",
    "# [\"Python-разработчик с нуля\", \"Java-разработчик с нуля\", \"Fullstack-разработчик на Python\", \"Frontend-разработчик с нуля\"] - по продолжительности,\n",
    "# [\"Python-разработчик с нуля\", \"Frontend-разработчик с нуля\", \"Fullstack-разработчик на Python\", \"Java-разработчик с нуля\"] - по количеству преподавателей\n",
    "# То есть ваш скрипт должен вывести \"Связи нет\", т.к. порядок оказался разным\n",
    "\n",
    "# Подсказка 1: для сравнения используйте не названия курсов, а их порядковые номера в списке courses_list\n",
    "# Подсказка 2: для сравнения сделайте пары [duration, index] и [mentors_count, index]\n",
    "# Допишите код ниже, который добавляет эти пары в список duration_index и mcount_index соответственно:\n",
    "duration_index = []\n",
    "mcount_index = []\n",
    "#print(courses_list[0][\"duration\"])\n",
    "for index, course in enumerate(courses_list):\n",
    "\tduration_index.append([courses_list[index][\"duration\"], index])\n",
    "\tmcount_index.append([len(courses_list[index][\"mentors\"]), index]) # Напишите код по аналогии с duration_index\n",
    "# Отсортируйте список duration_index и список mcount_index\n",
    "# Подсказка: функция sort() будет сортировать по первому элементу (то есть по duration и по количеству преподавателей),\n",
    "# поэтому вы сразу получите правильный результат\n",
    "# Самостоятельно напишите код сортировки ниже:\n",
    "duration_index.sort()\n",
    "mcount_index.sort()\n",
    "\n",
    "# Теперь вам необходимо отделить отсортированные индексы. Перенесите их в отдельные списки:\n",
    "# indexes_d (индексы для сортировки курсов по длительности) и\n",
    "# indexes_m (индексы для сортировки курсов по количеству преподавателей)\n",
    "indexes_d = []\n",
    "indexes_m = []\n",
    "\n",
    "# Допишите код ниже:\n",
    "for index in duration_index:\n",
    "\tindexes_d.append(index[1])\n",
    "# Для indexes_m напишите аналогичный код самостоятельно:\n",
    "for index in mcount_index:\n",
    "\tindexes_m.append(index[1])\n",
    "\n",
    "# Сравните два получившихся списка индексов. Если они равны, то есть индексы идут в одинаковом порядке,\n",
    "# выведите \"Связь есть\", если не равны - выведите \"Связи нет\" и ниже - номера курсов по длительности, а потом - по количеству преподавателей\n",
    "# Допишите код ниже:\n",
    "print(\"Связь есть\" if indexes_d == indexes_m else \"Связи нет\")\n",
    "dur = ', '.join([str(x) for x in indexes_d])\n",
    "men = ', '.join([str(x) for x in indexes_m])\n",
    "\n",
    "print(f'Порядок курсов по длительности: {dur}')\n",
    "print(f\"Порядок курсов по количеству преподавателей: {men}\")"
   ]
  },
  {
   "cell_type": "code",
   "execution_count": 477,
   "metadata": {},
   "outputs": [
    {
     "name": "stdout",
     "output_type": "stream",
     "text": [
      "1 На курсе Java-разработчик с нуля есть тёзки: Иван Бочаров, Иван Маркитан, Максим Батырев, Максим Воронцов, Сергей Индюков, Сергей Сердюк\n",
      "2 На курсе Fullstack-разработчик на Python есть тёзки: Александр Бардин, Александр Иванов, Александр Ульянцев, Александр Шлейко, Евгений Шек, Евгений Шмаргунов\n",
      "3 На курсе Python-разработчик с нуля есть тёзки: Александр Бардин, Александр Иванов, Александр Ульянцев\n",
      "4 На курсе Frontend-разработчик с нуля есть тёзки: Александр Беспоясов, Александр Фитискин, Александр Шлейко\n"
     ]
    }
   ],
   "source": [
    "# Это вы мне? Подсчитываем тёзок на каждом курсе\n",
    "\n",
    "courses = [\"Java-разработчик с нуля\", \"Fullstack-разработчик на Python\", \"Python-разработчик с нуля\", \"Frontend-разработчик с нуля\"]\n",
    "mentors = [\n",
    "\t[\"Филипп Воронов\", \"Анна Юшина\", \"Иван Бочаров\", \"Анатолий Корсаков\", \"Юрий Пеньков\", \"Илья Сухачев\", \"Иван Маркитан\", \"Ринат Бибиков\", \"Вадим Ерошевичев\", \"Тимур Сейсембаев\", \"Максим Батырев\", \"Никита Шумский\", \"Алексей Степанов\", \"Денис Коротков\", \"Антон Глушков\", \"Сергей Индюков\", \"Максим Воронцов\", \"Евгений Грязнов\", \"Константин Виролайнен\", \"Сергей Сердюк\", \"Павел Дерендяев\"],\n",
    "\t[\"Евгений Шмаргунов\", \"Олег Булыгин\", \"Александр Бардин\", \"Александр Иванов\", \"Кирилл Табельский\", \"Александр Ульянцев\", \"Роман Гордиенко\", \"Адилет Асканжоев\", \"Александр Шлейко\", \"Алена Батицкая\", \"Денис Ежков\", \"Владимир Чебукин\", \"Эдгар Нуруллин\", \"Евгений Шек\", \"Максим Филипенко\", \"Елена Никитина\"],\n",
    "\t[\"Евгений Шмаргунов\", \"Олег Булыгин\", \"Дмитрий Демидов\", \"Кирилл Табельский\", \"Александр Ульянцев\", \"Александр Бардин\", \"Александр Иванов\", \"Антон Солонилин\", \"Максим Филипенко\", \"Елена Никитина\", \"Азамат Искаков\", \"Роман Гордиенко\"],\n",
    "\t[\"Владимир Чебукин\", \"Эдгар Нуруллин\", \"Евгений Шек\", \"Валерий Хаслер\", \"Татьяна Тен\", \"Александр Фитискин\", \"Александр Шлейко\", \"Алена Батицкая\", \"Александр Беспоясов\", \"Денис Ежков\", \"Николай Лопин\", \"Михаил Ларченко\"]\n",
    "]\n",
    "durations = [14, 20, 12, 20]\n",
    "\n",
    "courses_list = []\n",
    "for course, mentor, duration in zip(courses, mentors, durations):\n",
    "\tcourse_dict = {\"title\":course, \"mentors\":mentor, \"duration\":duration}\n",
    "\tcourses_list.append(course_dict)\n",
    "\n",
    "# С этого момента начинается выполнение задания 4.\n",
    "# На входе у вас есть только список курсов courses_list. Об исходных данных, на базе которых он был сделан, вы ничего не знаете\n",
    "\n",
    "# На каждом курсе в отдельности вам необходимо: 1) найти имена, которые встречаются более 1 раза;\n",
    "# 2) отобрать людей (Имя + Фамилия), для которых совпало Имя. Это и будут наши тёзки\n",
    "for i, course in enumerate(courses_list):\n",
    "\tnames_list = []\n",
    "\t# Самостоятельно напишите код, который создаёт множество уникальных имён без фамилий\n",
    "\t# Подсказка: вам нужно вспомнить и повторить код из задания 1 по множествам\n",
    "\t# Результат (уникальные имена без фамилий) запишите в переменную под названием unique_names, преобразуйте в список и отсортируйте по возрастанию\n",
    "\t# Это необходимо, чтобы ваша программа всегда давала один и тот же результат и тренажёр смог его сверить\n",
    "# Добавьте в список всех преподавателей со всех курсов\n",
    "\tfor m in course[\"mentors\"]:\n",
    "\t\tnames_list.append(m.split()[0].strip())\n",
    "\tunique_names = sorted(list(set(names_list)))\n",
    "#\tprint(unique_names)\n",
    "\t# Напишите алгоритм, который подсчитывает частоту встречаемости каждого имени из names_set в исходном списке преподавателей\n",
    "\t# Подсказка: при работе со строками воспользуйтесь конструкцией in\n",
    "\t# Внимание: в список same_name_list вы будете сохранять найденных тёзок-преподавателей\n",
    "\tsame_name_list = []\n",
    "\t# Организуйте цикл по всем именам на курсе из множества:\n",
    "\tfor name in unique_names:\n",
    "\t\t# Подсчитайте частоту встречаемости имени (должно быть более 1 раза):\n",
    "\t\tif names_list.count(name) > 1:\n",
    "\t\t\t# Сделайте цикл по исходному списку преподавателей (с Именем и Фамилией)\n",
    "\t\t\tfor fio in course[\"mentors\"]:\n",
    "\t\t\t\t# Найдите тех преподавателей, у кого совпало имя (для них if вернёт True)\n",
    "\t\t\t\t\tif name == fio.split()[0]:\n",
    "\t\t\t\t\t# Добавьте преподавателя с этим именем в список тёзок\n",
    "#\t\t\t\t\t\tprint(fio)\n",
    "\t\t\t\t\t\tsame_name_list.append(fio)\n",
    "\t# Если список тёзок не пустой, выведите всех преподавателей из него\n",
    "\tif len(same_name_list) > 0:\n",
    "\t\t# Дополните конструкцию ниже, чтобы выводилось сообщение такого вида: На курсе Название есть тёзки: тёзки через запятую\n",
    "\t\t# Подсказка: для соединения преподавателей через запятую используйте string.join()\n",
    "\t\tsame_name_list = sorted(same_name_list)        \n",
    "\t\tstr_res = ', '.join(same_name_list)\n",
    "\t\tstr_i = str(i + 1)        \n",
    "\t\tstr_crs = course[\"title\"]\n",
    "\t\tprint(f'{str_i} На курсе {str_crs} есть тёзки: {str_res}')"
   ]
  },
  {
   "cell_type": "code",
   "execution_count": 21,
   "metadata": {},
   "outputs": [
    {
     "name": "stdin",
     "output_type": "stream",
     "text": [
      "Введите команду:  p\n",
      "Введите номер документа: 11-2\n"
     ]
    },
    {
     "name": "stdout",
     "output_type": "stream",
     "text": [
      "Владелец документа:  Геннадий Покемонов\n"
     ]
    },
    {
     "name": "stdin",
     "output_type": "stream",
     "text": [
      "Введите команду:  s\n",
      "Введите номер документа: 11-2\n"
     ]
    },
    {
     "name": "stdout",
     "output_type": "stream",
     "text": [
      "Документ хранится на полке:  1\n"
     ]
    },
    {
     "name": "stdin",
     "output_type": "stream",
     "text": [
      "Введите команду:  q\n"
     ]
    }
   ],
   "source": [
    "directories = {\n",
    " '1': ['2207 876234', '11-2'],\n",
    " '2': ['10006'],\n",
    " '3': []\n",
    "}\n",
    "documents = [\n",
    " {'type': 'passport', 'number': '2207 876234', 'name': 'Василий Гупкин'},\n",
    " {'type': 'invoice', 'number': '11-2', 'name': 'Геннадий Покемонов'},\n",
    " {'type': 'insurance', 'number': '10006', 'name': 'Аристарх Павлов'}\n",
    "]\n",
    "\n",
    "def doc_owner(doc_num):\n",
    "    for i, line in enumerate(documents):\n",
    "        if line.get('number', None) == str(doc_num):\n",
    "            curr_name = line.get('name', None)\n",
    "            print('Владелец документа: ', curr_name)\n",
    "\n",
    "def doc_place(doc_num):\n",
    "    curr_place = None\n",
    "    for key, value in directories.items():\n",
    "        if str(doc_num) in value:\n",
    "            curr_place = key\n",
    "            print('Документ хранится на полке: ', curr_place)\n",
    "            break\n",
    "\n",
    "while(True):\n",
    "    match input_str('Введите команду: '):\n",
    "        case 'p':\n",
    "            doc_owner(input_str('Введите номер документа:'))\n",
    "        case 's':\n",
    "            doc_place(input_str('Введите номер документа:'))\n",
    "        case 'q':\n",
    "            break"
   ]
  },
  {
   "cell_type": "code",
   "execution_count": 1,
   "metadata": {},
   "outputs": [
    {
     "name": "stdout",
     "output_type": "stream",
     "text": [
      "3.12.7 | packaged by Anaconda, Inc. | (main, Oct  4 2024, 13:17:27) [MSC v.1929 64 bit (AMD64)]\n"
     ]
    }
   ],
   "source": [
    "import sys\n",
    "print(sys.version)"
   ]
  },
  {
   "cell_type": "code",
   "execution_count": 2,
   "metadata": {},
   "outputs": [
    {
     "name": "stdout",
     "output_type": "stream",
     "text": [
      "Python version information: 3.8.3 (default, Jul  2 2020, 17:30:36) [MSC v.1916 64 bit (AMD64)]\n"
     ]
    }
   ],
   "source": [
    "import sys\n",
    "print(\"Python version information:\", sys.version)"
   ]
  },
  {
   "cell_type": "code",
   "execution_count": 75,
   "metadata": {},
   "outputs": [
    {
     "name": "stdout",
     "output_type": "stream",
     "text": [
      "-3.0 -5.0\n",
      "12.0 1.0\n",
      "3.5\n",
      "корней нет\n"
     ]
    }
   ],
   "source": [
    "import math\n",
    "\n",
    "def discriminant(a, b, c: int):\n",
    "    return b ** 2 - 4 * a * c\n",
    "\n",
    "def solution(a, b, c: int):\n",
    "    d = discriminant(a, b, c)\n",
    "    if d > 0:\n",
    "        d_root = math.sqrt(d)\n",
    "        x1 = (-b + d_root) / (2 * a)\n",
    "        x2 = (-b - d_root) / (2 * a)\n",
    "        result = \"{0:.1f}\".format(x1) + ' ' + \"{0:.1f}\".format(x2)\n",
    "    elif d < 0:\n",
    "        result = 'корней нет'\n",
    "    else:\n",
    "        x = (-b)/ (2 * a)\n",
    "        result = \"{0:.1f}\".format(x)\n",
    "    print(result)\n",
    "    return result\n",
    "\n",
    "if __name__ == '__main__':\n",
    "    solution(1, 8, 15) \n",
    "    solution(1, -13, 12)\n",
    "    solution(-4, 28, -49)\n",
    "    solution(1, 1, 1)"
   ]
  },
  {
   "cell_type": "code",
   "execution_count": 112,
   "metadata": {},
   "outputs": [
    {
     "name": "stdout",
     "output_type": "stream",
     "text": [
      "1\n",
      "2\n"
     ]
    }
   ],
   "source": [
    "def vote(votes):\n",
    "    votes_unique = list(set(votes))\n",
    "    cnt_max = 0\n",
    "    for v in votes_unique:\n",
    "        cnt_v = votes.count(v)\n",
    "        if cnt_v > cnt_max:\n",
    "            max_cnt_v = v\n",
    "            cnt_max = cnt_v\n",
    "    return max_cnt_v\n",
    "\n",
    "if __name__ == '__main__':\n",
    "    print(vote([1,1,1,2,3]))\n",
    "    print(vote([1,2,3,2,2]))"
   ]
  },
  {
   "cell_type": "code",
   "execution_count": 2,
   "metadata": {},
   "outputs": [],
   "source": [
    "import json"
   ]
  },
  {
   "cell_type": "code",
   "execution_count": 106,
   "metadata": {},
   "outputs": [
    {
     "name": "stdout",
     "output_type": "stream",
     "text": [
      "1840e0b9d4 'Продукты'\n",
      "4e4f90fcfb 'Электроника'\n"
     ]
    }
   ],
   "source": [
    "txt_purchase = r'd:\\Home\\MomEdu\\Python\\purchase_log.txt'\n",
    "i = 0\n",
    "dict_main = {}\n",
    "with open(txt_purchase, encoding = 'utf-8') as f:\n",
    "    for line in f:\n",
    "        line = line.strip()\n",
    "        dict_purchase = json.loads(line)\n",
    "        if i == 0:\n",
    "            first_col = list(dict_purchase.keys())[0]\n",
    "            second_col = list(dict_purchase.keys())[1]\n",
    "        else:\n",
    "            key_val = dict_purchase[first_col]\n",
    "            value_val =  dict_purchase[second_col]\n",
    "            dict_main[key_val] = value_val    \n",
    "        if i == 1 or i == 2:\n",
    "            print(f\"{key_val} '{value_val}'\")\n",
    "        i += 1"
   ]
  },
  {
   "cell_type": "code",
   "execution_count": 115,
   "metadata": {},
   "outputs": [
    {
     "name": "stdout",
     "output_type": "stream",
     "text": [
      "1 bdc8054507, other, Электроника\n",
      "2 bdc8054507, other, Электроника\n",
      "3 bdc8054507, other, Электроника\n"
     ]
    }
   ],
   "source": [
    "txt_visit = r'd:\\Home\\MomEdu\\Python\\visit_log.csv'\n",
    "txt_funnel = r'd:\\Home\\MomEdu\\Python\\funnel.csv'\n",
    "i = 0\n",
    "with open(txt_visit, 'r') as f1:\n",
    "    with open(txt_funnel, 'w', encoding = 'cp1251') as f2write:\n",
    "        for line in f1:\n",
    "            i += 1\n",
    "            key, value = line.strip().split(',')\n",
    "            if key in dict_main.keys():\n",
    "                str_category = dict_main.get(key)\n",
    "                line2write = f'{key}, {value}, {str_category}'\n",
    "                f2write.write(line2write + ' \\n')\n",
    "            if i < 4:\n",
    "                print(i, line2write)\n",
    "f2write.close()                "
   ]
  },
  {
   "cell_type": "markdown",
   "metadata": {},
   "source": [
    "### Перевод строк с даты и времена"
   ]
  },
  {
   "cell_type": "code",
   "execution_count": 22,
   "metadata": {},
   "outputs": [
    {
     "name": "stdout",
     "output_type": "stream",
     "text": [
      "['Daily News', 'Thursday, 18 August 1977']\n"
     ]
    }
   ],
   "source": [
    "from datetime import datetime\n",
    "str_first = 'The Moscow Times — Wednesday, October 2, 2002'\n",
    "list_first = str_first.strip().split(' — ')\n",
    "str_second = 'The Guardian — Friday, 11.10.13'\n",
    "list_second = str_second.strip().split(' — ')\n",
    "str_third = 'Daily News — Thursday, 18 August 1977'\n",
    "list_third = str_third.strip().split(' — ')\n",
    "first_date = datetime.strptime(list_first[1], '%A, %B %d, %Y')\n",
    "second_date = datetime.strptime(list_second[1], '%A, %d.%m.%y')\n",
    "third_date = datetime.strptime(list_third[1], '%A, %d %B %Y')\n",
    "first_date\n",
    "second_date\n",
    "third_date"
   ]
  },
  {
   "cell_type": "code",
   "execution_count": 3,
   "metadata": {},
   "outputs": [
    {
     "ename": "ConnectTimeout",
     "evalue": "HTTPSConnectionPool(host='www.cbr-xml-daily.ru', port=443): Max retries exceeded with url: /daily_json.js (Caused by ConnectTimeoutError(<urllib3.connection.HTTPSConnection object at 0x0000022AA0CCA6C0>, 'Connection to www.cbr-xml-daily.ru timed out. (connect timeout=None)'))",
     "output_type": "error",
     "traceback": [
      "\u001b[1;31m---------------------------------------------------------------------------\u001b[0m",
      "\u001b[1;31mTimeoutError\u001b[0m                              Traceback (most recent call last)",
      "File \u001b[1;32mC:\\ProgramData\\anaconda3\\Lib\\site-packages\\urllib3\\connection.py:199\u001b[0m, in \u001b[0;36mHTTPConnection._new_conn\u001b[1;34m(self)\u001b[0m\n\u001b[0;32m    198\u001b[0m \u001b[38;5;28;01mtry\u001b[39;00m:\n\u001b[1;32m--> 199\u001b[0m     sock \u001b[38;5;241m=\u001b[39m connection\u001b[38;5;241m.\u001b[39mcreate_connection(\n\u001b[0;32m    200\u001b[0m         (\u001b[38;5;28mself\u001b[39m\u001b[38;5;241m.\u001b[39m_dns_host, \u001b[38;5;28mself\u001b[39m\u001b[38;5;241m.\u001b[39mport),\n\u001b[0;32m    201\u001b[0m         \u001b[38;5;28mself\u001b[39m\u001b[38;5;241m.\u001b[39mtimeout,\n\u001b[0;32m    202\u001b[0m         source_address\u001b[38;5;241m=\u001b[39m\u001b[38;5;28mself\u001b[39m\u001b[38;5;241m.\u001b[39msource_address,\n\u001b[0;32m    203\u001b[0m         socket_options\u001b[38;5;241m=\u001b[39m\u001b[38;5;28mself\u001b[39m\u001b[38;5;241m.\u001b[39msocket_options,\n\u001b[0;32m    204\u001b[0m     )\n\u001b[0;32m    205\u001b[0m \u001b[38;5;28;01mexcept\u001b[39;00m socket\u001b[38;5;241m.\u001b[39mgaierror \u001b[38;5;28;01mas\u001b[39;00m e:\n",
      "File \u001b[1;32mC:\\ProgramData\\anaconda3\\Lib\\site-packages\\urllib3\\util\\connection.py:85\u001b[0m, in \u001b[0;36mcreate_connection\u001b[1;34m(address, timeout, source_address, socket_options)\u001b[0m\n\u001b[0;32m     84\u001b[0m \u001b[38;5;28;01mtry\u001b[39;00m:\n\u001b[1;32m---> 85\u001b[0m     \u001b[38;5;28;01mraise\u001b[39;00m err\n\u001b[0;32m     86\u001b[0m \u001b[38;5;28;01mfinally\u001b[39;00m:\n\u001b[0;32m     87\u001b[0m     \u001b[38;5;66;03m# Break explicitly a reference cycle\u001b[39;00m\n",
      "File \u001b[1;32mC:\\ProgramData\\anaconda3\\Lib\\site-packages\\urllib3\\util\\connection.py:73\u001b[0m, in \u001b[0;36mcreate_connection\u001b[1;34m(address, timeout, source_address, socket_options)\u001b[0m\n\u001b[0;32m     72\u001b[0m     sock\u001b[38;5;241m.\u001b[39mbind(source_address)\n\u001b[1;32m---> 73\u001b[0m sock\u001b[38;5;241m.\u001b[39mconnect(sa)\n\u001b[0;32m     74\u001b[0m \u001b[38;5;66;03m# Break explicitly a reference cycle\u001b[39;00m\n",
      "\u001b[1;31mTimeoutError\u001b[0m: [WinError 10060] Попытка установить соединение была безуспешной, т.к. от другого компьютера за требуемое время не получен нужный отклик, или было разорвано уже установленное соединение из-за неверного отклика уже подключенного компьютера",
      "\nThe above exception was the direct cause of the following exception:\n",
      "\u001b[1;31mConnectTimeoutError\u001b[0m                       Traceback (most recent call last)",
      "File \u001b[1;32mC:\\ProgramData\\anaconda3\\Lib\\site-packages\\urllib3\\connectionpool.py:789\u001b[0m, in \u001b[0;36mHTTPConnectionPool.urlopen\u001b[1;34m(self, method, url, body, headers, retries, redirect, assert_same_host, timeout, pool_timeout, release_conn, chunked, body_pos, preload_content, decode_content, **response_kw)\u001b[0m\n\u001b[0;32m    788\u001b[0m \u001b[38;5;66;03m# Make the request on the HTTPConnection object\u001b[39;00m\n\u001b[1;32m--> 789\u001b[0m response \u001b[38;5;241m=\u001b[39m \u001b[38;5;28mself\u001b[39m\u001b[38;5;241m.\u001b[39m_make_request(\n\u001b[0;32m    790\u001b[0m     conn,\n\u001b[0;32m    791\u001b[0m     method,\n\u001b[0;32m    792\u001b[0m     url,\n\u001b[0;32m    793\u001b[0m     timeout\u001b[38;5;241m=\u001b[39mtimeout_obj,\n\u001b[0;32m    794\u001b[0m     body\u001b[38;5;241m=\u001b[39mbody,\n\u001b[0;32m    795\u001b[0m     headers\u001b[38;5;241m=\u001b[39mheaders,\n\u001b[0;32m    796\u001b[0m     chunked\u001b[38;5;241m=\u001b[39mchunked,\n\u001b[0;32m    797\u001b[0m     retries\u001b[38;5;241m=\u001b[39mretries,\n\u001b[0;32m    798\u001b[0m     response_conn\u001b[38;5;241m=\u001b[39mresponse_conn,\n\u001b[0;32m    799\u001b[0m     preload_content\u001b[38;5;241m=\u001b[39mpreload_content,\n\u001b[0;32m    800\u001b[0m     decode_content\u001b[38;5;241m=\u001b[39mdecode_content,\n\u001b[0;32m    801\u001b[0m     \u001b[38;5;241m*\u001b[39m\u001b[38;5;241m*\u001b[39mresponse_kw,\n\u001b[0;32m    802\u001b[0m )\n\u001b[0;32m    804\u001b[0m \u001b[38;5;66;03m# Everything went great!\u001b[39;00m\n",
      "File \u001b[1;32mC:\\ProgramData\\anaconda3\\Lib\\site-packages\\urllib3\\connectionpool.py:490\u001b[0m, in \u001b[0;36mHTTPConnectionPool._make_request\u001b[1;34m(self, conn, method, url, body, headers, retries, timeout, chunked, response_conn, preload_content, decode_content, enforce_content_length)\u001b[0m\n\u001b[0;32m    489\u001b[0m         new_e \u001b[38;5;241m=\u001b[39m _wrap_proxy_error(new_e, conn\u001b[38;5;241m.\u001b[39mproxy\u001b[38;5;241m.\u001b[39mscheme)\n\u001b[1;32m--> 490\u001b[0m     \u001b[38;5;28;01mraise\u001b[39;00m new_e\n\u001b[0;32m    492\u001b[0m \u001b[38;5;66;03m# conn.request() calls http.client.*.request, not the method in\u001b[39;00m\n\u001b[0;32m    493\u001b[0m \u001b[38;5;66;03m# urllib3.request. It also calls makefile (recv) on the socket.\u001b[39;00m\n",
      "File \u001b[1;32mC:\\ProgramData\\anaconda3\\Lib\\site-packages\\urllib3\\connectionpool.py:466\u001b[0m, in \u001b[0;36mHTTPConnectionPool._make_request\u001b[1;34m(self, conn, method, url, body, headers, retries, timeout, chunked, response_conn, preload_content, decode_content, enforce_content_length)\u001b[0m\n\u001b[0;32m    465\u001b[0m \u001b[38;5;28;01mtry\u001b[39;00m:\n\u001b[1;32m--> 466\u001b[0m     \u001b[38;5;28mself\u001b[39m\u001b[38;5;241m.\u001b[39m_validate_conn(conn)\n\u001b[0;32m    467\u001b[0m \u001b[38;5;28;01mexcept\u001b[39;00m (SocketTimeout, BaseSSLError) \u001b[38;5;28;01mas\u001b[39;00m e:\n",
      "File \u001b[1;32mC:\\ProgramData\\anaconda3\\Lib\\site-packages\\urllib3\\connectionpool.py:1095\u001b[0m, in \u001b[0;36mHTTPSConnectionPool._validate_conn\u001b[1;34m(self, conn)\u001b[0m\n\u001b[0;32m   1094\u001b[0m \u001b[38;5;28;01mif\u001b[39;00m conn\u001b[38;5;241m.\u001b[39mis_closed:\n\u001b[1;32m-> 1095\u001b[0m     conn\u001b[38;5;241m.\u001b[39mconnect()\n\u001b[0;32m   1097\u001b[0m \u001b[38;5;66;03m# TODO revise this, see https://github.com/urllib3/urllib3/issues/2791\u001b[39;00m\n",
      "File \u001b[1;32mC:\\ProgramData\\anaconda3\\Lib\\site-packages\\urllib3\\connection.py:693\u001b[0m, in \u001b[0;36mHTTPSConnection.connect\u001b[1;34m(self)\u001b[0m\n\u001b[0;32m    692\u001b[0m sock: socket\u001b[38;5;241m.\u001b[39msocket \u001b[38;5;241m|\u001b[39m ssl\u001b[38;5;241m.\u001b[39mSSLSocket\n\u001b[1;32m--> 693\u001b[0m \u001b[38;5;28mself\u001b[39m\u001b[38;5;241m.\u001b[39msock \u001b[38;5;241m=\u001b[39m sock \u001b[38;5;241m=\u001b[39m \u001b[38;5;28mself\u001b[39m\u001b[38;5;241m.\u001b[39m_new_conn()\n\u001b[0;32m    694\u001b[0m server_hostname: \u001b[38;5;28mstr\u001b[39m \u001b[38;5;241m=\u001b[39m \u001b[38;5;28mself\u001b[39m\u001b[38;5;241m.\u001b[39mhost\n",
      "File \u001b[1;32mC:\\ProgramData\\anaconda3\\Lib\\site-packages\\urllib3\\connection.py:208\u001b[0m, in \u001b[0;36mHTTPConnection._new_conn\u001b[1;34m(self)\u001b[0m\n\u001b[0;32m    207\u001b[0m \u001b[38;5;28;01mexcept\u001b[39;00m SocketTimeout \u001b[38;5;28;01mas\u001b[39;00m e:\n\u001b[1;32m--> 208\u001b[0m     \u001b[38;5;28;01mraise\u001b[39;00m ConnectTimeoutError(\n\u001b[0;32m    209\u001b[0m         \u001b[38;5;28mself\u001b[39m,\n\u001b[0;32m    210\u001b[0m         \u001b[38;5;124mf\u001b[39m\u001b[38;5;124m\"\u001b[39m\u001b[38;5;124mConnection to \u001b[39m\u001b[38;5;132;01m{\u001b[39;00m\u001b[38;5;28mself\u001b[39m\u001b[38;5;241m.\u001b[39mhost\u001b[38;5;132;01m}\u001b[39;00m\u001b[38;5;124m timed out. (connect timeout=\u001b[39m\u001b[38;5;132;01m{\u001b[39;00m\u001b[38;5;28mself\u001b[39m\u001b[38;5;241m.\u001b[39mtimeout\u001b[38;5;132;01m}\u001b[39;00m\u001b[38;5;124m)\u001b[39m\u001b[38;5;124m\"\u001b[39m,\n\u001b[0;32m    211\u001b[0m     ) \u001b[38;5;28;01mfrom\u001b[39;00m \u001b[38;5;21;01me\u001b[39;00m\n\u001b[0;32m    213\u001b[0m \u001b[38;5;28;01mexcept\u001b[39;00m \u001b[38;5;167;01mOSError\u001b[39;00m \u001b[38;5;28;01mas\u001b[39;00m e:\n",
      "\u001b[1;31mConnectTimeoutError\u001b[0m: (<urllib3.connection.HTTPSConnection object at 0x0000022AA0CCA6C0>, 'Connection to www.cbr-xml-daily.ru timed out. (connect timeout=None)')",
      "\nThe above exception was the direct cause of the following exception:\n",
      "\u001b[1;31mMaxRetryError\u001b[0m                             Traceback (most recent call last)",
      "File \u001b[1;32mC:\\ProgramData\\anaconda3\\Lib\\site-packages\\requests\\adapters.py:667\u001b[0m, in \u001b[0;36mHTTPAdapter.send\u001b[1;34m(self, request, stream, timeout, verify, cert, proxies)\u001b[0m\n\u001b[0;32m    666\u001b[0m \u001b[38;5;28;01mtry\u001b[39;00m:\n\u001b[1;32m--> 667\u001b[0m     resp \u001b[38;5;241m=\u001b[39m conn\u001b[38;5;241m.\u001b[39murlopen(\n\u001b[0;32m    668\u001b[0m         method\u001b[38;5;241m=\u001b[39mrequest\u001b[38;5;241m.\u001b[39mmethod,\n\u001b[0;32m    669\u001b[0m         url\u001b[38;5;241m=\u001b[39murl,\n\u001b[0;32m    670\u001b[0m         body\u001b[38;5;241m=\u001b[39mrequest\u001b[38;5;241m.\u001b[39mbody,\n\u001b[0;32m    671\u001b[0m         headers\u001b[38;5;241m=\u001b[39mrequest\u001b[38;5;241m.\u001b[39mheaders,\n\u001b[0;32m    672\u001b[0m         redirect\u001b[38;5;241m=\u001b[39m\u001b[38;5;28;01mFalse\u001b[39;00m,\n\u001b[0;32m    673\u001b[0m         assert_same_host\u001b[38;5;241m=\u001b[39m\u001b[38;5;28;01mFalse\u001b[39;00m,\n\u001b[0;32m    674\u001b[0m         preload_content\u001b[38;5;241m=\u001b[39m\u001b[38;5;28;01mFalse\u001b[39;00m,\n\u001b[0;32m    675\u001b[0m         decode_content\u001b[38;5;241m=\u001b[39m\u001b[38;5;28;01mFalse\u001b[39;00m,\n\u001b[0;32m    676\u001b[0m         retries\u001b[38;5;241m=\u001b[39m\u001b[38;5;28mself\u001b[39m\u001b[38;5;241m.\u001b[39mmax_retries,\n\u001b[0;32m    677\u001b[0m         timeout\u001b[38;5;241m=\u001b[39mtimeout,\n\u001b[0;32m    678\u001b[0m         chunked\u001b[38;5;241m=\u001b[39mchunked,\n\u001b[0;32m    679\u001b[0m     )\n\u001b[0;32m    681\u001b[0m \u001b[38;5;28;01mexcept\u001b[39;00m (ProtocolError, \u001b[38;5;167;01mOSError\u001b[39;00m) \u001b[38;5;28;01mas\u001b[39;00m err:\n",
      "File \u001b[1;32mC:\\ProgramData\\anaconda3\\Lib\\site-packages\\urllib3\\connectionpool.py:843\u001b[0m, in \u001b[0;36mHTTPConnectionPool.urlopen\u001b[1;34m(self, method, url, body, headers, retries, redirect, assert_same_host, timeout, pool_timeout, release_conn, chunked, body_pos, preload_content, decode_content, **response_kw)\u001b[0m\n\u001b[0;32m    841\u001b[0m     new_e \u001b[38;5;241m=\u001b[39m ProtocolError(\u001b[38;5;124m\"\u001b[39m\u001b[38;5;124mConnection aborted.\u001b[39m\u001b[38;5;124m\"\u001b[39m, new_e)\n\u001b[1;32m--> 843\u001b[0m retries \u001b[38;5;241m=\u001b[39m retries\u001b[38;5;241m.\u001b[39mincrement(\n\u001b[0;32m    844\u001b[0m     method, url, error\u001b[38;5;241m=\u001b[39mnew_e, _pool\u001b[38;5;241m=\u001b[39m\u001b[38;5;28mself\u001b[39m, _stacktrace\u001b[38;5;241m=\u001b[39msys\u001b[38;5;241m.\u001b[39mexc_info()[\u001b[38;5;241m2\u001b[39m]\n\u001b[0;32m    845\u001b[0m )\n\u001b[0;32m    846\u001b[0m retries\u001b[38;5;241m.\u001b[39msleep()\n",
      "File \u001b[1;32mC:\\ProgramData\\anaconda3\\Lib\\site-packages\\urllib3\\util\\retry.py:519\u001b[0m, in \u001b[0;36mRetry.increment\u001b[1;34m(self, method, url, response, error, _pool, _stacktrace)\u001b[0m\n\u001b[0;32m    518\u001b[0m     reason \u001b[38;5;241m=\u001b[39m error \u001b[38;5;129;01mor\u001b[39;00m ResponseError(cause)\n\u001b[1;32m--> 519\u001b[0m     \u001b[38;5;28;01mraise\u001b[39;00m MaxRetryError(_pool, url, reason) \u001b[38;5;28;01mfrom\u001b[39;00m \u001b[38;5;21;01mreason\u001b[39;00m  \u001b[38;5;66;03m# type: ignore[arg-type]\u001b[39;00m\n\u001b[0;32m    521\u001b[0m log\u001b[38;5;241m.\u001b[39mdebug(\u001b[38;5;124m\"\u001b[39m\u001b[38;5;124mIncremented Retry for (url=\u001b[39m\u001b[38;5;124m'\u001b[39m\u001b[38;5;132;01m%s\u001b[39;00m\u001b[38;5;124m'\u001b[39m\u001b[38;5;124m): \u001b[39m\u001b[38;5;132;01m%r\u001b[39;00m\u001b[38;5;124m\"\u001b[39m, url, new_retry)\n",
      "\u001b[1;31mMaxRetryError\u001b[0m: HTTPSConnectionPool(host='www.cbr-xml-daily.ru', port=443): Max retries exceeded with url: /daily_json.js (Caused by ConnectTimeoutError(<urllib3.connection.HTTPSConnection object at 0x0000022AA0CCA6C0>, 'Connection to www.cbr-xml-daily.ru timed out. (connect timeout=None)'))",
      "\nDuring handling of the above exception, another exception occurred:\n",
      "\u001b[1;31mConnectTimeout\u001b[0m                            Traceback (most recent call last)",
      "Cell \u001b[1;32mIn[3], line 2\u001b[0m\n\u001b[0;32m      1\u001b[0m \u001b[38;5;28;01mimport\u001b[39;00m \u001b[38;5;21;01mrequests\u001b[39;00m\n\u001b[1;32m----> 2\u001b[0m r \u001b[38;5;241m=\u001b[39m requests\u001b[38;5;241m.\u001b[39mget(\u001b[38;5;124m'\u001b[39m\u001b[38;5;124mhttps://www.cbr-xml-daily.ru/daily_json.js\u001b[39m\u001b[38;5;124m'\u001b[39m)\n",
      "File \u001b[1;32mC:\\ProgramData\\anaconda3\\Lib\\site-packages\\requests\\api.py:73\u001b[0m, in \u001b[0;36mget\u001b[1;34m(url, params, **kwargs)\u001b[0m\n\u001b[0;32m     62\u001b[0m \u001b[38;5;28;01mdef\u001b[39;00m \u001b[38;5;21mget\u001b[39m(url, params\u001b[38;5;241m=\u001b[39m\u001b[38;5;28;01mNone\u001b[39;00m, \u001b[38;5;241m*\u001b[39m\u001b[38;5;241m*\u001b[39mkwargs):\n\u001b[0;32m     63\u001b[0m \u001b[38;5;250m    \u001b[39m\u001b[38;5;124mr\u001b[39m\u001b[38;5;124;03m\"\"\"Sends a GET request.\u001b[39;00m\n\u001b[0;32m     64\u001b[0m \n\u001b[0;32m     65\u001b[0m \u001b[38;5;124;03m    :param url: URL for the new :class:`Request` object.\u001b[39;00m\n\u001b[1;32m   (...)\u001b[0m\n\u001b[0;32m     70\u001b[0m \u001b[38;5;124;03m    :rtype: requests.Response\u001b[39;00m\n\u001b[0;32m     71\u001b[0m \u001b[38;5;124;03m    \"\"\"\u001b[39;00m\n\u001b[1;32m---> 73\u001b[0m     \u001b[38;5;28;01mreturn\u001b[39;00m request(\u001b[38;5;124m\"\u001b[39m\u001b[38;5;124mget\u001b[39m\u001b[38;5;124m\"\u001b[39m, url, params\u001b[38;5;241m=\u001b[39mparams, \u001b[38;5;241m*\u001b[39m\u001b[38;5;241m*\u001b[39mkwargs)\n",
      "File \u001b[1;32mC:\\ProgramData\\anaconda3\\Lib\\site-packages\\requests\\api.py:59\u001b[0m, in \u001b[0;36mrequest\u001b[1;34m(method, url, **kwargs)\u001b[0m\n\u001b[0;32m     55\u001b[0m \u001b[38;5;66;03m# By using the 'with' statement we are sure the session is closed, thus we\u001b[39;00m\n\u001b[0;32m     56\u001b[0m \u001b[38;5;66;03m# avoid leaving sockets open which can trigger a ResourceWarning in some\u001b[39;00m\n\u001b[0;32m     57\u001b[0m \u001b[38;5;66;03m# cases, and look like a memory leak in others.\u001b[39;00m\n\u001b[0;32m     58\u001b[0m \u001b[38;5;28;01mwith\u001b[39;00m sessions\u001b[38;5;241m.\u001b[39mSession() \u001b[38;5;28;01mas\u001b[39;00m session:\n\u001b[1;32m---> 59\u001b[0m     \u001b[38;5;28;01mreturn\u001b[39;00m session\u001b[38;5;241m.\u001b[39mrequest(method\u001b[38;5;241m=\u001b[39mmethod, url\u001b[38;5;241m=\u001b[39murl, \u001b[38;5;241m*\u001b[39m\u001b[38;5;241m*\u001b[39mkwargs)\n",
      "File \u001b[1;32mC:\\ProgramData\\anaconda3\\Lib\\site-packages\\requests\\sessions.py:589\u001b[0m, in \u001b[0;36mSession.request\u001b[1;34m(self, method, url, params, data, headers, cookies, files, auth, timeout, allow_redirects, proxies, hooks, stream, verify, cert, json)\u001b[0m\n\u001b[0;32m    584\u001b[0m send_kwargs \u001b[38;5;241m=\u001b[39m {\n\u001b[0;32m    585\u001b[0m     \u001b[38;5;124m\"\u001b[39m\u001b[38;5;124mtimeout\u001b[39m\u001b[38;5;124m\"\u001b[39m: timeout,\n\u001b[0;32m    586\u001b[0m     \u001b[38;5;124m\"\u001b[39m\u001b[38;5;124mallow_redirects\u001b[39m\u001b[38;5;124m\"\u001b[39m: allow_redirects,\n\u001b[0;32m    587\u001b[0m }\n\u001b[0;32m    588\u001b[0m send_kwargs\u001b[38;5;241m.\u001b[39mupdate(settings)\n\u001b[1;32m--> 589\u001b[0m resp \u001b[38;5;241m=\u001b[39m \u001b[38;5;28mself\u001b[39m\u001b[38;5;241m.\u001b[39msend(prep, \u001b[38;5;241m*\u001b[39m\u001b[38;5;241m*\u001b[39msend_kwargs)\n\u001b[0;32m    591\u001b[0m \u001b[38;5;28;01mreturn\u001b[39;00m resp\n",
      "File \u001b[1;32mC:\\ProgramData\\anaconda3\\Lib\\site-packages\\requests\\sessions.py:703\u001b[0m, in \u001b[0;36mSession.send\u001b[1;34m(self, request, **kwargs)\u001b[0m\n\u001b[0;32m    700\u001b[0m start \u001b[38;5;241m=\u001b[39m preferred_clock()\n\u001b[0;32m    702\u001b[0m \u001b[38;5;66;03m# Send the request\u001b[39;00m\n\u001b[1;32m--> 703\u001b[0m r \u001b[38;5;241m=\u001b[39m adapter\u001b[38;5;241m.\u001b[39msend(request, \u001b[38;5;241m*\u001b[39m\u001b[38;5;241m*\u001b[39mkwargs)\n\u001b[0;32m    705\u001b[0m \u001b[38;5;66;03m# Total elapsed time of the request (approximately)\u001b[39;00m\n\u001b[0;32m    706\u001b[0m elapsed \u001b[38;5;241m=\u001b[39m preferred_clock() \u001b[38;5;241m-\u001b[39m start\n",
      "File \u001b[1;32mC:\\ProgramData\\anaconda3\\Lib\\site-packages\\requests\\adapters.py:688\u001b[0m, in \u001b[0;36mHTTPAdapter.send\u001b[1;34m(self, request, stream, timeout, verify, cert, proxies)\u001b[0m\n\u001b[0;32m    685\u001b[0m \u001b[38;5;28;01mif\u001b[39;00m \u001b[38;5;28misinstance\u001b[39m(e\u001b[38;5;241m.\u001b[39mreason, ConnectTimeoutError):\n\u001b[0;32m    686\u001b[0m     \u001b[38;5;66;03m# TODO: Remove this in 3.0.0: see #2811\u001b[39;00m\n\u001b[0;32m    687\u001b[0m     \u001b[38;5;28;01mif\u001b[39;00m \u001b[38;5;129;01mnot\u001b[39;00m \u001b[38;5;28misinstance\u001b[39m(e\u001b[38;5;241m.\u001b[39mreason, NewConnectionError):\n\u001b[1;32m--> 688\u001b[0m         \u001b[38;5;28;01mraise\u001b[39;00m ConnectTimeout(e, request\u001b[38;5;241m=\u001b[39mrequest)\n\u001b[0;32m    690\u001b[0m \u001b[38;5;28;01mif\u001b[39;00m \u001b[38;5;28misinstance\u001b[39m(e\u001b[38;5;241m.\u001b[39mreason, ResponseError):\n\u001b[0;32m    691\u001b[0m     \u001b[38;5;28;01mraise\u001b[39;00m RetryError(e, request\u001b[38;5;241m=\u001b[39mrequest)\n",
      "\u001b[1;31mConnectTimeout\u001b[0m: HTTPSConnectionPool(host='www.cbr-xml-daily.ru', port=443): Max retries exceeded with url: /daily_json.js (Caused by ConnectTimeoutError(<urllib3.connection.HTTPSConnection object at 0x0000022AA0CCA6C0>, 'Connection to www.cbr-xml-daily.ru timed out. (connect timeout=None)'))"
     ]
    }
   ],
   "source": [
    "r = requests.get('https://www.cbr-xml-daily.ru/daily_json.js')"
   ]
  },
  {
   "cell_type": "code",
   "execution_count": null,
   "metadata": {},
   "outputs": [],
   "source": [
    "import requests\n",
    "Class AnyName\n",
    "\tdef __init___(self, currency_ = 'usd'):\n",
    "\t\tSelf.currency = currency_\n",
    "\tdef methd1(self):\n",
    "\t\tSelf.currency = 'usd'\n",
    "\t\t\n",
    "\tdef method2(self):\n",
    "\t\tPrint(self.currency)\n",
    "\t\t\n",
    "\tdef exch_rates(self):\n",
    "\t\tSelf.r = requests.get('https://www.cbr-xml-daily.ru/daily_json.js')\n",
    "\t\tReturn self.r.json()['Value']\n",
    "\n",
    "    def find_max(self):\n",
    "        for val in self.r:\n",
    "            if cur_max < currency:\n",
    "                cur_max = currency\n",
    "                cur_name = self."
   ]
  },
  {
   "cell_type": "markdown",
   "metadata": {},
   "source": [
    "### Регулярные выражения"
   ]
  },
  {
   "cell_type": "code",
   "execution_count": 2,
   "metadata": {},
   "outputs": [],
   "source": [
    "import re"
   ]
  },
  {
   "cell_type": "code",
   "execution_count": 104,
   "metadata": {},
   "outputs": [],
   "source": [
    "def check_car_id(str_car_id):\n",
    "    res = re.search(r'(\\[А|В|Е|К|М|Н|О|Р|С|Т|У|Х]\\d{3}\\[А|В|Е|К|М|Н|О|Р|С|Т|У|Х]{2})(\\d{2,3})', car_id)\n",
    "    if res != None:\n",
    "        str_mes = f'Номер {str_car_id} валиден. Регион: {res.group(2)}.'\n",
    "    else:\n",
    "        str_mes = 'Номер не валиден.'\n",
    "    return str_mes"
   ]
  },
  {
   "cell_type": "code",
   "execution_count": 105,
   "metadata": {},
   "outputs": [
    {
     "name": "stdout",
     "output_type": "stream",
     "text": [
      "Номер А222BС96 валиден. Регион: 96.\n",
      "Номер АБ22ВВ193 валиден. Регион: 193.\n"
     ]
    }
   ],
   "source": [
    "car_id = 'А222BС96'\n",
    "print(check_car_id(car_id))\n",
    "car_id = 'АБ22ВВ193'\n",
    "print(check_car_id(car_id))"
   ]
  },
  {
   "cell_type": "code",
   "execution_count": 99,
   "metadata": {},
   "outputs": [
    {
     "name": "stdout",
     "output_type": "stream",
     "text": [
      "Напишите функцию, которая будет удалять все последовательные повторы слов из заданной строки при помощи регулярных выражений\n"
     ]
    }
   ],
   "source": [
    "some_string = 'Напишите функцию функцию, которая будет будет будет будет удалять все все все все последовательные повторы слов из из из из заданной строки строки при помощи регулярных выражений'\n",
    "res = re.sub(r'\\b([^\\W\\d_]+)(\\s+\\1)+\\b', r'\\1', some_string)\n",
    "print(res)\n"
   ]
  },
  {
   "cell_type": "markdown",
   "metadata": {},
   "source": [
    "### Pandas"
   ]
  },
  {
   "cell_type": "code",
   "execution_count": 108,
   "metadata": {},
   "outputs": [],
   "source": [
    "import pandas as pd"
   ]
  },
  {
   "cell_type": "code",
   "execution_count": 117,
   "metadata": {},
   "outputs": [
    {
     "data": {
      "text/html": [
       "<div>\n",
       "<style scoped>\n",
       "    .dataframe tbody tr th:only-of-type {\n",
       "        vertical-align: middle;\n",
       "    }\n",
       "\n",
       "    .dataframe tbody tr th {\n",
       "        vertical-align: top;\n",
       "    }\n",
       "\n",
       "    .dataframe thead th {\n",
       "        text-align: right;\n",
       "    }\n",
       "</style>\n",
       "<table border=\"1\" class=\"dataframe\">\n",
       "  <thead>\n",
       "    <tr style=\"text-align: right;\">\n",
       "      <th></th>\n",
       "      <th>country</th>\n",
       "      <th>year</th>\n",
       "      <th>quantity</th>\n",
       "      <th>category</th>\n",
       "    </tr>\n",
       "  </thead>\n",
       "  <tbody>\n",
       "    <tr>\n",
       "      <th>0</th>\n",
       "      <td>Austria</td>\n",
       "      <td>1996</td>\n",
       "      <td>5.0</td>\n",
       "      <td>1</td>\n",
       "    </tr>\n",
       "    <tr>\n",
       "      <th>1</th>\n",
       "      <td>Austria</td>\n",
       "      <td>1995</td>\n",
       "      <td>17.0</td>\n",
       "      <td>1</td>\n",
       "    </tr>\n",
       "    <tr>\n",
       "      <th>2</th>\n",
       "      <td>Belgium</td>\n",
       "      <td>2014</td>\n",
       "      <td>0.0</td>\n",
       "      <td>1</td>\n",
       "    </tr>\n",
       "    <tr>\n",
       "      <th>3</th>\n",
       "      <td>Belgium</td>\n",
       "      <td>2013</td>\n",
       "      <td>0.0</td>\n",
       "      <td>1</td>\n",
       "    </tr>\n",
       "    <tr>\n",
       "      <th>4</th>\n",
       "      <td>Belgium</td>\n",
       "      <td>2012</td>\n",
       "      <td>35.0</td>\n",
       "      <td>1</td>\n",
       "    </tr>\n",
       "  </tbody>\n",
       "</table>\n",
       "</div>"
      ],
      "text/plain": [
       "   country  year  quantity  category\n",
       "0  Austria  1996       5.0         1\n",
       "1  Austria  1995      17.0         1\n",
       "2  Belgium  2014       0.0         1\n",
       "3  Belgium  2013       0.0         1\n",
       "4  Belgium  2012      35.0         1"
      ]
     },
     "execution_count": 117,
     "metadata": {},
     "output_type": "execute_result"
    }
   ],
   "source": [
    "df_power = pd.read_csv('power.csv')\n",
    "df_power.sort_values(by = 'country')['country'].unique()\n",
    "df_power.head()"
   ]
  },
  {
   "cell_type": "code",
   "execution_count": 128,
   "metadata": {},
   "outputs": [
    {
     "data": {
      "text/html": [
       "<div>\n",
       "<style scoped>\n",
       "    .dataframe tbody tr th:only-of-type {\n",
       "        vertical-align: middle;\n",
       "    }\n",
       "\n",
       "    .dataframe tbody tr th {\n",
       "        vertical-align: top;\n",
       "    }\n",
       "\n",
       "    .dataframe thead th {\n",
       "        text-align: right;\n",
       "    }\n",
       "</style>\n",
       "<table border=\"1\" class=\"dataframe\">\n",
       "  <thead>\n",
       "    <tr style=\"text-align: right;\">\n",
       "      <th></th>\n",
       "      <th>movieId</th>\n",
       "      <th>title</th>\n",
       "      <th>genres</th>\n",
       "    </tr>\n",
       "  </thead>\n",
       "  <tbody>\n",
       "    <tr>\n",
       "      <th>0</th>\n",
       "      <td>1</td>\n",
       "      <td>Toy Story (1995)</td>\n",
       "      <td>Adventure|Animation|Children|Comedy|Fantasy</td>\n",
       "    </tr>\n",
       "    <tr>\n",
       "      <th>1</th>\n",
       "      <td>2</td>\n",
       "      <td>Jumanji (1995)</td>\n",
       "      <td>Adventure|Children|Fantasy</td>\n",
       "    </tr>\n",
       "    <tr>\n",
       "      <th>2</th>\n",
       "      <td>3</td>\n",
       "      <td>Grumpier Old Men (1995)</td>\n",
       "      <td>Comedy|Romance</td>\n",
       "    </tr>\n",
       "    <tr>\n",
       "      <th>3</th>\n",
       "      <td>4</td>\n",
       "      <td>Waiting to Exhale (1995)</td>\n",
       "      <td>Comedy|Drama|Romance</td>\n",
       "    </tr>\n",
       "    <tr>\n",
       "      <th>4</th>\n",
       "      <td>5</td>\n",
       "      <td>Father of the Bride Part II (1995)</td>\n",
       "      <td>Comedy</td>\n",
       "    </tr>\n",
       "  </tbody>\n",
       "</table>\n",
       "</div>"
      ],
      "text/plain": [
       "   movieId                               title  \\\n",
       "0        1                    Toy Story (1995)   \n",
       "1        2                      Jumanji (1995)   \n",
       "2        3             Grumpier Old Men (1995)   \n",
       "3        4            Waiting to Exhale (1995)   \n",
       "4        5  Father of the Bride Part II (1995)   \n",
       "\n",
       "                                        genres  \n",
       "0  Adventure|Animation|Children|Comedy|Fantasy  \n",
       "1                   Adventure|Children|Fantasy  \n",
       "2                               Comedy|Romance  \n",
       "3                         Comedy|Drama|Romance  \n",
       "4                                       Comedy  "
      ]
     },
     "execution_count": 128,
     "metadata": {},
     "output_type": "execute_result"
    }
   ],
   "source": [
    "df_movies = pd.read_csv('movies.csv')\n",
    "df_movies.head()"
   ]
  },
  {
   "cell_type": "code",
   "execution_count": 137,
   "metadata": {},
   "outputs": [
    {
     "name": "stdout",
     "output_type": "stream",
     "text": [
      "<class 'pandas.core.frame.DataFrame'>\n",
      "RangeIndex: 100836 entries, 0 to 100835\n",
      "Data columns (total 4 columns):\n",
      " #   Column     Non-Null Count   Dtype  \n",
      "---  ------     --------------   -----  \n",
      " 0   userId     100836 non-null  int64  \n",
      " 1   movieId    100836 non-null  int64  \n",
      " 2   rating     100836 non-null  float64\n",
      " 3   timestamp  100836 non-null  int64  \n",
      "dtypes: float64(1), int64(3)\n",
      "memory usage: 3.1 MB\n"
     ]
    }
   ],
   "source": [
    "df_ratings = pd.read_csv('ratings.csv')\n",
    "df_ratings.info()"
   ]
  },
  {
   "cell_type": "code",
   "execution_count": 142,
   "metadata": {},
   "outputs": [
    {
     "data": {
      "text/html": [
       "<div>\n",
       "<style scoped>\n",
       "    .dataframe tbody tr th:only-of-type {\n",
       "        vertical-align: middle;\n",
       "    }\n",
       "\n",
       "    .dataframe tbody tr th {\n",
       "        vertical-align: top;\n",
       "    }\n",
       "\n",
       "    .dataframe thead th {\n",
       "        text-align: right;\n",
       "    }\n",
       "</style>\n",
       "<table border=\"1\" class=\"dataframe\">\n",
       "  <thead>\n",
       "    <tr style=\"text-align: right;\">\n",
       "      <th></th>\n",
       "      <th>movieId</th>\n",
       "      <th>title</th>\n",
       "      <th>genres</th>\n",
       "      <th>userId</th>\n",
       "      <th>rating</th>\n",
       "      <th>timestamp</th>\n",
       "    </tr>\n",
       "  </thead>\n",
       "  <tbody>\n",
       "    <tr>\n",
       "      <th>0</th>\n",
       "      <td>1</td>\n",
       "      <td>Toy Story (1995)</td>\n",
       "      <td>Adventure|Animation|Children|Comedy|Fantasy</td>\n",
       "      <td>1</td>\n",
       "      <td>4.0</td>\n",
       "      <td>964982703</td>\n",
       "    </tr>\n",
       "    <tr>\n",
       "      <th>1</th>\n",
       "      <td>1</td>\n",
       "      <td>Toy Story (1995)</td>\n",
       "      <td>Adventure|Animation|Children|Comedy|Fantasy</td>\n",
       "      <td>5</td>\n",
       "      <td>4.0</td>\n",
       "      <td>847434962</td>\n",
       "    </tr>\n",
       "    <tr>\n",
       "      <th>2</th>\n",
       "      <td>1</td>\n",
       "      <td>Toy Story (1995)</td>\n",
       "      <td>Adventure|Animation|Children|Comedy|Fantasy</td>\n",
       "      <td>7</td>\n",
       "      <td>4.5</td>\n",
       "      <td>1106635946</td>\n",
       "    </tr>\n",
       "    <tr>\n",
       "      <th>3</th>\n",
       "      <td>1</td>\n",
       "      <td>Toy Story (1995)</td>\n",
       "      <td>Adventure|Animation|Children|Comedy|Fantasy</td>\n",
       "      <td>15</td>\n",
       "      <td>2.5</td>\n",
       "      <td>1510577970</td>\n",
       "    </tr>\n",
       "    <tr>\n",
       "      <th>4</th>\n",
       "      <td>1</td>\n",
       "      <td>Toy Story (1995)</td>\n",
       "      <td>Adventure|Animation|Children|Comedy|Fantasy</td>\n",
       "      <td>17</td>\n",
       "      <td>4.5</td>\n",
       "      <td>1305696483</td>\n",
       "    </tr>\n",
       "  </tbody>\n",
       "</table>\n",
       "</div>"
      ],
      "text/plain": [
       "   movieId             title                                       genres  \\\n",
       "0        1  Toy Story (1995)  Adventure|Animation|Children|Comedy|Fantasy   \n",
       "1        1  Toy Story (1995)  Adventure|Animation|Children|Comedy|Fantasy   \n",
       "2        1  Toy Story (1995)  Adventure|Animation|Children|Comedy|Fantasy   \n",
       "3        1  Toy Story (1995)  Adventure|Animation|Children|Comedy|Fantasy   \n",
       "4        1  Toy Story (1995)  Adventure|Animation|Children|Comedy|Fantasy   \n",
       "\n",
       "   userId  rating   timestamp  \n",
       "0       1     4.0   964982703  \n",
       "1       5     4.0   847434962  \n",
       "2       7     4.5  1106635946  \n",
       "3      15     2.5  1510577970  \n",
       "4      17     4.5  1305696483  "
      ]
     },
     "execution_count": 142,
     "metadata": {},
     "output_type": "execute_result"
    }
   ],
   "source": [
    "df_m_r = df_movies.merge(df_ratings, on = 'movieId')\n",
    "df_m_r.head()"
   ]
  },
  {
   "cell_type": "code",
   "execution_count": 151,
   "metadata": {},
   "outputs": [
    {
     "data": {
      "text/plain": [
       "title\n",
       "Shawshank Redemption, The (1994)    153\n",
       "Name: rating, dtype: int64"
      ]
     },
     "execution_count": 151,
     "metadata": {},
     "output_type": "execute_result"
    }
   ],
   "source": [
    "df_m_r[df_m_r['rating'] == 5.0].groupby(['title'])['rating'].count().sort_values(ascending = False).head(1)"
   ]
  },
  {
   "cell_type": "code",
   "execution_count": 125,
   "metadata": {},
   "outputs": [
    {
     "data": {
      "text/plain": [
       "240580.0"
      ]
     },
     "execution_count": 125,
     "metadata": {},
     "output_type": "execute_result"
    }
   ],
   "source": [
    "# str_query = '(country  \"Estonia\" or \"Latvia\" or \"Lithuania\") and ('category')\n",
    "df_power[(df_power['country'].isin([\"Estonia\", \"Latvia\", \"Lithuania\"])) & (df_power['category'].isin([4, 12, 21])) & (df_power['year'].between(2005, 2010)) & (df_power['quantity'] >= 0)]['quantity'].sum()\n",
    "# df_power.query(str_query)"
   ]
  }
 ],
 "metadata": {
  "kernelspec": {
   "display_name": "Python 3 (ipykernel)",
   "language": "python",
   "name": "python3"
  },
  "language_info": {
   "codemirror_mode": {
    "name": "ipython",
    "version": 3
   },
   "file_extension": ".py",
   "mimetype": "text/x-python",
   "name": "python",
   "nbconvert_exporter": "python",
   "pygments_lexer": "ipython3",
   "version": "3.12.7"
  }
 },
 "nbformat": 4,
 "nbformat_minor": 4
}
