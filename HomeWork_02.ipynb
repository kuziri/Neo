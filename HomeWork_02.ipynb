{
 "cells": [
  {
   "cell_type": "code",
   "execution_count": 1,
   "metadata": {},
   "outputs": [
    {
     "name": "stdout",
     "output_type": "stream",
     "text": [
      "\n",
      "Получилось!\n"
     ]
    }
   ],
   "source": [
    "import math\n",
    "def result(word: str) -> str:\n",
    "    word_len = len(word)\n",
    "    if word_len % 2 == 0:\n",
    "        symbols = word[math.floor(word_len / 2 - 1)] + word[math.floor(word_len / 2)]\n",
    "    else:\n",
    "        symbols = word[math.floor(word_len / 2)]\n",
    "    return symbols\n",
    "\n",
    "if __name__ == '__main__':\n",
    "    assert result('test') == 'es'\n",
    "    assert result('testing') == 't'\n",
    "    print(\"\\nПолучилось!\")"
   ]
  },
  {
   "cell_type": "code",
   "execution_count": 2,
   "metadata": {},
   "outputs": [
    {
     "ename": "AssertionError",
     "evalue": "",
     "output_type": "error",
     "traceback": [
      "\u001b[1;31m---------------------------------------------------------------------------\u001b[0m",
      "\u001b[1;31mAssertionError\u001b[0m                            Traceback (most recent call last)",
      "\u001b[1;32m<ipython-input-2-bde86c2e8e6e>\u001b[0m in \u001b[0;36m<module>\u001b[1;34m\u001b[0m\n\u001b[0;32m     11\u001b[0m \u001b[1;33m\u001b[0m\u001b[0m\n\u001b[0;32m     12\u001b[0m \u001b[1;32mif\u001b[0m \u001b[0m__name__\u001b[0m \u001b[1;33m==\u001b[0m \u001b[1;34m'__main__'\u001b[0m\u001b[1;33m:\u001b[0m\u001b[1;33m\u001b[0m\u001b[1;33m\u001b[0m\u001b[0m\n\u001b[1;32m---> 13\u001b[1;33m     assert result(['Peter', 'Alex', 'John', 'Arthur', 'Richard'], ['Kate', 'Liza', 'Kira', 'Emma', 'Trisha']) == \"\"\"Идеальные пары:\n\u001b[0m\u001b[0;32m     14\u001b[0m \u001b[0mAlex\u001b[0m \u001b[0mи\u001b[0m \u001b[0mEmma\u001b[0m\u001b[1;33m\u001b[0m\u001b[1;33m\u001b[0m\u001b[0m\n\u001b[0;32m     15\u001b[0m \u001b[0mArthur\u001b[0m \u001b[0mи\u001b[0m \u001b[0mKate\u001b[0m\u001b[1;33m\u001b[0m\u001b[1;33m\u001b[0m\u001b[0m\n",
      "\u001b[1;31mAssertionError\u001b[0m: "
     ]
    }
   ],
   "source": [
    "def result(boys, girls: list) -> str:\n",
    "    if len(boys) == len(girls):\n",
    "        boys = sorted(boys)\n",
    "        girls = sorted(girls)\n",
    "        message_str = 'Идеальные пары:'\n",
    "        for i in range(1, len(boys)):\n",
    "            message_str = message_str + \"\\n\" + boys[i] + ' и ' + girls[i]\n",
    "    else:\n",
    "        message_str = 'Внимание, кто-то может остаться без пары!'\n",
    "    return message_str\n",
    "\n",
    "if __name__ == '__main__':\n",
    "    assert result(['Peter', 'Alex', 'John', 'Arthur', 'Richard'], ['Kate', 'Liza', 'Kira', 'Emma', 'Trisha']) == \"\"\"Идеальные пары:\n",
    "Alex и Emma\n",
    "Arthur и Kate\n",
    "John и Kira\n",
    "Peter и Liza\n",
    "Richard и Trisha\"\"\"\n",
    "    assert result(['Peter', 'Alex', 'John', 'Arthur', 'Richard', 'Michael'], ['Kate', 'Liza', 'Kira', 'Emma', 'Trisha']) == 'Внимание, кто-то может остаться без пары!'\n",
    "    print(\"\\nПолучилось!\")"
   ]
  }
 ],
 "metadata": {
  "kernelspec": {
   "display_name": "Python 3",
   "language": "python",
   "name": "python3"
  },
  "language_info": {
   "codemirror_mode": {
    "name": "ipython",
    "version": 3
   },
   "file_extension": ".py",
   "mimetype": "text/x-python",
   "name": "python",
   "nbconvert_exporter": "python",
   "pygments_lexer": "ipython3",
   "version": "3.8.3"
  }
 },
 "nbformat": 4,
 "nbformat_minor": 4
}
